{
 "cells": [
  {
   "cell_type": "code",
   "execution_count": null,
   "metadata": {},
   "outputs": [],
   "source": [
    "import pandas as pd\n",
    "import seaborn as sns\n",
    "import matplotlib.pyplot as plt\n",
    "from apyori import apriori\n",
    "import random\n",
    "from sklearn.linear_model import LinearRegression\n",
    "import statsmodels.formula.api as smf\n",
    "import matplotlib.pyplot as plt\n",
    "%matplotlib inline"
   ]
  },
  {
   "cell_type": "code",
   "execution_count": null,
   "metadata": {},
   "outputs": [],
   "source": [
    "path =\"600092_data.csv\" "
   ]
  },
  {
   "cell_type": "markdown",
   "metadata": {},
   "source": [
    "# Data exploration phase"
   ]
  },
  {
   "cell_type": "markdown",
   "metadata": {},
   "source": [
    "During this period, a brief overview of what is contained in our legacy data is observed and weighed in regard to its respective attribute"
   ]
  },
  {
   "cell_type": "code",
   "execution_count": null,
   "metadata": {},
   "outputs": [],
   "source": [
    "df = pd.read_csv(path, encoding = 'utf-8')"
   ]
  },
  {
   "cell_type": "code",
   "execution_count": null,
   "metadata": {},
   "outputs": [],
   "source": [
    "df"
   ]
  },
  {
   "cell_type": "markdown",
   "metadata": {},
   "source": [
    "## Expected data types"
   ]
  },
  {
   "cell_type": "markdown",
   "metadata": {},
   "source": [
    "Data attributes for each column are displayed below:\n",
    "\n",
    "* Random column - Real numbers(all unique)\n",
    "* ID column - Real numbers(all unique but duplicates allowed)\n",
    "* Indication - string/object type (4 nominal values)\"ASx, A-F,CVA,TIA\"\n",
    "* Diabetes - string/object type(2 nominal values)\"yes, no\"\n",
    "* IHD - string/object type(2 nominal values)\"yes, no\"\n",
    "* Hypertension - string/object type(2 nominal values)\"yes, no\"\n",
    "* Arrhythmia - string/object type(2 nominal values)\"yes, no\"\n",
    "* History - string/object type(2 nominal values)\"yes, no\"\n",
    "* IPSI - float type(0 - 100)\n",
    "* Contra - float type(0 - 100)\n",
    "* label - string/object type(2 nominal values)\"risk,no risk\""
   ]
  },
  {
   "cell_type": "markdown",
   "metadata": {},
   "source": [
    "## Data Quality Insights"
   ]
  },
  {
   "cell_type": "markdown",
   "metadata": {},
   "source": [
    "### Null values"
   ]
  },
  {
   "cell_type": "markdown",
   "metadata": {},
   "source": [
    "Data is checked for missing values and mismatches depending on its respected attribute.\n",
    "One of the assumptions made during this stage is that there arent supposed to be any null values in the legacy data. Missing values in the database will be regarded as unclean data and will need to be cleaned."
   ]
  },
  {
   "cell_type": "code",
   "execution_count": null,
   "metadata": {},
   "outputs": [],
   "source": [
    "var = df['label']\n",
    "var.isnull().sum()"
   ]
  },
  {
   "cell_type": "code",
   "execution_count": null,
   "metadata": {},
   "outputs": [],
   "source": [
    "var = df['Hypertension']\n",
    "var.isnull().sum()"
   ]
  },
  {
   "cell_type": "code",
   "execution_count": null,
   "metadata": {},
   "outputs": [],
   "source": [
    "var = df['IPSI']\n",
    "var.isnull().sum()"
   ]
  },
  {
   "cell_type": "code",
   "execution_count": null,
   "metadata": {},
   "outputs": [],
   "source": [
    "var = df['Contra']\n",
    "var.isnull().sum()"
   ]
  },
  {
   "cell_type": "code",
   "execution_count": null,
   "metadata": {},
   "outputs": [],
   "source": [
    "var = df['Arrhythmia']\n",
    "var.isnull().sum()"
   ]
  },
  {
   "cell_type": "code",
   "execution_count": null,
   "metadata": {},
   "outputs": [],
   "source": [
    "var = df['Id']\n",
    "var.isnull().sum()"
   ]
  },
  {
   "cell_type": "code",
   "execution_count": null,
   "metadata": {},
   "outputs": [],
   "source": [
    "var = df['Random']\n",
    "var.isnull().sum()"
   ]
  },
  {
   "cell_type": "code",
   "execution_count": null,
   "metadata": {},
   "outputs": [],
   "source": [
    "var = df['Indication']\n",
    "var.isnull().sum()"
   ]
  },
  {
   "cell_type": "code",
   "execution_count": null,
   "metadata": {},
   "outputs": [],
   "source": [
    "var = df['Diabetes']\n",
    "var.isnull().sum()"
   ]
  },
  {
   "cell_type": "code",
   "execution_count": null,
   "metadata": {},
   "outputs": [],
   "source": [
    "var = df['IHD']\n",
    "var.isnull().sum()"
   ]
  },
  {
   "cell_type": "code",
   "execution_count": null,
   "metadata": {},
   "outputs": [],
   "source": [
    "var = df['History']\n",
    "var.isnull().sum()"
   ]
  },
  {
   "cell_type": "markdown",
   "metadata": {},
   "source": [
    "#### Data evaluation"
   ]
  },
  {
   "cell_type": "markdown",
   "metadata": {},
   "source": [
    "There were prescence of null values in the IPSI, Contra, Indication, Hypertension, Diabetes and History indicating unclean data"
   ]
  },
  {
   "cell_type": "markdown",
   "metadata": {},
   "source": [
    "### Data type mismatch"
   ]
  },
  {
   "cell_type": "code",
   "execution_count": null,
   "metadata": {},
   "outputs": [],
   "source": [
    "df['IPSI'].describe()"
   ]
  },
  {
   "cell_type": "code",
   "execution_count": null,
   "metadata": {},
   "outputs": [],
   "source": [
    "df['History'].describe()"
   ]
  },
  {
   "cell_type": "code",
   "execution_count": null,
   "metadata": {},
   "outputs": [],
   "source": [
    "df['Hypertension'].describe()"
   ]
  },
  {
   "cell_type": "code",
   "execution_count": null,
   "metadata": {},
   "outputs": [],
   "source": [
    "df['Indication'].describe()"
   ]
  },
  {
   "cell_type": "code",
   "execution_count": null,
   "metadata": {},
   "outputs": [],
   "source": [
    "df['Id'].describe()"
   ]
  },
  {
   "cell_type": "code",
   "execution_count": null,
   "metadata": {},
   "outputs": [],
   "source": [
    "df['Diabetes'].describe()"
   ]
  },
  {
   "cell_type": "code",
   "execution_count": null,
   "metadata": {},
   "outputs": [],
   "source": [
    "df['Arrhythmia'].describe()"
   ]
  },
  {
   "cell_type": "code",
   "execution_count": null,
   "metadata": {},
   "outputs": [],
   "source": [
    "df['label'].describe()"
   ]
  },
  {
   "cell_type": "code",
   "execution_count": null,
   "metadata": {},
   "outputs": [],
   "source": [
    "df['Contra'].describe()"
   ]
  },
  {
   "cell_type": "code",
   "execution_count": null,
   "metadata": {},
   "outputs": [],
   "source": [
    "df['Random'].describe()"
   ]
  },
  {
   "cell_type": "markdown",
   "metadata": {},
   "source": [
    "#### Data evaluation"
   ]
  },
  {
   "cell_type": "markdown",
   "metadata": {},
   "source": [
    "As per the data displayed above, there is a data mismatch in the contra attribute. This is because the expected data type was to be a float but it returned an object data type. The other attributes match their respective data type correctly"
   ]
  },
  {
   "cell_type": "markdown",
   "metadata": {},
   "source": [
    "### Data description mismatch"
   ]
  },
  {
   "cell_type": "code",
   "execution_count": null,
   "metadata": {},
   "outputs": [],
   "source": [
    "f =  df.duplicated(subset='Random', keep=False)\n",
    "t = True\n",
    "\n",
    "for item in f:\n",
    "    if item == t:\n",
    "        print(\"yes\")\n",
    "        break\n"
   ]
  },
  {
   "cell_type": "markdown",
   "metadata": {},
   "source": [
    "The code above shows that there is a presence of duplicate values in the random column. This does not match with the random attribute description"
   ]
  },
  {
   "cell_type": "code",
   "execution_count": null,
   "metadata": {},
   "outputs": [],
   "source": [
    "df['Indication'].describe()"
   ]
  },
  {
   "cell_type": "markdown",
   "metadata": {},
   "source": [
    "Code above shows an extra nominal value in the indication column. This is not expected as this goes against the data description for indication as only 4 nominal values are expected"
   ]
  },
  {
   "cell_type": "markdown",
   "metadata": {},
   "source": [
    "# Data preparation phase"
   ]
  },
  {
   "cell_type": "markdown",
   "metadata": {},
   "source": [
    "During this stage data is cleaned so that it can be used in a model to predict the mortality of a patient"
   ]
  },
  {
   "cell_type": "code",
   "execution_count": null,
   "metadata": {},
   "outputs": [],
   "source": [
    "f =  df.duplicated(subset='Random', keep=False)\n",
    "count = -1\n",
    "count3 = 0\n",
    "List = []\n",
    "t = True\n",
    "for x in f:\n",
    "    count= count + 1\n",
    "    if(x==t):\n",
    "        ##print(x, count)\n",
    "        List.append(count)\n",
    "        count3 = count3 + 1"
   ]
  },
  {
   "cell_type": "code",
   "execution_count": null,
   "metadata": {},
   "outputs": [],
   "source": [
    "sns.catplot('Indication', data = df, kind='count' )"
   ]
  },
  {
   "cell_type": "code",
   "execution_count": null,
   "metadata": {},
   "outputs": [],
   "source": [
    "sns.catplot('Indication', data = df, kind='count')"
   ]
  },
  {
   "cell_type": "markdown",
   "metadata": {},
   "source": [
    "# DATA NEEDS CLEANING AT ASX"
   ]
  },
  {
   "cell_type": "code",
   "execution_count": null,
   "metadata": {},
   "outputs": [],
   "source": [
    "df['Indication'] = df['Indication'].replace(['Asx'], 'ASx')"
   ]
  },
  {
   "cell_type": "code",
   "execution_count": null,
   "metadata": {},
   "outputs": [],
   "source": [
    "for index, row in df.iterrows(): \n",
    "     if ((row[\"Indication\"])== \"Asx\"):\n",
    "       print(row[\"Indication\"])"
   ]
  },
  {
   "cell_type": "code",
   "execution_count": null,
   "metadata": {},
   "outputs": [],
   "source": [
    "sns.catplot('Indication', data = df, kind='count', hue = 'IHD')"
   ]
  },
  {
   "cell_type": "markdown",
   "metadata": {},
   "source": [
    "# DID MY FIRSTCLEANING XD"
   ]
  },
  {
   "cell_type": "code",
   "execution_count": null,
   "metadata": {},
   "outputs": [],
   "source": [
    "df['Indication'].isnull().sum()"
   ]
  },
  {
   "cell_type": "code",
   "execution_count": null,
   "metadata": {},
   "outputs": [],
   "source": [
    "df.describe()"
   ]
  },
  {
   "cell_type": "code",
   "execution_count": null,
   "metadata": {},
   "outputs": [],
   "source": [
    "df1 = df[df.isna().any(axis=1)]\n",
    "print (df1)"
   ]
  },
  {
   "cell_type": "markdown",
   "metadata": {},
   "source": [
    "##Filling nan in ipsi\n"
   ]
  },
  {
   "cell_type": "code",
   "execution_count": null,
   "metadata": {},
   "outputs": [],
   "source": [
    "##check for duplicate vals\n",
    "for x in  df.duplicated(subset='Random', keep=False):\n",
    "    if x == 'True':\n",
    "        print(x)"
   ]
  },
  {
   "cell_type": "code",
   "execution_count": null,
   "metadata": {},
   "outputs": [],
   "source": [
    "f =  df.duplicated(subset='Random', keep=False)\n",
    "type(f)"
   ]
  },
  {
   "cell_type": "code",
   "execution_count": null,
   "metadata": {},
   "outputs": [],
   "source": [
    "print(f)"
   ]
  },
  {
   "cell_type": "code",
   "execution_count": null,
   "metadata": {},
   "outputs": [],
   "source": [
    "count = -1\n",
    "count3 = 0\n",
    "List = []\n",
    "t = True\n",
    "for x in f:\n",
    "    count= count + 1\n",
    "    if(x==t):\n",
    "        ##print(x, count)\n",
    "        List.append(count)\n",
    "        count3 = count3 + 1"
   ]
  },
  {
   "cell_type": "code",
   "execution_count": null,
   "metadata": {
    "scrolled": true
   },
   "outputs": [],
   "source": [
    "List2 = []\n",
    "for index, row in df.iterrows():\n",
    "    if index in List:\n",
    "        List2.append(row)"
   ]
  },
  {
   "cell_type": "code",
   "execution_count": null,
   "metadata": {},
   "outputs": [],
   "source": [
    "List2"
   ]
  },
  {
   "cell_type": "code",
   "execution_count": null,
   "metadata": {},
   "outputs": [],
   "source": [
    "List"
   ]
  },
  {
   "cell_type": "code",
   "execution_count": null,
   "metadata": {},
   "outputs": [],
   "source": [
    "\n",
    "List3 = []\n",
    "for item in List2:\n",
    "    randomNumber = random.uniform(0, 1)\n",
    "    if randomNumber != df['Random'].count():\n",
    "        List3.append(randomNumber)\n",
    "        item['Random'] = randomNumber\n",
    "        print(item)"
   ]
  },
  {
   "cell_type": "code",
   "execution_count": null,
   "metadata": {},
   "outputs": [],
   "source": [
    "##refer each random number to index\n",
    "##i wanna loop through each index(list) and random number(list3) at the same time\n",
    "counter1 = 0\n",
    "for item in List:\n",
    "    x = df.loc[item,:]\n",
    "    x.values[0]=List3[counter1]\n",
    "    df.loc[item,:] = x\n",
    "    counter1 = counter1 + 1\n",
    "    print(x)"
   ]
  },
  {
   "cell_type": "code",
   "execution_count": null,
   "metadata": {},
   "outputs": [],
   "source": [
    " y = df.loc[63,:]"
   ]
  },
  {
   "cell_type": "code",
   "execution_count": null,
   "metadata": {},
   "outputs": [],
   "source": [
    "y"
   ]
  },
  {
   "cell_type": "code",
   "execution_count": null,
   "metadata": {},
   "outputs": [],
   "source": [
    "y.values[0] = 1"
   ]
  },
  {
   "cell_type": "code",
   "execution_count": null,
   "metadata": {},
   "outputs": [],
   "source": [
    "y.values[0]"
   ]
  },
  {
   "cell_type": "code",
   "execution_count": null,
   "metadata": {},
   "outputs": [],
   "source": [
    "df"
   ]
  },
  {
   "cell_type": "code",
   "execution_count": null,
   "metadata": {},
   "outputs": [],
   "source": [
    "df.loc[8,:]"
   ]
  },
  {
   "cell_type": "code",
   "execution_count": null,
   "metadata": {},
   "outputs": [],
   "source": [
    "df.loc[10,:]"
   ]
  },
  {
   "cell_type": "code",
   "execution_count": null,
   "metadata": {},
   "outputs": [],
   "source": [
    "List"
   ]
  },
  {
   "cell_type": "code",
   "execution_count": null,
   "metadata": {},
   "outputs": [],
   "source": [
    "f =  df.duplicated(subset='Random', keep=False)\n",
    "count = -1\n",
    "count2 = 0\n",
    "List = []\n",
    "t = True\n",
    "for x in f:\n",
    "    count= count + 1\n",
    "    if(x==t):\n",
    "        count2 = count2 + 1\n",
    "        print(x, count)\n",
    "        List.append(count)"
   ]
  },
  {
   "cell_type": "code",
   "execution_count": null,
   "metadata": {},
   "outputs": [],
   "source": [
    "count2"
   ]
  },
  {
   "cell_type": "code",
   "execution_count": null,
   "metadata": {},
   "outputs": [],
   "source": [
    "count3"
   ]
  },
  {
   "cell_type": "code",
   "execution_count": null,
   "metadata": {},
   "outputs": [],
   "source": [
    "diabetes  = df['Diabetes']"
   ]
  },
  {
   "cell_type": "code",
   "execution_count": null,
   "metadata": {},
   "outputs": [],
   "source": [
    "diabetes"
   ]
  },
  {
   "cell_type": "code",
   "execution_count": null,
   "metadata": {},
   "outputs": [],
   "source": [
    "j = diabetes.notnull()"
   ]
  },
  {
   "cell_type": "code",
   "execution_count": null,
   "metadata": {},
   "outputs": [],
   "source": [
    "\n",
    "count = -1\n",
    "count2 = 0\n",
    "List = []\n",
    "t = False\n",
    "for x in j:\n",
    "    count= count + 1\n",
    "    if(x==t):\n",
    "        count2 = count2 + 1\n",
    "        List.append(count)\n",
    "        "
   ]
  },
  {
   "cell_type": "markdown",
   "metadata": {},
   "source": [
    "# transform ipsi and contra into nominal values"
   ]
  },
  {
   "cell_type": "code",
   "execution_count": null,
   "metadata": {},
   "outputs": [],
   "source": [
    "contra = df['Contra']"
   ]
  },
  {
   "cell_type": "code",
   "execution_count": null,
   "metadata": {},
   "outputs": [],
   "source": [
    "contra"
   ]
  },
  {
   "cell_type": "code",
   "execution_count": null,
   "metadata": {},
   "outputs": [],
   "source": [
    "ipsi = df['IPSI']"
   ]
  },
  {
   "cell_type": "code",
   "execution_count": null,
   "metadata": {},
   "outputs": [],
   "source": [
    "type (contra)"
   ]
  },
  {
   "cell_type": "code",
   "execution_count": null,
   "metadata": {},
   "outputs": [],
   "source": [
    "##transforming contras to floats\n",
    "counter1 = 0\n",
    "for item in contra:\n",
    "    x = df.loc[counter1,:]\n",
    "    if(x.values[9]== \" \"):\n",
    "        x.values[9] = \"0.0\"\n",
    "    \n",
    "    x.values[9]=float(x.values[9])\n",
    "    df.loc[counter1,:] = x\n",
    "    counter1 = counter1 + 1"
   ]
  },
  {
   "cell_type": "code",
   "execution_count": null,
   "metadata": {},
   "outputs": [],
   "source": [
    "plt.boxplot(df.Contra.fillna(0))"
   ]
  },
  {
   "cell_type": "code",
   "execution_count": null,
   "metadata": {},
   "outputs": [],
   "source": [
    "plt.boxplot(df.IPSI.fillna(0))"
   ]
  },
  {
   "cell_type": "markdown",
   "metadata": {},
   "source": [
    "# RANGE FOR IPSI AND CONTRA FOR ASSOCIATION"
   ]
  },
  {
   "cell_type": "code",
   "execution_count": null,
   "metadata": {},
   "outputs": [],
   "source": [
    "##llmao i dont need a boxplt. do ipsi.describe\n",
    "ipsi.describe()"
   ]
  },
  {
   "cell_type": "code",
   "execution_count": null,
   "metadata": {},
   "outputs": [],
   "source": [
    "df['Contra'].describe()"
   ]
  },
  {
   "cell_type": "code",
   "execution_count": null,
   "metadata": {},
   "outputs": [],
   "source": []
  },
  {
   "cell_type": "code",
   "execution_count": null,
   "metadata": {},
   "outputs": [],
   "source": [
    "##as per data description\n",
    "ipsi_rng = []\n",
    "COUNT = 0\n",
    "for item in ipsi:\n",
    "    if 0<= item<=73:\n",
    "        x = str(\"Low\")\n",
    "        ipsi[COUNT] = x\n",
    "    elif 74<= item<=84:\n",
    "        x = str(\"Medium\")\n",
    "        ipsi[COUNT] = x\n",
    "    elif item>=85:\n",
    "        x = str(\"High\")\n",
    "        ipsi[COUNT] = x\n",
    "    COUNT = COUNT + 1"
   ]
  },
  {
   "cell_type": "code",
   "execution_count": null,
   "metadata": {},
   "outputs": [],
   "source": [
    "df['IPSI'] = ipsi"
   ]
  },
  {
   "cell_type": "code",
   "execution_count": null,
   "metadata": {},
   "outputs": [],
   "source": [
    "df"
   ]
  },
  {
   "cell_type": "code",
   "execution_count": null,
   "metadata": {},
   "outputs": [],
   "source": [
    "contra = df['Contra']\n",
    "COUNT = 0\n",
    "for item in contra:\n",
    "    if 0<= item<=49:\n",
    "        x = str(\"Low Contra\")\n",
    "        contra[COUNT] = x\n",
    "    elif 50<= item<=80:\n",
    "        x = str(\"Medium Contra\")\n",
    "        contra[COUNT] = x\n",
    "    elif item>=81:\n",
    "        x = str(\"High Contra\")\n",
    "        contra[COUNT] = x\n",
    "    COUNT = COUNT + 1"
   ]
  },
  {
   "cell_type": "code",
   "execution_count": null,
   "metadata": {},
   "outputs": [],
   "source": [
    "df['Contra']= contra"
   ]
  },
  {
   "cell_type": "code",
   "execution_count": null,
   "metadata": {},
   "outputs": [],
   "source": [
    "arr = df['Arrhythmia']\n",
    "hypertension = df['Hypertension']\n",
    "ihd = df['IHD']\n",
    "hist = df['History']"
   ]
  },
  {
   "cell_type": "code",
   "execution_count": null,
   "metadata": {},
   "outputs": [],
   "source": [
    "c = 0\n",
    "for item in arr:\n",
    "    if item == \"no\":\n",
    "        arr[c] = \"no arrhymia\"\n",
    "    elif item == \"yes\":\n",
    "        arr[c] = \"yes arrhymia\"\n",
    "    c = c + 1  \n",
    "    \n",
    "c = 0\n",
    "for item in hypertension:\n",
    "    if item == \"no\":\n",
    "        hypertension[c] = \"no hypertension\"\n",
    "    elif item == \"yes\":\n",
    "        hypertension[c] = \"yes hypertension\"\n",
    "    c = c + 1 \n",
    "    \n",
    "c = 0\n",
    "for item in ihd:\n",
    "    if item == \"no\":\n",
    "        ihd[c] = \"no ihd\"\n",
    "    elif item == \"yes\":\n",
    "        ihd[c] = \"yes ihd\"\n",
    "    c = c + 1 \n",
    "    \n",
    "c = 0\n",
    "for item in hist:\n",
    "    if item == \"no\":\n",
    "        hist[c] = \"no history\"\n",
    "    elif item == \"yes\":\n",
    "        hist[c] = \"yes history\"\n",
    "    c = c + 1 \n",
    "    \n"
   ]
  },
  {
   "cell_type": "code",
   "execution_count": null,
   "metadata": {},
   "outputs": [],
   "source": [
    "df['Arrhythmia'] = arr\n",
    "df['IHD'] = ihd\n",
    "df['Hypertension'] = hypertension\n",
    "df['History'] = hist"
   ]
  },
  {
   "cell_type": "code",
   "execution_count": null,
   "metadata": {},
   "outputs": [],
   "source": [
    "df"
   ]
  },
  {
   "cell_type": "markdown",
   "metadata": {},
   "source": [
    "# Now for association. values to consider are basically all nominal values which have a NaN"
   ]
  },
  {
   "cell_type": "code",
   "execution_count": null,
   "metadata": {},
   "outputs": [],
   "source": [
    "##84 combinations\n",
    "##20!/(8!(20-8)!) = 125970 combinations\n"
   ]
  },
  {
   "cell_type": "code",
   "execution_count": null,
   "metadata": {},
   "outputs": [],
   "source": [
    "\n",
    "ass= pd.DataFrame(ihd)\n",
    "ass['contra'] = contra\n",
    "ass['History'] = hist\n",
    "ass['Hypertension'] = hypertension\n",
    "ass['ipsi'] = ipsi\n",
    "ass['indication'] = df['Indication']\n",
    "ass['diabetes'] = df['Diabetes']\n",
    "ass['arrhymia'] = df['Arrhythmia']"
   ]
  },
  {
   "cell_type": "code",
   "execution_count": null,
   "metadata": {},
   "outputs": [],
   "source": [
    "ass"
   ]
  },
  {
   "cell_type": "code",
   "execution_count": null,
   "metadata": {},
   "outputs": [],
   "source": [
    "ass_list = ass.values.tolist()"
   ]
  },
  {
   "cell_type": "code",
   "execution_count": null,
   "metadata": {},
   "outputs": [],
   "source": [
    "ass_list"
   ]
  },
  {
   "cell_type": "code",
   "execution_count": null,
   "metadata": {},
   "outputs": [],
   "source": [
    "records = []\n",
    "for record in ass_list:\n",
    "    new_item = pd.Series(record).dropna().values.tolist()\n",
    "    records.append(new_item)\n",
    "    print(new_item)"
   ]
  },
  {
   "cell_type": "code",
   "execution_count": null,
   "metadata": {},
   "outputs": [],
   "source": [
    "\n",
    "asso_rules = list( apriori(records, min_support = 0.004, min_confidence = 0.2,min_lift = 4,min_length = 5))"
   ]
  },
  {
   "cell_type": "code",
   "execution_count": null,
   "metadata": {},
   "outputs": [],
   "source": [
    "print(f\"No of rules: {len(asso_rules)}\\n\")\n",
    "for rule in asso_rules:\n",
    "    print(rule)"
   ]
  },
  {
   "cell_type": "code",
   "execution_count": null,
   "metadata": {},
   "outputs": [],
   "source": [
    "asso_rules[0]"
   ]
  },
  {
   "cell_type": "code",
   "execution_count": null,
   "metadata": {},
   "outputs": [],
   "source": [
    "\n",
    "def print_rules(asso_rules):\n",
    "    for r in asso_rules:\n",
    "        print(len(r.ordered_statistics))\n",
    "     \n",
    "        for outcome in list (r.ordered_statistics):\n",
    "            x = str(outcome.items_add)\n",
    "            if(x ==\"frozenset({'yes'})\"):\n",
    "                print(\"Rule: \"+\", \".join(outcome.items_base ), end = \" \")\n",
    "                print(\"->\" + \", \".join(outcome.items_add))\n",
    "                print(\"Support: \" + str( r. support))\n",
    "                print(\"Confidence: \"+ str(outcome.confidence))\n",
    "                print(\"Lift: \"+ str(outcome.lift))\n",
    "                print(x)\n",
    "                print(\"====================================\")\n",
    "               "
   ]
  },
  {
   "cell_type": "markdown",
   "metadata": {},
   "source": [
    "# diabetes null val"
   ]
  },
  {
   "cell_type": "code",
   "execution_count": null,
   "metadata": {},
   "outputs": [],
   "source": [
    "df2 = pd.read_csv(path, encoding = 'utf-8')\n",
    "db2 = df2['Diabetes']\n",
    "x = db2.isnull().sum()\n",
    "y = db2.isnull()\n",
    "\n",
    "c = 0\n",
    "t = True\n",
    "value = []\n",
    "for item in y:\n",
    "    if(item == t):\n",
    "      value.append(c)\n",
    "    c = c + 1\n",
    "\n",
    "print(value)\n",
    "db_null = df.loc[447,:]\n",
    "db_null1 = df.loc[514,:]\n",
    "\n",
    "db_null1"
   ]
  },
  {
   "cell_type": "code",
   "execution_count": null,
   "metadata": {},
   "outputs": [],
   "source": [
    "db_null\n",
    "##using "
   ]
  },
  {
   "cell_type": "code",
   "execution_count": null,
   "metadata": {},
   "outputs": [],
   "source": [
    "print_rules(asso_rules)"
   ]
  },
  {
   "cell_type": "code",
   "execution_count": null,
   "metadata": {},
   "outputs": [],
   "source": [
    "d = df['Diabetes'].isnull()"
   ]
  },
  {
   "cell_type": "code",
   "execution_count": null,
   "metadata": {},
   "outputs": [],
   "source": [
    "diabetes_null_locations = []\n",
    "c = 0\n",
    "t = True\n",
    "for item in d:\n",
    "    if(item == t):\n",
    "        diabetes_null_locations.append(c)\n",
    "        print(c)\n",
    "        \n",
    "    c = c + 1"
   ]
  },
  {
   "cell_type": "code",
   "execution_count": null,
   "metadata": {},
   "outputs": [],
   "source": [
    "diabetes_null_locations\n",
    "for val in diabetes_null_locations:\n",
    "    print(df.loc[val,:])"
   ]
  },
  {
   "cell_type": "code",
   "execution_count": null,
   "metadata": {},
   "outputs": [],
   "source": [
    "##regresssion model. transform diabetes into one hot\n",
    "##measure it against ipsi and contra\n"
   ]
  },
  {
   "cell_type": "code",
   "execution_count": null,
   "metadata": {},
   "outputs": [],
   "source": [
    "d = df['Diabetes']\n",
    "c = 0\n",
    "for item in d:\n",
    "    if item == \"yes\":\n",
    "        d[c] = 1\n",
    "    elif item == \"no\":\n",
    "        d[c] = 0\n",
    "    else:\n",
    "        d[c] = 0\n",
    "    c = c + 1\n",
    "    \n",
    "df['Diabetes'] = d"
   ]
  },
  {
   "cell_type": "code",
   "execution_count": null,
   "metadata": {},
   "outputs": [],
   "source": [
    "df"
   ]
  },
  {
   "cell_type": "code",
   "execution_count": null,
   "metadata": {},
   "outputs": [],
   "source": [
    "df1 = pd.read_csv(path, encoding = 'utf-8')"
   ]
  },
  {
   "cell_type": "code",
   "execution_count": null,
   "metadata": {},
   "outputs": [],
   "source": [
    "df1['Diabetes'] = d\n"
   ]
  },
  {
   "cell_type": "code",
   "execution_count": null,
   "metadata": {},
   "outputs": [],
   "source": [
    "df1"
   ]
  },
  {
   "cell_type": "code",
   "execution_count": null,
   "metadata": {},
   "outputs": [],
   "source": [
    "counter1 = 0\n",
    "contra = df1['Contra']\n",
    "for item in contra:\n",
    "    x = df1.loc[counter1,:]\n",
    "    if(x.values[9]== \" \"):\n",
    "        x.values[9] = \"0.0\"\n",
    "    \n",
    "    x.values[9]=float(x.values[9])\n",
    "    df1.loc[counter1,:] = x\n",
    "    counter1 = counter1 + 1"
   ]
  },
  {
   "cell_type": "code",
   "execution_count": null,
   "metadata": {},
   "outputs": [],
   "source": [
    "df1['IPSI'].fillna(0)"
   ]
  },
  {
   "cell_type": "code",
   "execution_count": null,
   "metadata": {},
   "outputs": [],
   "source": [
    "df1['Contra'].fillna(0)"
   ]
  },
  {
   "cell_type": "code",
   "execution_count": null,
   "metadata": {},
   "outputs": [],
   "source": [
    "df1['Contra']"
   ]
  },
  {
   "cell_type": "code",
   "execution_count": null,
   "metadata": {},
   "outputs": [],
   "source": [
    "df1"
   ]
  },
  {
   "cell_type": "code",
   "execution_count": null,
   "metadata": {},
   "outputs": [],
   "source": [
    "reg = smf.ols(formula = \"IPSI ~ Diabetes\", data = df1).fit()\n",
    "reg.summary()"
   ]
  },
  {
   "cell_type": "code",
   "execution_count": null,
   "metadata": {},
   "outputs": [],
   "source": [
    "import numpy as np\n",
    "plt.scatter(df1.Diabetes, df1.IPSI, marker = \"+\")\n",
    "plt.plot([0, 1], [np.mean(df1.query('Diabetes == 0').IPSI), np.mean(df1.query('Diabetes == 1').IPSI)], 'r--')\n",
    "plt.ylabel(\"IPSI\")\n",
    "plt.xlabel(\"Diabetes\")\n",
    "plt.show()"
   ]
  },
  {
   "cell_type": "code",
   "execution_count": null,
   "metadata": {},
   "outputs": [],
   "source": [
    "##the higher the level of ipsi the higher the chances of getting diabetes?\n",
    "##doesnt seem significant though..\n",
    "\n",
    "\n",
    "plt.scatter(df1.Diabetes, df1.Contra, marker = \"+\")\n",
    "plt.plot([0, 1], [np.mean(df1.query('Diabetes == 0').Contra), np.mean(df1.query('Diabetes == 1').Contra)], 'r--')\n",
    "plt.ylabel(\"Contra\")\n",
    "plt.xlabel(\"Diabetes\")\n",
    "plt.show()"
   ]
  },
  {
   "cell_type": "code",
   "execution_count": null,
   "metadata": {},
   "outputs": [],
   "source": [
    "##the higher the level of contra there is a much higher the chances of getting diabetes?\n",
    "##seem to be more significant..\n",
    "##db null is more likely to have diabetes due to high ipsi and contra as per regression model\n",
    "db_null"
   ]
  },
  {
   "cell_type": "code",
   "execution_count": null,
   "metadata": {},
   "outputs": [],
   "source": [
    "db_null1\n",
    "##db null1 is less likely to have diabetes due to lower contra and ipsi as per regression model\n",
    "##use \"value\" to locate and replace null values for diabetes"
   ]
  },
  {
   "cell_type": "code",
   "execution_count": null,
   "metadata": {},
   "outputs": [],
   "source": [
    "df2['Arrhythmia'].isnull().sum()\n",
    "##history(fixed)\n",
    "##diabetes(fixed)\n",
    "##indication(3)\n",
    "##IHD(0)\n",
    "##Hypertension(fixed)\n",
    "##Arrhythmia(0)\n"
   ]
  },
  {
   "cell_type": "code",
   "execution_count": null,
   "metadata": {},
   "outputs": [],
   "source": [
    "df2"
   ]
  },
  {
   "cell_type": "markdown",
   "metadata": {},
   "source": [
    "# History Fix"
   ]
  },
  {
   "cell_type": "code",
   "execution_count": null,
   "metadata": {},
   "outputs": [],
   "source": [
    "df2['Contra'].describe()"
   ]
  },
  {
   "cell_type": "code",
   "execution_count": null,
   "metadata": {},
   "outputs": [],
   "source": [
    "df1"
   ]
  },
  {
   "cell_type": "code",
   "execution_count": null,
   "metadata": {},
   "outputs": [],
   "source": [
    "reg = smf.ols(formula = \"Contra ~ Diabetes\", data = df1).fit()\n",
    "reg.summary()\n"
   ]
  },
  {
   "cell_type": "code",
   "execution_count": null,
   "metadata": {},
   "outputs": [],
   "source": [
    "d = df1['History']\n",
    "c = 0\n",
    "for item in d:\n",
    "    if item == \"yes\":\n",
    "        d[c] = 1\n",
    "    elif item == \"no\":\n",
    "        d[c] = 0\n",
    "    else:\n",
    "        d[c] = 0\n",
    "    c = c + 1\n",
    "    \n",
    "df1['History'] = d\n",
    "\n",
    "\n",
    "plt.scatter(df1.History, df1.IPSI, marker = \"+\")\n",
    "plt.plot([0, 1], [np.mean(df1.query('History == 0').IPSI), np.mean(df1.query('History == 1').IPSI)], 'r--')\n",
    "plt.ylabel(\"IPSI\")\n",
    "plt.xlabel(\"History\")\n",
    "plt.show()"
   ]
  },
  {
   "cell_type": "code",
   "execution_count": null,
   "metadata": {},
   "outputs": [],
   "source": [
    "plt.scatter(df1.History, df1.Contra, marker = \"+\")\n",
    "plt.plot([0, 1], [np.mean(df1.query('History == 0').Contra), np.mean(df1.query('History == 1').Contra)], 'r--')\n",
    "plt.ylabel(\"Contra\")\n",
    "plt.xlabel(\"History\")\n",
    "plt.show()\n",
    "\n",
    "##more likely to have history of heart disease if contra s high"
   ]
  },
  {
   "cell_type": "code",
   "execution_count": null,
   "metadata": {},
   "outputs": [],
   "source": [
    "h = df2['History']\n",
    "h"
   ]
  },
  {
   "cell_type": "code",
   "execution_count": null,
   "metadata": {},
   "outputs": [],
   "source": [
    "h = df2['Diabetes'].isnull()\n",
    "History_nulls = []\n",
    "c = 0\n",
    "t =True\n",
    "for item in h:\n",
    "    if item == t:\n",
    "        History_nulls.append(c)\n",
    "    c = c + 1"
   ]
  },
  {
   "cell_type": "code",
   "execution_count": null,
   "metadata": {},
   "outputs": [],
   "source": [
    "History_nulls"
   ]
  },
  {
   "cell_type": "code",
   "execution_count": null,
   "metadata": {},
   "outputs": [],
   "source": [
    "df2.loc[447,:]\n",
    "##more likely to have a history due to high contra"
   ]
  },
  {
   "cell_type": "code",
   "execution_count": null,
   "metadata": {},
   "outputs": [],
   "source": [
    "df2.loc[514,:]\n",
    "##less likely to have history due to low contra"
   ]
  },
  {
   "cell_type": "code",
   "execution_count": null,
   "metadata": {},
   "outputs": [],
   "source": [
    "##do for ass"
   ]
  },
  {
   "cell_type": "markdown",
   "metadata": {},
   "source": [
    "# Hypertension fix"
   ]
  },
  {
   "cell_type": "code",
   "execution_count": null,
   "metadata": {},
   "outputs": [],
   "source": [
    "d = df1['Hypertension']\n",
    "c = 0\n",
    "for item in d:\n",
    "    if item == \"yes\":\n",
    "        d[c] = 1\n",
    "    elif item == \"no\":\n",
    "        d[c] = 0\n",
    "    else:\n",
    "        d[c] = 0\n",
    "    c = c + 1\n",
    "    \n",
    "df1['Hypertension'] = d\n",
    "\n",
    "\n",
    "plt.scatter(df1.Hypertension, df1.IPSI, marker = \"+\")\n",
    "plt.plot([0, 1], [np.mean(df1.query('Hypertension == 0').IPSI), np.mean(df1.query('Hypertension == 1').IPSI)], 'r--')\n",
    "plt.ylabel(\"IPSI\")\n",
    "plt.xlabel(\"Hypertension\")\n",
    "plt.show()"
   ]
  },
  {
   "cell_type": "code",
   "execution_count": null,
   "metadata": {},
   "outputs": [],
   "source": [
    "plt.scatter(df1.Hypertension, df1.Contra, marker = \"+\")\n",
    "plt.plot([0, 1], [np.mean(df1.query('Hypertension == 0').Contra), np.mean(df1.query('Hypertension == 1').Contra)], 'r--')\n",
    "plt.ylabel(\"Contra\")\n",
    "plt.xlabel(\"Hypertension\")\n",
    "plt.show()\n",
    "\n",
    "##seems to be equally distributed\n",
    "##associattion"
   ]
  },
  {
   "cell_type": "code",
   "execution_count": null,
   "metadata": {},
   "outputs": [],
   "source": [
    "def print_rules(asso_rules):\n",
    "    for r in asso_rules:\n",
    "        print(len(r.ordered_statistics))\n",
    "     \n",
    "        for outcome in list (r.ordered_statistics):\n",
    "                x = str(outcome.items_add)\n",
    "                ##if(x ==\"frozenset({'yes hypertension'})\"):\n",
    "                print(\"Rule: \"+\", \".join(outcome.items_base ), end = \" \")\n",
    "                print(\"->\" + \", \".join(outcome.items_add))\n",
    "                print(\"Support: \" + str( r. support))\n",
    "                print(\"Confidence: \"+ str(outcome.confidence))\n",
    "                print(\"Lift: \"+ str(outcome.lift))\n",
    "                print(x)\n",
    "                print(\"====================================\")\n",
    "               "
   ]
  },
  {
   "cell_type": "code",
   "execution_count": null,
   "metadata": {},
   "outputs": [],
   "source": [
    "print_rules(asso_rules)"
   ]
  },
  {
   "cell_type": "code",
   "execution_count": null,
   "metadata": {},
   "outputs": [],
   "source": [
    "df1"
   ]
  },
  {
   "cell_type": "code",
   "execution_count": null,
   "metadata": {},
   "outputs": [],
   "source": [
    "df1['IPSI'].describe()"
   ]
  },
  {
   "cell_type": "code",
   "execution_count": null,
   "metadata": {},
   "outputs": [],
   "source": [
    "##ipsi and contra dont give a proper overview hence outliers.\n",
    "plt.scatter(df1.Hypertension, df1.History, marker = \"+\")\n",
    "plt.plot([0, 1], [np.mean(df1.query('Hypertension == 0').History), np.mean(df1.query('Hypertension == 1').History)], 'r--')\n",
    "plt.ylabel(\"History\")\n",
    "plt.xlabel(\"Hypertension\")\n",
    "plt.show()"
   ]
  },
  {
   "cell_type": "markdown",
   "metadata": {},
   "source": [
    "# #Arrhythmia vs Hypertension"
   ]
  },
  {
   "cell_type": "code",
   "execution_count": null,
   "metadata": {},
   "outputs": [],
   "source": [
    "df9 = pd.read_csv(path, encoding = 'utf-8')\n",
    "d = df9['Arrhythmia']\n",
    "c = 0\n",
    "for item in d:\n",
    "    if item == \"yes\":\n",
    "        d[c] = 1\n",
    "    else:\n",
    "        d[c] = 0\n",
    "    c = c + 1\n",
    "    \n",
    "df9['Arrhythmia'] = d\n",
    "df9['Hypertension'] = df1['Hypertension']\n",
    "plt.scatter(df9.Hypertension, df9.Arrhythmia, marker = \"+\")\n",
    "plt.plot([0, 1], [np.mean(df9.query('Hypertension == 0').Arrhythmia), np.mean(df9.query('Hypertension == 1').Arrhythmia)], 'r--')\n",
    "plt.ylabel(\"Arrhythmia\")\n",
    "plt.xlabel(\"Hypertension\")\n",
    "plt.show()"
   ]
  },
  {
   "cell_type": "markdown",
   "metadata": {},
   "source": [
    "# IHD VS Hypertension"
   ]
  },
  {
   "cell_type": "code",
   "execution_count": null,
   "metadata": {},
   "outputs": [],
   "source": [
    "df9 = pd.read_csv(path, encoding = 'utf-8')\n",
    "d = df9['IHD']\n",
    "c = 0\n",
    "for item in d:\n",
    "    if item == \"yes\":\n",
    "        d[c] = 1\n",
    "    else:\n",
    "        d[c] = 0\n",
    "    c = c + 1\n",
    "    \n",
    "df9['IHD'] = d\n",
    "df9['Hypertension'] = df1['Hypertension']\n",
    "plt.scatter(df9.Hypertension, df9.IHD, marker = \"+\")\n",
    "plt.plot([0, 1], [np.mean(df9.query('Hypertension == 0').IHD), np.mean(df9.query('Hypertension == 1').IHD)], 'r--')\n",
    "plt.ylabel(\"IHD\")\n",
    "plt.xlabel(\"Hypertension\")\n",
    "plt.show()"
   ]
  },
  {
   "cell_type": "markdown",
   "metadata": {},
   "source": [
    "# A-F VS Hypertension"
   ]
  },
  {
   "cell_type": "code",
   "execution_count": null,
   "metadata": {},
   "outputs": [],
   "source": [
    "##A-F\n",
    "##TIA\n",
    "##CVA\n",
    "##ASx\n",
    "d = df1['Indication']\n",
    "c = 0\n",
    "for item in d:\n",
    "    if item == \"A-F\":\n",
    "        d[c] = 1\n",
    "    else:\n",
    "        d[c] = 0\n",
    "    c = c + 1\n",
    "    \n",
    "df1['Indication'] = d\n",
    "\n",
    "plt.scatter(df1.Hypertension, df1.Indication, marker = \"+\")\n",
    "plt.plot([0, 1], [np.mean(df1.query('Hypertension == 0').Indication), np.mean(df1.query('Hypertension == 1').Indication)], 'r--')\n",
    "plt.ylabel(\"A-F\")\n",
    "plt.xlabel(\"Hypertension\")\n",
    "plt.show()"
   ]
  },
  {
   "cell_type": "markdown",
   "metadata": {},
   "source": [
    "# TIA VS Hypertension"
   ]
  },
  {
   "cell_type": "code",
   "execution_count": null,
   "metadata": {},
   "outputs": [],
   "source": [
    "df4 = pd.read_csv(path, encoding = 'utf-8')\n",
    "d = df4['Indication']\n",
    "c = 0\n",
    "for item in d:\n",
    "    if item == \"TIA\":\n",
    "        d[c] = 1\n",
    "    else:\n",
    "        d[c] = 0\n",
    "    c = c + 1\n",
    "    \n",
    "df4['Indication'] = d\n",
    "df4['Hypertension'] = df1['Hypertension']\n",
    "plt.scatter(df4.Hypertension, df4.Indication, marker = \"+\")\n",
    "plt.plot([0, 1], [np.mean(df4.query('Hypertension == 0').Indication), np.mean(df4.query('Hypertension == 1').Indication)], 'r--')\n",
    "plt.ylabel(\"TIA\")\n",
    "plt.xlabel(\"Hypertension\")\n",
    "plt.show()"
   ]
  },
  {
   "cell_type": "markdown",
   "metadata": {},
   "source": [
    "# CVA VS Hypertension"
   ]
  },
  {
   "cell_type": "code",
   "execution_count": null,
   "metadata": {},
   "outputs": [],
   "source": [
    "df5 = pd.read_csv(path, encoding = 'utf-8')\n",
    "d = df5['Indication']\n",
    "c = 0\n",
    "for item in d:\n",
    "    if item == \"CVA\":\n",
    "        d[c] = 1\n",
    "    else:\n",
    "        d[c] = 0\n",
    "    c = c + 1\n",
    "    \n",
    "df5['Indication'] = d\n",
    "df5['Hypertension'] = df1['Hypertension']\n",
    "plt.scatter(df4.Hypertension, df4.Indication, marker = \"+\")\n",
    "plt.plot([0, 1], [np.mean(df5.query('Hypertension == 0').Indication), np.mean(df5.query('Hypertension == 1').Indication)], 'r--')\n",
    "plt.ylabel(\"CVA\")\n",
    "plt.xlabel(\"Hypertension\")\n",
    "plt.show()"
   ]
  },
  {
   "cell_type": "markdown",
   "metadata": {},
   "source": [
    "# ASx VS Hypertension"
   ]
  },
  {
   "cell_type": "code",
   "execution_count": null,
   "metadata": {},
   "outputs": [],
   "source": [
    "df6 = pd.read_csv(path, encoding = 'utf-8')\n",
    "d = df6['Indication']\n",
    "c = 0\n",
    "for item in d:\n",
    "    if item == \"ASx\":\n",
    "        d[c] = 1\n",
    "    else:\n",
    "        d[c] = 0\n",
    "    c = c + 1\n",
    "    \n",
    "df6['Indication'] = d\n",
    "df6['Hypertension'] = df1['Hypertension']\n",
    "plt.scatter(df6.Hypertension, df6.Indication, marker = \"+\")\n",
    "plt.plot([0, 1], [np.mean(df6.query('Hypertension == 0').Indication), np.mean(df6.query('Hypertension == 1').Indication)], 'r--')\n",
    "plt.ylabel(\"ASx\")\n",
    "plt.xlabel(\"Hypertension\")\n",
    "plt.show()"
   ]
  },
  {
   "cell_type": "code",
   "execution_count": null,
   "metadata": {},
   "outputs": [],
   "source": [
    "##affected slightly by cva, having af lowers chances of hypertension,a higher contra increases chances of having hyertension\n",
    "##having ihd and arrhythmia significantly increases chances of hypertension\n",
    "\n",
    "df2 = pd.read_csv(path, encoding = 'utf-8')\n",
    "db2 = df2['Hypertension']\n",
    "x = db2.isnull().sum()\n",
    "y = db2.isnull()\n",
    "\n",
    "c = 0\n",
    "t = True\n",
    "value = []\n",
    "for item in y:\n",
    "    if(item == t):\n",
    "      value.append(c)\n",
    "    c = c + 1\n",
    "\n",
    "print(value)\n"
   ]
  },
  {
   "cell_type": "code",
   "execution_count": null,
   "metadata": {},
   "outputs": [],
   "source": [
    "db_null = df2.loc[201,:]\n",
    "db_null1 = df2.loc[590,:]\n",
    "db_null2 = df2.loc[983,:]\n",
    "db_null\n",
    "\n",
    "##likely to have Hypertension due to arrhythmia and high contra"
   ]
  },
  {
   "cell_type": "code",
   "execution_count": null,
   "metadata": {},
   "outputs": [],
   "source": [
    "db_null1\n",
    "##less likely for Hypertension "
   ]
  },
  {
   "cell_type": "code",
   "execution_count": null,
   "metadata": {},
   "outputs": [],
   "source": [
    "db_null2\n",
    "##less likely for Hypertension"
   ]
  },
  {
   "cell_type": "markdown",
   "metadata": {},
   "source": [
    "# Contra and ipsi impute"
   ]
  },
  {
   "cell_type": "code",
   "execution_count": null,
   "metadata": {},
   "outputs": [],
   "source": [
    "\n",
    "df2 = pd.read_csv(path, encoding = 'utf-8')\n",
    "x = df2['IPSI'].fillna(df2['IPSI'].mean())"
   ]
  },
  {
   "cell_type": "code",
   "execution_count": null,
   "metadata": {},
   "outputs": [],
   "source": [
    "x.isnull().sum()"
   ]
  },
  {
   "cell_type": "code",
   "execution_count": null,
   "metadata": {},
   "outputs": [],
   "source": [
    "df2['IPSI'].isnull().sum()"
   ]
  },
  {
   "cell_type": "code",
   "execution_count": null,
   "metadata": {},
   "outputs": [],
   "source": [
    "x.describe()"
   ]
  },
  {
   "cell_type": "code",
   "execution_count": null,
   "metadata": {},
   "outputs": [],
   "source": [
    "df2['IPSI'].describe()"
   ]
  },
  {
   "cell_type": "code",
   "execution_count": null,
   "metadata": {},
   "outputs": [],
   "source": [
    "df2['IPSI'] = x"
   ]
  },
  {
   "cell_type": "code",
   "execution_count": null,
   "metadata": {},
   "outputs": [],
   "source": [
    "df2['IPSI'].isnull().sum()"
   ]
  },
  {
   "cell_type": "code",
   "execution_count": null,
   "metadata": {},
   "outputs": [],
   "source": [
    "F = None\n",
    "counter1 = 0\n",
    "contra = df2['Contra']\n",
    "for item in contra:\n",
    "    x = df2.loc[counter1,:]\n",
    "    if(x.values[9]== \" \"):\n",
    "        x.values[9] = 0\n",
    "    else:\n",
    "        x.values[9]=float(x.values[9])\n",
    "        df2.loc[counter1,:] = x\n",
    "    counter1 = counter1 + 1\n",
    "    "
   ]
  },
  {
   "cell_type": "code",
   "execution_count": null,
   "metadata": {},
   "outputs": [],
   "source": [
    "c = df2['Contra']"
   ]
  },
  {
   "cell_type": "code",
   "execution_count": null,
   "metadata": {},
   "outputs": [],
   "source": [
    "c.describe()"
   ]
  },
  {
   "cell_type": "code",
   "execution_count": null,
   "metadata": {},
   "outputs": [],
   "source": []
  }
 ],
 "metadata": {
  "kernelspec": {
   "display_name": "Python 3",
   "language": "python",
   "name": "python3"
  },
  "language_info": {
   "codemirror_mode": {
    "name": "ipython",
    "version": 3
   },
   "file_extension": ".py",
   "mimetype": "text/x-python",
   "name": "python",
   "nbconvert_exporter": "python",
   "pygments_lexer": "ipython3",
   "version": "3.7.4"
  }
 },
 "nbformat": 4,
 "nbformat_minor": 2
}
