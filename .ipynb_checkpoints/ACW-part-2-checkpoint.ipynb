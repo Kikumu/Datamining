{
 "cells": [
  {
   "cell_type": "code",
   "execution_count": 1,
   "metadata": {},
   "outputs": [],
   "source": [
    "##imports all required libraries\n",
    "import pandas as pd\n",
    "import seaborn as sns\n",
    "import matplotlib.pyplot as plt\n",
    "#from apyori import apriori\n",
    "import random\n",
    "import matplotlib.pyplot as plt\n",
    "from sklearn import svm, preprocessing\n",
    "from sklearn.neighbors import KNeighborsClassifier\n",
    "from sklearn import neighbors\n",
    "from sklearn import metrics\n",
    "%matplotlib inline"
   ]
  },
  {
   "cell_type": "code",
   "execution_count": 2,
   "metadata": {},
   "outputs": [],
   "source": [
    "path =\"600092_data.csv\" \n",
    "df = pd.read_csv(path, encoding = 'utf-8')\n",
    "\n",
    "df_copy1 = df.copy()##used for cleaning\n",
    "df_copy2 = df.copy()##cleaned model for 1.0\n",
    "df_copy4 = df.copy()##cleaned model for 2.0\n",
    "df_copy6 = df.copy()##cleaned model for 3.0\n",
    "\n",
    "##df is the original dataframe"
   ]
  },
  {
   "cell_type": "code",
   "execution_count": 3,
   "metadata": {},
   "outputs": [],
   "source": [
    "#Percentage for Truth table results\n",
    "def truth_table_percentages(clf):\n",
    "    true_positives = 0\n",
    "    false_positives = 0\n",
    "    true_negatives = 0\n",
    "    false_negatives = 0\n",
    "    for X, y in zip (X_test, y_test):\n",
    "        if (clf.predict([X])[0]) == 2 and y == 2:\n",
    "            true_negatives+=1\n",
    "        elif (clf.predict([X])[0]) == 1 and y == 2:\n",
    "            false_negatives+=1\n",
    "        elif (clf.predict([X])[0]) == 1 and y == 1:\n",
    "            true_positives+=1\n",
    "        elif (clf.predict([X])[0]) == 2 and y == 1:\n",
    "            false_positives+=1\n",
    "\n",
    "\n",
    "    total = true_positives + false_positives + true_negatives + false_negatives\n",
    "    print(f\"Total Test Cases: {total}\\n\\n\")\n",
    "    \n",
    "    if (true_positives != 0):\n",
    "        tp = true_positives/total*100\n",
    "    if (false_positives != 0):\n",
    "        fp = false_positives/total*100\n",
    "    if (true_negatives != 0):\n",
    "        tn = true_negatives/total*100\n",
    "    if (false_negatives != 0):\n",
    "        fn = false_negatives/total*100\n",
    "\n",
    "    print(f\"True Positives: {true_positives}     Percentage: {tp}%\\n\")\n",
    "    print(f\"False Positives: {false_positives}   Percentage: {fp}%\\n\")\n",
    "    print(f\"True Negatives: {true_negatives}     Percentage: {tn}%\\n\")\n",
    "    print(f\"False Negatives: {false_negatives}   Percentage: {fn}%\")\n",
    "    \n",
    "# # for X, y in zip(X_test, y_test):\n",
    "# #     print(f\"Model: {clf.predict([X])[0]}, Actual: {y}\")\n",
    "# #     model_predictions1_0.append(clf.predict([X])[0])\n",
    "# #     actual_predictions1_0.append(y)"
   ]
  },
  {
   "cell_type": "markdown",
   "metadata": {},
   "source": [
    "# Data Exploration phase\n",
    "\n",
    "During this period, a brief overview of what is contained in our legacy data is observed and weighed in regard to its respective attribute\n",
    "\n",
    "\n",
    "\n",
    "## Expected data types\n",
    "\n",
    "Data attributes for each column are displayed below:\n",
    "\n",
    "* Random column - Real numbers(all unique)\n",
    "* ID column - Real numbers(all unique but duplicates allowed)\n",
    "* Indication - string/object type (4 nominal values)\"ASx, A-F,CVA,TIA\"\n",
    "* Diabetes - string/object type(2 nominal values)\"yes, no\"\n",
    "* IHD - string/object type(2 nominal values)\"yes, no\"\n",
    "* Hypertension - string/object type(2 nominal values)\"yes, no\"\n",
    "* Arrhythmia - string/object type(2 nominal values)\"yes, no\"\n",
    "* History - string/object type(2 nominal values)\"yes, no\"\n",
    "* IPSI - float type(0 - 100)\n",
    "* Contra - float type(0 - 100)\n",
    "* label - string/object type(2 nominal values)\"risk,no risk\""
   ]
  },
  {
   "cell_type": "code",
   "execution_count": 4,
   "metadata": {},
   "outputs": [
    {
     "data": {
      "text/html": [
       "<div>\n",
       "<style scoped>\n",
       "    .dataframe tbody tr th:only-of-type {\n",
       "        vertical-align: middle;\n",
       "    }\n",
       "\n",
       "    .dataframe tbody tr th {\n",
       "        vertical-align: top;\n",
       "    }\n",
       "\n",
       "    .dataframe thead th {\n",
       "        text-align: right;\n",
       "    }\n",
       "</style>\n",
       "<table border=\"1\" class=\"dataframe\">\n",
       "  <thead>\n",
       "    <tr style=\"text-align: right;\">\n",
       "      <th></th>\n",
       "      <th>Random</th>\n",
       "      <th>Id</th>\n",
       "      <th>Indication</th>\n",
       "      <th>Diabetes</th>\n",
       "      <th>IHD</th>\n",
       "      <th>Hypertension</th>\n",
       "      <th>Arrhythmia</th>\n",
       "      <th>History</th>\n",
       "      <th>IPSI</th>\n",
       "      <th>Contra</th>\n",
       "      <th>label</th>\n",
       "    </tr>\n",
       "  </thead>\n",
       "  <tbody>\n",
       "    <tr>\n",
       "      <th>0</th>\n",
       "      <td>0.602437</td>\n",
       "      <td>218242</td>\n",
       "      <td>A-F</td>\n",
       "      <td>no</td>\n",
       "      <td>no</td>\n",
       "      <td>yes</td>\n",
       "      <td>no</td>\n",
       "      <td>no</td>\n",
       "      <td>78.0</td>\n",
       "      <td>20</td>\n",
       "      <td>NoRisk</td>\n",
       "    </tr>\n",
       "    <tr>\n",
       "      <th>1</th>\n",
       "      <td>0.602437</td>\n",
       "      <td>159284</td>\n",
       "      <td>TIA</td>\n",
       "      <td>no</td>\n",
       "      <td>no</td>\n",
       "      <td>no</td>\n",
       "      <td>no</td>\n",
       "      <td>no</td>\n",
       "      <td>70.0</td>\n",
       "      <td>60</td>\n",
       "      <td>NoRisk</td>\n",
       "    </tr>\n",
       "    <tr>\n",
       "      <th>2</th>\n",
       "      <td>0.602437</td>\n",
       "      <td>106066</td>\n",
       "      <td>A-F</td>\n",
       "      <td>no</td>\n",
       "      <td>yes</td>\n",
       "      <td>yes</td>\n",
       "      <td>no</td>\n",
       "      <td>no</td>\n",
       "      <td>95.0</td>\n",
       "      <td>40</td>\n",
       "      <td>Risk</td>\n",
       "    </tr>\n",
       "    <tr>\n",
       "      <th>3</th>\n",
       "      <td>0.128157</td>\n",
       "      <td>229592</td>\n",
       "      <td>TIA</td>\n",
       "      <td>no</td>\n",
       "      <td>no</td>\n",
       "      <td>yes</td>\n",
       "      <td>no</td>\n",
       "      <td>no</td>\n",
       "      <td>90.0</td>\n",
       "      <td>85</td>\n",
       "      <td>Risk</td>\n",
       "    </tr>\n",
       "    <tr>\n",
       "      <th>4</th>\n",
       "      <td>0.676862</td>\n",
       "      <td>245829</td>\n",
       "      <td>CVA</td>\n",
       "      <td>no</td>\n",
       "      <td>no</td>\n",
       "      <td>no</td>\n",
       "      <td>no</td>\n",
       "      <td>no</td>\n",
       "      <td>70.0</td>\n",
       "      <td>20</td>\n",
       "      <td>NoRisk</td>\n",
       "    </tr>\n",
       "    <tr>\n",
       "      <th>...</th>\n",
       "      <td>...</td>\n",
       "      <td>...</td>\n",
       "      <td>...</td>\n",
       "      <td>...</td>\n",
       "      <td>...</td>\n",
       "      <td>...</td>\n",
       "      <td>...</td>\n",
       "      <td>...</td>\n",
       "      <td>...</td>\n",
       "      <td>...</td>\n",
       "      <td>...</td>\n",
       "    </tr>\n",
       "    <tr>\n",
       "      <th>1515</th>\n",
       "      <td>0.391440</td>\n",
       "      <td>93406</td>\n",
       "      <td>A-F</td>\n",
       "      <td>no</td>\n",
       "      <td>yes</td>\n",
       "      <td>no</td>\n",
       "      <td>no</td>\n",
       "      <td>no</td>\n",
       "      <td>76.0</td>\n",
       "      <td>60</td>\n",
       "      <td>NoRisk</td>\n",
       "    </tr>\n",
       "    <tr>\n",
       "      <th>1516</th>\n",
       "      <td>0.253504</td>\n",
       "      <td>121814</td>\n",
       "      <td>A-F</td>\n",
       "      <td>no</td>\n",
       "      <td>no</td>\n",
       "      <td>yes</td>\n",
       "      <td>yes</td>\n",
       "      <td>no</td>\n",
       "      <td>90.0</td>\n",
       "      <td>75</td>\n",
       "      <td>Risk</td>\n",
       "    </tr>\n",
       "    <tr>\n",
       "      <th>1517</th>\n",
       "      <td>0.620373</td>\n",
       "      <td>101754</td>\n",
       "      <td>TIA</td>\n",
       "      <td>no</td>\n",
       "      <td>no</td>\n",
       "      <td>yes</td>\n",
       "      <td>no</td>\n",
       "      <td>no</td>\n",
       "      <td>75.0</td>\n",
       "      <td>20</td>\n",
       "      <td>NoRisk</td>\n",
       "    </tr>\n",
       "    <tr>\n",
       "      <th>1518</th>\n",
       "      <td>0.639342</td>\n",
       "      <td>263836</td>\n",
       "      <td>A-F</td>\n",
       "      <td>no</td>\n",
       "      <td>yes</td>\n",
       "      <td>no</td>\n",
       "      <td>no</td>\n",
       "      <td>no</td>\n",
       "      <td>70.0</td>\n",
       "      <td>45</td>\n",
       "      <td>NoRisk</td>\n",
       "    </tr>\n",
       "    <tr>\n",
       "      <th>1519</th>\n",
       "      <td>0.634922</td>\n",
       "      <td>254941</td>\n",
       "      <td>CVA</td>\n",
       "      <td>no</td>\n",
       "      <td>no</td>\n",
       "      <td>no</td>\n",
       "      <td>no</td>\n",
       "      <td>no</td>\n",
       "      <td>60.0</td>\n",
       "      <td>20</td>\n",
       "      <td>NoRisk</td>\n",
       "    </tr>\n",
       "  </tbody>\n",
       "</table>\n",
       "<p>1520 rows × 11 columns</p>\n",
       "</div>"
      ],
      "text/plain": [
       "        Random      Id Indication Diabetes  IHD Hypertension Arrhythmia  \\\n",
       "0     0.602437  218242        A-F       no   no          yes         no   \n",
       "1     0.602437  159284        TIA       no   no           no         no   \n",
       "2     0.602437  106066        A-F       no  yes          yes         no   \n",
       "3     0.128157  229592        TIA       no   no          yes         no   \n",
       "4     0.676862  245829        CVA       no   no           no         no   \n",
       "...        ...     ...        ...      ...  ...          ...        ...   \n",
       "1515  0.391440   93406        A-F       no  yes           no         no   \n",
       "1516  0.253504  121814        A-F       no   no          yes        yes   \n",
       "1517  0.620373  101754        TIA       no   no          yes         no   \n",
       "1518  0.639342  263836        A-F       no  yes           no         no   \n",
       "1519  0.634922  254941        CVA       no   no           no         no   \n",
       "\n",
       "     History  IPSI Contra   label  \n",
       "0         no  78.0    20   NoRisk  \n",
       "1         no  70.0    60   NoRisk  \n",
       "2         no  95.0     40    Risk  \n",
       "3         no  90.0     85    Risk  \n",
       "4         no  70.0    20   NoRisk  \n",
       "...      ...   ...    ...     ...  \n",
       "1515      no  76.0    60   NoRisk  \n",
       "1516      no  90.0     75    Risk  \n",
       "1517      no  75.0    20   NoRisk  \n",
       "1518      no  70.0    45   NoRisk  \n",
       "1519      no  60.0    20   NoRisk  \n",
       "\n",
       "[1520 rows x 11 columns]"
      ]
     },
     "execution_count": 4,
     "metadata": {},
     "output_type": "execute_result"
    }
   ],
   "source": [
    "df"
   ]
  },
  {
   "cell_type": "code",
   "execution_count": 5,
   "metadata": {},
   "outputs": [
    {
     "data": {
      "text/plain": [
       "Random          0\n",
       "Id              0\n",
       "Indication      3\n",
       "Diabetes        2\n",
       "IHD             0\n",
       "Hypertension    3\n",
       "Arrhythmia      0\n",
       "History         2\n",
       "IPSI            4\n",
       "Contra          0\n",
       "label           3\n",
       "dtype: int64"
      ]
     },
     "execution_count": 5,
     "metadata": {},
     "output_type": "execute_result"
    }
   ],
   "source": [
    "df.isnull().sum()\n",
    "##checks for null values in dataframe in each attribute"
   ]
  },
  {
   "cell_type": "code",
   "execution_count": 6,
   "metadata": {},
   "outputs": [
    {
     "data": {
      "text/html": [
       "<div>\n",
       "<style scoped>\n",
       "    .dataframe tbody tr th:only-of-type {\n",
       "        vertical-align: middle;\n",
       "    }\n",
       "\n",
       "    .dataframe tbody tr th {\n",
       "        vertical-align: top;\n",
       "    }\n",
       "\n",
       "    .dataframe thead th {\n",
       "        text-align: right;\n",
       "    }\n",
       "</style>\n",
       "<table border=\"1\" class=\"dataframe\">\n",
       "  <thead>\n",
       "    <tr style=\"text-align: right;\">\n",
       "      <th></th>\n",
       "      <th>Random</th>\n",
       "      <th>Id</th>\n",
       "      <th>IPSI</th>\n",
       "    </tr>\n",
       "  </thead>\n",
       "  <tbody>\n",
       "    <tr>\n",
       "      <th>count</th>\n",
       "      <td>1520.000000</td>\n",
       "      <td>1520.000000</td>\n",
       "      <td>1516.000000</td>\n",
       "    </tr>\n",
       "    <tr>\n",
       "      <th>mean</th>\n",
       "      <td>0.509545</td>\n",
       "      <td>188365.022368</td>\n",
       "      <td>78.872032</td>\n",
       "    </tr>\n",
       "    <tr>\n",
       "      <th>std</th>\n",
       "      <td>0.284006</td>\n",
       "      <td>64355.870242</td>\n",
       "      <td>10.162351</td>\n",
       "    </tr>\n",
       "    <tr>\n",
       "      <th>min</th>\n",
       "      <td>0.000295</td>\n",
       "      <td>78261.000000</td>\n",
       "      <td>35.000000</td>\n",
       "    </tr>\n",
       "    <tr>\n",
       "      <th>25%</th>\n",
       "      <td>0.268531</td>\n",
       "      <td>137130.750000</td>\n",
       "      <td>73.000000</td>\n",
       "    </tr>\n",
       "    <tr>\n",
       "      <th>50%</th>\n",
       "      <td>0.517616</td>\n",
       "      <td>191344.500000</td>\n",
       "      <td>77.000000</td>\n",
       "    </tr>\n",
       "    <tr>\n",
       "      <th>75%</th>\n",
       "      <td>0.754724</td>\n",
       "      <td>244559.500000</td>\n",
       "      <td>85.000000</td>\n",
       "    </tr>\n",
       "    <tr>\n",
       "      <th>max</th>\n",
       "      <td>0.999448</td>\n",
       "      <td>295978.000000</td>\n",
       "      <td>99.000000</td>\n",
       "    </tr>\n",
       "  </tbody>\n",
       "</table>\n",
       "</div>"
      ],
      "text/plain": [
       "            Random             Id         IPSI\n",
       "count  1520.000000    1520.000000  1516.000000\n",
       "mean      0.509545  188365.022368    78.872032\n",
       "std       0.284006   64355.870242    10.162351\n",
       "min       0.000295   78261.000000    35.000000\n",
       "25%       0.268531  137130.750000    73.000000\n",
       "50%       0.517616  191344.500000    77.000000\n",
       "75%       0.754724  244559.500000    85.000000\n",
       "max       0.999448  295978.000000    99.000000"
      ]
     },
     "execution_count": 6,
     "metadata": {},
     "output_type": "execute_result"
    }
   ],
   "source": [
    "df.describe()"
   ]
  },
  {
   "cell_type": "code",
   "execution_count": 7,
   "metadata": {},
   "outputs": [
    {
     "data": {
      "text/plain": [
       "count     1520\n",
       "unique      41\n",
       "top        100\n",
       "freq       244\n",
       "Name: Contra, dtype: object"
      ]
     },
     "execution_count": 7,
     "metadata": {},
     "output_type": "execute_result"
    }
   ],
   "source": [
    "df['Contra'].describe()"
   ]
  },
  {
   "cell_type": "code",
   "execution_count": 8,
   "metadata": {},
   "outputs": [
    {
     "data": {
      "text/plain": [
       "count     1517\n",
       "unique       5\n",
       "top        A-F\n",
       "freq       493\n",
       "Name: Indication, dtype: object"
      ]
     },
     "execution_count": 8,
     "metadata": {},
     "output_type": "execute_result"
    }
   ],
   "source": [
    "df['Indication'].describe()"
   ]
  },
  {
   "cell_type": "code",
   "execution_count": 9,
   "metadata": {},
   "outputs": [
    {
     "data": {
      "text/plain": [
       "count     1520\n",
       "unique       2\n",
       "top         no\n",
       "freq       801\n",
       "Name: IHD, dtype: object"
      ]
     },
     "execution_count": 9,
     "metadata": {},
     "output_type": "execute_result"
    }
   ],
   "source": [
    "df['IHD'].describe()"
   ]
  },
  {
   "cell_type": "code",
   "execution_count": 10,
   "metadata": {},
   "outputs": [
    {
     "data": {
      "text/plain": [
       "count     1518\n",
       "unique       2\n",
       "top         no\n",
       "freq      1494\n",
       "Name: History, dtype: object"
      ]
     },
     "execution_count": 10,
     "metadata": {},
     "output_type": "execute_result"
    }
   ],
   "source": [
    "df['History'].describe()"
   ]
  },
  {
   "cell_type": "code",
   "execution_count": 11,
   "metadata": {},
   "outputs": [
    {
     "data": {
      "text/plain": [
       "count       1517\n",
       "unique         3\n",
       "top       NoRisk\n",
       "freq        1008\n",
       "Name: label, dtype: object"
      ]
     },
     "execution_count": 11,
     "metadata": {},
     "output_type": "execute_result"
    }
   ],
   "source": [
    "df['label'].describe()"
   ]
  },
  {
   "cell_type": "code",
   "execution_count": 12,
   "metadata": {},
   "outputs": [
    {
     "data": {
      "text/plain": [
       "count     1518\n",
       "unique       2\n",
       "top         no\n",
       "freq      1441\n",
       "Name: Diabetes, dtype: object"
      ]
     },
     "execution_count": 12,
     "metadata": {},
     "output_type": "execute_result"
    }
   ],
   "source": [
    "df['Diabetes'].describe()"
   ]
  },
  {
   "cell_type": "code",
   "execution_count": 13,
   "metadata": {},
   "outputs": [
    {
     "data": {
      "text/plain": [
       "count     1520\n",
       "unique       2\n",
       "top         no\n",
       "freq      1190\n",
       "Name: Arrhythmia, dtype: object"
      ]
     },
     "execution_count": 13,
     "metadata": {},
     "output_type": "execute_result"
    }
   ],
   "source": [
    "df['Arrhythmia'].describe()"
   ]
  },
  {
   "cell_type": "code",
   "execution_count": 14,
   "metadata": {},
   "outputs": [
    {
     "data": {
      "text/plain": [
       "count    1516.000000\n",
       "mean       78.872032\n",
       "std        10.162351\n",
       "min        35.000000\n",
       "25%        73.000000\n",
       "50%        77.000000\n",
       "75%        85.000000\n",
       "max        99.000000\n",
       "Name: IPSI, dtype: float64"
      ]
     },
     "execution_count": 14,
     "metadata": {},
     "output_type": "execute_result"
    }
   ],
   "source": [
    "df['IPSI'].describe()"
   ]
  },
  {
   "cell_type": "markdown",
   "metadata": {},
   "source": [
    "### First Analysis\n",
    "\n",
    "* All data attributes match its respective data type apart from Contra. This indicates that Contra needs cleaning.\n",
    "* IPSI, CONTRA, Hypertension, indication, history and label contain null values as per \"df.isnull().sum()\" function\n",
    "\n",
    "\n",
    "### Second Analysis \n",
    "\n",
    "Code below returns \"yes\" if duplicate values found in random"
   ]
  },
  {
   "cell_type": "code",
   "execution_count": 15,
   "metadata": {},
   "outputs": [
    {
     "name": "stdout",
     "output_type": "stream",
     "text": [
      "yes\n"
     ]
    }
   ],
   "source": [
    "f =  df.duplicated(subset='Random', keep=False)\n",
    "t = True\n",
    "\n",
    "for item in f:\n",
    "    if item == t:\n",
    "        print(\"yes\")\n",
    "        break"
   ]
  },
  {
   "cell_type": "markdown",
   "metadata": {},
   "source": [
    "Whereas the Id attribute contains no duplicates as shown in code below because it didnt return \"true\" for all variables "
   ]
  },
  {
   "cell_type": "code",
   "execution_count": 16,
   "metadata": {},
   "outputs": [],
   "source": [
    "f =  df.duplicated(subset='Id', keep=False)\n",
    "t = True\n",
    "\n",
    "for item in f:\n",
    "    if item == t:\n",
    "        print(\"yes\")\n",
    "        break"
   ]
  },
  {
   "cell_type": "markdown",
   "metadata": {},
   "source": [
    "### Conclusion\n",
    "\n",
    "After careful analysis the following attributes need cleaning:\n",
    "* Random attribute\n",
    "* Hypertension attribute\n",
    "* Diabetes attribute\n",
    "* Contra attribute\n",
    "* IPSI attribute\n",
    "* Indication attribute\n",
    "* History attribute"
   ]
  },
  {
   "cell_type": "markdown",
   "metadata": {},
   "source": []
  },
  {
   "cell_type": "markdown",
   "metadata": {},
   "source": [
    "\n",
    "# Data Preparation Phase\n",
    "\n",
    "This section involves all cleaning methods done to prepare our data for feeding it to our fin al model classifier to predict patient mortality\n",
    "\n",
    "## Cleaning 1.0\n",
    "\n",
    "### Hypertension cleaning\n",
    "\n",
    "#### Step 1\n",
    "The first step involves locating the index in which the null value(s) are located. This is done by separating out the hypertension column into a pandas.series and creating a truth table. If the value in the truth table returns \"true\" the index of that value(s) is stored in a list.\n",
    "\n",
    "The indexes are kept track of by a counter variable. Using the indexes stored in the list, the null values are then located using \"df_copy1.loc[var, :]\" where \"var\" is a value in the list "
   ]
  },
  {
   "cell_type": "code",
   "execution_count": 17,
   "metadata": {},
   "outputs": [
    {
     "data": {
      "text/plain": [
       "[201, 590, 983]"
      ]
     },
     "execution_count": 17,
     "metadata": {},
     "output_type": "execute_result"
    }
   ],
   "source": [
    "df_copy1 = df.copy()\n",
    "Hypertension_column = df_copy1['Hypertension']\n",
    "Hypertension_null_index_positions = []\n",
    "\n",
    "x = Hypertension_column.isnull()\n",
    "t = True\n",
    "counter = 0\n",
    "for item in x:\n",
    "    if item == t:\n",
    "        Hypertension_null_index_positions.append(counter)\n",
    "    counter = counter + 1\n",
    "\n",
    "Hypertension_null_index_positions"
   ]
  },
  {
   "cell_type": "code",
   "execution_count": 18,
   "metadata": {},
   "outputs": [
    {
     "name": "stdout",
     "output_type": "stream",
     "text": [
      "Random          0.38879\n",
      "Id               240232\n",
      "Indication          CVA\n",
      "Diabetes            yes\n",
      "IHD                  no\n",
      "Hypertension        NaN\n",
      "Arrhythmia          yes\n",
      "History              no\n",
      "IPSI                 95\n",
      "Contra               90\n",
      "label              Risk\n",
      "Name: 201, dtype: object\n"
     ]
    },
    {
     "name": "stderr",
     "output_type": "stream",
     "text": [
      "c:\\program files (x86)\\python37-32\\lib\\site-packages\\ipykernel_launcher.py:5: SettingWithCopyWarning: \n",
      "A value is trying to be set on a copy of a slice from a DataFrame\n",
      "\n",
      "See the caveats in the documentation: http://pandas.pydata.org/pandas-docs/stable/user_guide/indexing.html#returning-a-view-versus-a-copy\n",
      "  \"\"\"\n"
     ]
    }
   ],
   "source": [
    "print(df_copy1.loc[201, :])\n",
    "##yes\n",
    "\n",
    "x = df_copy2.loc[201, :]\n",
    "x[5] = \"yes\"\n",
    "df_copy2.loc[201, :] = x"
   ]
  },
  {
   "cell_type": "code",
   "execution_count": 19,
   "metadata": {},
   "outputs": [
    {
     "name": "stdout",
     "output_type": "stream",
     "text": [
      "Random          0.70795\n",
      "Id               289096\n",
      "Indication          A-F\n",
      "Diabetes             no\n",
      "IHD                  no\n",
      "Hypertension        NaN\n",
      "Arrhythmia           no\n",
      "History              no\n",
      "IPSI                 78\n",
      "Contra               30\n",
      "label            NoRisk\n",
      "Name: 590, dtype: object\n"
     ]
    },
    {
     "name": "stderr",
     "output_type": "stream",
     "text": [
      "c:\\program files (x86)\\python37-32\\lib\\site-packages\\ipykernel_launcher.py:5: SettingWithCopyWarning: \n",
      "A value is trying to be set on a copy of a slice from a DataFrame\n",
      "\n",
      "See the caveats in the documentation: http://pandas.pydata.org/pandas-docs/stable/user_guide/indexing.html#returning-a-view-versus-a-copy\n",
      "  \"\"\"\n"
     ]
    }
   ],
   "source": [
    "print(df_copy1.loc[590, :])\n",
    "##no\n",
    "\n",
    "x = df_copy2.loc[590, :]\n",
    "x[5] = \"no\"\n",
    "df_copy2.loc[590, :] = x"
   ]
  },
  {
   "cell_type": "code",
   "execution_count": 20,
   "metadata": {},
   "outputs": [
    {
     "name": "stdout",
     "output_type": "stream",
     "text": [
      "Random          0.319215\n",
      "Id                158024\n",
      "Indication           TIA\n",
      "Diabetes              no\n",
      "IHD                   no\n",
      "Hypertension         NaN\n",
      "Arrhythmia            no\n",
      "History               no\n",
      "IPSI                  75\n",
      "Contra                75\n",
      "label             NoRisk\n",
      "Name: 983, dtype: object\n"
     ]
    },
    {
     "name": "stderr",
     "output_type": "stream",
     "text": [
      "c:\\program files (x86)\\python37-32\\lib\\site-packages\\ipykernel_launcher.py:5: SettingWithCopyWarning: \n",
      "A value is trying to be set on a copy of a slice from a DataFrame\n",
      "\n",
      "See the caveats in the documentation: http://pandas.pydata.org/pandas-docs/stable/user_guide/indexing.html#returning-a-view-versus-a-copy\n",
      "  \"\"\"\n"
     ]
    }
   ],
   "source": [
    "print(df_copy1.loc[983, :])\n",
    "##no\n",
    "\n",
    "x = df_copy2.loc[983, :]\n",
    "x[5] = \"no\"\n",
    "df_copy2.loc[983, :] = x"
   ]
  },
  {
   "cell_type": "markdown",
   "metadata": {},
   "source": [
    "#### Step 2\n",
    "\n",
    "In relation to the previous step, we consider all nominal values surrounding the missing variable to generate a query for the dataframe. In this case, the missing variable is Hypertension. \n",
    "\n",
    "Therefore, for the first missing variable we consider its respective nominal values surrounding to generate a query for the database which are:\n",
    "* CVA - Indication \n",
    "* yes - Diabetes\n",
    "* no - IHD\n",
    "* yes - Arrhythmia\n",
    "* no - History\n",
    "\n",
    "(as seen in df_copy1.query)"
   ]
  },
  {
   "cell_type": "code",
   "execution_count": 21,
   "metadata": {},
   "outputs": [
    {
     "name": "stdout",
     "output_type": "stream",
     "text": [
      "       Random      Id Indication Diabetes IHD Hypertension Arrhythmia History  \\\n",
      "33   0.711928  112060        CVA      yes  no          yes        yes      no   \n",
      "138  0.922243  121453        CVA      yes  no          yes        yes      no   \n",
      "201  0.388790  240232        CVA      yes  no          NaN        yes      no   \n",
      "401  0.292205  104263        CVA      yes  no          yes        yes      no   \n",
      "509  0.027813  159906        CVA      yes  no          yes        yes      no   \n",
      "\n",
      "     IPSI Contra label  \n",
      "33   95.0     75  Risk  \n",
      "138  95.0     90  Risk  \n",
      "201  95.0     90  Risk  \n",
      "401  95.0     75  Risk  \n",
      "509  95.0     75  Risk  \n"
     ]
    },
    {
     "data": {
      "image/png": "[encoded data removed]",
      "text/plain": [
       "<Figure size 360x360 with 1 Axes>"
      ]
     },
     "metadata": {
      "needs_background": "light"
     },
     "output_type": "display_data"
    }
   ],
   "source": [
    "df_copy1 = df.copy() ##first line included  to 'reset' the dataframe\n",
    "df_copy1.query('Indication == \"CVA\" and Diabetes ==\"yes\" and IHD ==\"no\" and Arrhythmia == \"yes\" and History ==\"no\"', inplace = True) \n",
    "copy1 = df_copy1\n",
    "sns.catplot('Hypertension', data = copy1, kind='count' )\n",
    "print(copy1)"
   ]
  },
  {
   "cell_type": "markdown",
   "metadata": {},
   "source": [
    "for the second missing variable we consider its respective nominal values surrounding to generate a query for the database which are:\n",
    "* A-F - Indication \n",
    "* no - Diabetes\n",
    "* no - IHD\n",
    "* no - Arrhythmia\n",
    "* no - History\n",
    "\n",
    "(as seen in df_copy1.query)"
   ]
  },
  {
   "cell_type": "code",
   "execution_count": 22,
   "metadata": {},
   "outputs": [
    {
     "name": "stdout",
     "output_type": "stream",
     "text": [
      "        Random      Id Indication Diabetes IHD Hypertension Arrhythmia  \\\n",
      "0     0.602437  218242        A-F       no  no          yes         no   \n",
      "18    0.479682  284552        A-F       no  no           no         no   \n",
      "20    0.890427  250562        A-F       no  no          yes         no   \n",
      "27    0.147857  295155        A-F       no  no          yes         no   \n",
      "29    0.806727  104062        A-F       no  no           no         no   \n",
      "...        ...     ...        ...      ...  ..          ...        ...   \n",
      "1464  0.380711  150464        A-F       no  no          yes         no   \n",
      "1471  0.336300   94033        A-F       no  no          yes         no   \n",
      "1483  0.972796   83632        A-F       no  no           no         no   \n",
      "1486  0.313941   95434        A-F       no  no           no         no   \n",
      "1502  0.636996  176877        A-F       no  no           no         no   \n",
      "\n",
      "     History  IPSI Contra   label  \n",
      "0         no  78.0    20   NoRisk  \n",
      "18        no  75.0    100    Risk  \n",
      "20        no  75.0    25   NoRisk  \n",
      "27        no  75.0    15   NoRisk  \n",
      "29        no  78.0    30   NoRisk  \n",
      "...      ...   ...    ...     ...  \n",
      "1464      no  71.0    30   NoRisk  \n",
      "1471      no  50.0    30   NoRisk  \n",
      "1483      no  75.0    55   NoRisk  \n",
      "1486      no  90.0    50   NoRisk  \n",
      "1502      no  74.0    50   NoRisk  \n",
      "\n",
      "[191 rows x 11 columns]\n"
     ]
    },
    {
     "data": {
      "image/png": "[encoded data removed]",
      "text/plain": [
       "<Figure size 360x360 with 1 Axes>"
      ]
     },
     "metadata": {
      "needs_background": "light"
     },
     "output_type": "display_data"
    }
   ],
   "source": [
    "df_copy1 = df.copy()##first line included  to 'reset' the dataframe\n",
    "df_copy1.query('Indication == \"A-F\" and Diabetes ==\"no\" and IHD ==\"no\" and Arrhythmia == \"no\" and History ==\"no\"', inplace = True) \n",
    "copy1 = df_copy1\n",
    "sns.catplot('Hypertension', data = copy1, kind='count' )\n",
    "print(copy1)"
   ]
  },
  {
   "cell_type": "markdown",
   "metadata": {},
   "source": [
    "for the third missing variable we consider its respective nominal values surrounding to generate a query for the database which are:\n",
    "* TIA - Indication \n",
    "* no - Diabetes\n",
    "* no - IHD\n",
    "* no - Arrhythmia\n",
    "* no - History\n",
    "\n",
    "(as seen in df_copy1.query)"
   ]
  },
  {
   "cell_type": "code",
   "execution_count": 23,
   "metadata": {},
   "outputs": [
    {
     "name": "stdout",
     "output_type": "stream",
     "text": [
      "        Random      Id Indication Diabetes IHD Hypertension Arrhythmia  \\\n",
      "1     0.602437  159284        TIA       no  no           no         no   \n",
      "3     0.128157  229592        TIA       no  no          yes         no   \n",
      "8     0.678157  256128        TIA       no  no          yes         no   \n",
      "24    0.616346  269505        TIA       no  no          yes         no   \n",
      "35    0.426172  212137        TIA       no  no           no         no   \n",
      "...        ...     ...        ...      ...  ..          ...        ...   \n",
      "1487  0.589828  252007        TIA       no  no          yes         no   \n",
      "1496  0.835616  203306        TIA       no  no          yes         no   \n",
      "1500  0.651685  250503        TIA       no  no           no         no   \n",
      "1512  0.164733  167652        TIA       no  no          yes         no   \n",
      "1517  0.620373  101754        TIA       no  no          yes         no   \n",
      "\n",
      "     History  IPSI Contra   label  \n",
      "1         no  70.0    60   NoRisk  \n",
      "3         no  90.0     85    Risk  \n",
      "8         no  81.0    20   NoRisk  \n",
      "24        no  81.0    40   NoRisk  \n",
      "35        no  71.0    70   NoRisk  \n",
      "...      ...   ...    ...     ...  \n",
      "1487      no  78.0    30   NoRisk  \n",
      "1496      no  80.0    20   NoRisk  \n",
      "1500      no  50.0    40   NoRisk  \n",
      "1512      no  80.0    20   NoRisk  \n",
      "1517      no  75.0    20   NoRisk  \n",
      "\n",
      "[195 rows x 11 columns]\n"
     ]
    },
    {
     "data": {
      "image/png": "[encoded data removed]",
      "text/plain": [
       "<Figure size 360x360 with 1 Axes>"
      ]
     },
     "metadata": {
      "needs_background": "light"
     },
     "output_type": "display_data"
    }
   ],
   "source": [
    "df_copy1 = df.copy()##first line included  to 'reset' the dataframe\n",
    "df_copy1.query('Indication == \"TIA\" and Diabetes ==\"no\" and IHD ==\"no\" and Arrhythmia == \"no\" and History ==\"no\"', inplace = True) \n",
    "copy1 = df_copy1\n",
    "sns.catplot('Hypertension', data = copy1, kind='count' )\n",
    "print(copy1)"
   ]
  },
  {
   "cell_type": "markdown",
   "metadata": {},
   "source": [
    "### Indication cleaning\n",
    "\n",
    "#### Step 1\n",
    "\n",
    "Same methodology is used(in regard to Hypertension cleaning, Step 1)"
   ]
  },
  {
   "cell_type": "code",
   "execution_count": 24,
   "metadata": {},
   "outputs": [
    {
     "data": {
      "text/plain": [
       "[442, 822, 1007]"
      ]
     },
     "execution_count": 24,
     "metadata": {},
     "output_type": "execute_result"
    }
   ],
   "source": [
    "df_copy1 = df.copy()\n",
    "Indication_column = df_copy1['Indication']\n",
    "Indication_null_index_positions = []\n",
    "\n",
    "x = Indication_column.isnull()\n",
    "t = True\n",
    "counter = 0\n",
    "for item in x:\n",
    "    if item == t:\n",
    "        Indication_null_index_positions.append(counter)\n",
    "    counter = counter + 1\n",
    "\n",
    "Indication_null_index_positions"
   ]
  },
  {
   "cell_type": "code",
   "execution_count": 25,
   "metadata": {},
   "outputs": [
    {
     "name": "stderr",
     "output_type": "stream",
     "text": [
      "c:\\program files (x86)\\python37-32\\lib\\site-packages\\ipykernel_launcher.py:4: SettingWithCopyWarning: \n",
      "A value is trying to be set on a copy of a slice from a DataFrame\n",
      "\n",
      "See the caveats in the documentation: http://pandas.pydata.org/pandas-docs/stable/user_guide/indexing.html#returning-a-view-versus-a-copy\n",
      "  after removing the cwd from sys.path.\n"
     ]
    }
   ],
   "source": [
    "df_copy1.loc[442, :]\n",
    "\n",
    "x = df_copy2.loc[442, :]\n",
    "x[2] = \"TIA\"\n",
    "df_copy2.loc[442, :] = x"
   ]
  },
  {
   "cell_type": "code",
   "execution_count": 26,
   "metadata": {},
   "outputs": [
    {
     "name": "stderr",
     "output_type": "stream",
     "text": [
      "c:\\program files (x86)\\python37-32\\lib\\site-packages\\ipykernel_launcher.py:4: SettingWithCopyWarning: \n",
      "A value is trying to be set on a copy of a slice from a DataFrame\n",
      "\n",
      "See the caveats in the documentation: http://pandas.pydata.org/pandas-docs/stable/user_guide/indexing.html#returning-a-view-versus-a-copy\n",
      "  after removing the cwd from sys.path.\n"
     ]
    }
   ],
   "source": [
    "df_copy1.loc[822, :]\n",
    "\n",
    "x = df_copy2.loc[822, :]\n",
    "x[2] = \"A-F\"\n",
    "df_copy2.loc[822, :] = x\n"
   ]
  },
  {
   "cell_type": "code",
   "execution_count": 27,
   "metadata": {},
   "outputs": [
    {
     "name": "stderr",
     "output_type": "stream",
     "text": [
      "c:\\program files (x86)\\python37-32\\lib\\site-packages\\ipykernel_launcher.py:4: SettingWithCopyWarning: \n",
      "A value is trying to be set on a copy of a slice from a DataFrame\n",
      "\n",
      "See the caveats in the documentation: http://pandas.pydata.org/pandas-docs/stable/user_guide/indexing.html#returning-a-view-versus-a-copy\n",
      "  after removing the cwd from sys.path.\n"
     ]
    }
   ],
   "source": [
    "df_copy1.loc[1007, :]\n",
    "\n",
    "x = df_copy2.loc[1007, :]\n",
    "x[2] = \"CVA\"\n",
    "df_copy2.loc[1007, :] = x"
   ]
  },
  {
   "cell_type": "markdown",
   "metadata": {},
   "source": [
    "#### Step 2\n",
    "* Same methodology for step 2 is used(with refere nce to hypertension scleaning step 2). However In this case, the missing variable is found in indication attribute. \n",
    "\n",
    "Therefore, for the first missing variable we consider its respective nominal values surrounding to generate a query for the database which are:\n",
    "* yes - Hypertension \n",
    "* no - Diabetes\n",
    "* yes - IHD\n",
    "* no - Arrhythmia\n",
    "* no - History\n",
    "* NoRisk - Label\n",
    "\n",
    "(as seen in df_copy1.query)"
   ]
  },
  {
   "cell_type": "code",
   "execution_count": 28,
   "metadata": {},
   "outputs": [
    {
     "name": "stdout",
     "output_type": "stream",
     "text": [
      "        Random      Id Indication Diabetes  IHD Hypertension Arrhythmia  \\\n",
      "43    0.334210  188138        CVA       no  yes          yes         no   \n",
      "53    0.369255  206952        TIA       no  yes          yes         no   \n",
      "69    0.509825  167740        TIA       no  yes          yes         no   \n",
      "90    0.821317   93801        A-F       no  yes          yes         no   \n",
      "93    0.460332  206974        TIA       no  yes          yes         no   \n",
      "...        ...     ...        ...      ...  ...          ...        ...   \n",
      "1468  0.850374  254679        TIA       no  yes          yes         no   \n",
      "1475  0.085518  183511        CVA       no  yes          yes         no   \n",
      "1479  0.826108  155876        TIA       no  yes          yes         no   \n",
      "1505  0.720470   80002        A-F       no  yes          yes         no   \n",
      "1510  0.898161   95072        CVA       no  yes          yes         no   \n",
      "\n",
      "     History  IPSI Contra   label  \n",
      "43        no  80.0    20   NoRisk  \n",
      "53        no  75.0    60   NoRisk  \n",
      "69        no  70.0    50   NoRisk  \n",
      "90        no  80.0    10   NoRisk  \n",
      "93        no  65.0    15   NoRisk  \n",
      "...      ...   ...    ...     ...  \n",
      "1468      no  80.0    80   NoRisk  \n",
      "1475      no  80.0    20   NoRisk  \n",
      "1479      no  75.0    40   NoRisk  \n",
      "1505      no  80.0    10   NoRisk  \n",
      "1510      no  60.0   100   NoRisk  \n",
      "\n",
      "[126 rows x 11 columns]\n"
     ]
    },
    {
     "data": {
      "image/png": "[encoded data removed]",
      "text/plain": [
       "<Figure size 360x360 with 1 Axes>"
      ]
     },
     "metadata": {
      "needs_background": "light"
     },
     "output_type": "display_data"
    }
   ],
   "source": [
    "df_copy1 = df.copy() ##first line included  to 'reset' the dataframe\n",
    "df_copy1.query('label == \"NoRisk\" and Diabetes ==\"no\" and IHD ==\"yes\" and Hypertension == \"yes\" and Arrhythmia == \"no\" and History ==\"no\"', inplace = True) \n",
    "copy1 = df_copy1\n",
    "sns.catplot('Indication', data = copy1, kind='count' )\n",
    "print(copy1)"
   ]
  },
  {
   "cell_type": "markdown",
   "metadata": {},
   "source": [
    "for the second missing variable we consider its respective nominal values surrounding to generate a query for the database which are:\n",
    "* no - Hypertension \n",
    "* no - Diabetes\n",
    "* yes - IHD\n",
    "* no - Arrhythmia\n",
    "* no - History\n",
    "* Risk - Label\n",
    "(as seen in df_copy1.query)"
   ]
  },
  {
   "cell_type": "code",
   "execution_count": 29,
   "metadata": {},
   "outputs": [
    {
     "name": "stdout",
     "output_type": "stream",
     "text": [
      "        Random      Id Indication Diabetes  IHD Hypertension Arrhythmia  \\\n",
      "308   0.275192  194322        A-F       no  yes           no         no   \n",
      "415   0.506597   92630        A-F       no  yes           no         no   \n",
      "465   0.068594  195018        TIA       no  yes           no         no   \n",
      "481   0.955421  252057        A-F       no  yes           no         no   \n",
      "513   0.009762  157056        TIA       no  yes           no         no   \n",
      "601   0.844552  241848        TIA       no  yes           no         no   \n",
      "613   0.435405  246007        A-F       no  yes           no         no   \n",
      "705   0.198733  269138        A-F       no  yes           no         no   \n",
      "822   0.211760  205845        NaN       no  yes           no         no   \n",
      "859   0.456425  108354        TIA       no  yes           no         no   \n",
      "867   0.328586  240330        TIA       no  yes           no         no   \n",
      "1043  0.517686  132044        A-F       no  yes           no         no   \n",
      "1114  0.751350  150363        A-F       no  yes           no         no   \n",
      "1119  0.088104  188844        A-F       no  yes           no         no   \n",
      "1143  0.165336   89796        TIA       no  yes           no         no   \n",
      "1266  0.682982  274344        A-F       no  yes           no         no   \n",
      "1391  0.978612  120126        A-F       no  yes           no         no   \n",
      "1430  0.637741  130804        TIA       no  yes           no         no   \n",
      "1439  0.755567  221162        A-F       no  yes           no         no   \n",
      "\n",
      "     History  IPSI Contra label  \n",
      "308       no  90.0     90  Risk  \n",
      "415       no  90.0     90  Risk  \n",
      "465       no  90.0    100  Risk  \n",
      "481       no  80.0    100  Risk  \n",
      "513       no  90.0    100  Risk  \n",
      "601       no  90.0    100  Risk  \n",
      "613       no  80.0    100  Risk  \n",
      "705       no  99.0     60  Risk  \n",
      "822       no  80.0    100  Risk  \n",
      "859       no  90.0    100  Risk  \n",
      "867       no  90.0    100  Risk  \n",
      "1043      no  70.0    100  Risk  \n",
      "1114      no  70.0    100  Risk  \n",
      "1119      no  90.0     90  Risk  \n",
      "1143      no  90.0    100  Risk  \n",
      "1266      no  99.0     60  Risk  \n",
      "1391      no  70.0    100  Risk  \n",
      "1430      no  90.0    100  Risk  \n",
      "1439      no  90.0     90  Risk  \n"
     ]
    },
    {
     "data": {
      "image/png": "[encoded data removed]",
      "text/plain": [
       "<Figure size 360x360 with 1 Axes>"
      ]
     },
     "metadata": {
      "needs_background": "light"
     },
     "output_type": "display_data"
    }
   ],
   "source": [
    "df_copy1 = df.copy() ##first line included  to 'reset' the dataframe\n",
    "df_copy1.query('label == \"Risk\" and Diabetes ==\"no\" and IHD ==\"yes\" and Hypertension == \"no\" and Arrhythmia == \"no\" and History ==\"no\"', inplace = True) \n",
    "copy1 = df_copy1\n",
    "sns.catplot('Indication', data = copy1, kind='count' )\n",
    "print(copy1)"
   ]
  },
  {
   "cell_type": "markdown",
   "metadata": {},
   "source": [
    "for the third missing variable we consider its respective nominal values surrounding to generate a query for the database which are:\n",
    "* no - Hypertension \n",
    "* no - Diabetes\n",
    "* no - IHD\n",
    "* yes - Arrhythmia\n",
    "* yes - History\n",
    "* Risk - Label\n",
    "\n",
    "(as seen in df_copy1.query)"
   ]
  },
  {
   "cell_type": "code",
   "execution_count": 30,
   "metadata": {},
   "outputs": [
    {
     "name": "stdout",
     "output_type": "stream",
     "text": [
      "        Random      Id Indication Diabetes IHD Hypertension Arrhythmia  \\\n",
      "824   0.903894  191582        CVA       no  no           no        yes   \n",
      "848   0.320810  174229        CVA       no  no           no        yes   \n",
      "1007  0.761219  256076        NaN       no  no           no        yes   \n",
      "1074  0.055136  163765        CVA       no  no           no        yes   \n",
      "1159  0.593478  191288        CVA       no  no           no        yes   \n",
      "\n",
      "     History  IPSI Contra label  \n",
      "824      yes  99.0    100  Risk  \n",
      "848      yes  99.0    100  Risk  \n",
      "1007     yes  99.0    100  Risk  \n",
      "1074     yes  99.0    100  Risk  \n",
      "1159     yes  99.0    100  Risk  \n"
     ]
    },
    {
     "data": {
      "image/png": "[encoded data removed]",
      "text/plain": [
       "<Figure size 360x360 with 1 Axes>"
      ]
     },
     "metadata": {
      "needs_background": "light"
     },
     "output_type": "display_data"
    }
   ],
   "source": [
    "df_copy1 = df.copy() ##first line included  to 'reset' the dataframe\n",
    "df_copy1.query('label == \"Risk\" and Diabetes ==\"no\" and IHD ==\"no\" and Hypertension == \"no\" and Arrhythmia == \"yes\" and History ==\"yes\"', inplace = True) \n",
    "copy1 = df_copy1\n",
    "sns.catplot('Indication', data = copy1, kind='count' )\n",
    "print(copy1)"
   ]
  },
  {
   "cell_type": "code",
   "execution_count": null,
   "metadata": {},
   "outputs": [],
   "source": []
  },
  {
   "cell_type": "markdown",
   "metadata": {},
   "source": [
    "### History values "
   ]
  },
  {
   "cell_type": "markdown",
   "metadata": {},
   "source": [
    "#### Step 1"
   ]
  },
  {
   "cell_type": "markdown",
   "metadata": {},
   "source": [
    "The first step involves locating the index in which the null value(s) are located. This is done by separating out the History column into a pandas.series and creating a truth table. If the value in the truth table returns \"true\" the index of that value(s) is stored in a list.\n",
    "\n",
    "The indexes are kept track of by a counter variable. Using the indexes stored in the list, the null values are then located using \"df_copy1.loc[var, :]\" where \"var\" is a value in the list "
   ]
  },
  {
   "cell_type": "code",
   "execution_count": 31,
   "metadata": {},
   "outputs": [
    {
     "data": {
      "text/plain": [
       "[337, 784]"
      ]
     },
     "execution_count": 31,
     "metadata": {},
     "output_type": "execute_result"
    }
   ],
   "source": [
    "df_copy1 = df.copy()\n",
    "History_column = df_copy1['History']\n",
    "History_null_index_positions = []\n",
    "\n",
    "x = History_column.isnull()\n",
    "t = True\n",
    "counter = 0\n",
    "for item in x:\n",
    "    if item == t:\n",
    "        History_null_index_positions.append(counter)\n",
    "    counter = counter + 1\n",
    "\n",
    "History_null_index_positions"
   ]
  },
  {
   "cell_type": "code",
   "execution_count": 32,
   "metadata": {},
   "outputs": [
    {
     "name": "stderr",
     "output_type": "stream",
     "text": [
      "c:\\program files (x86)\\python37-32\\lib\\site-packages\\ipykernel_launcher.py:4: SettingWithCopyWarning: \n",
      "A value is trying to be set on a copy of a slice from a DataFrame\n",
      "\n",
      "See the caveats in the documentation: http://pandas.pydata.org/pandas-docs/stable/user_guide/indexing.html#returning-a-view-versus-a-copy\n",
      "  after removing the cwd from sys.path.\n"
     ]
    }
   ],
   "source": [
    "df_copy1.loc[337, :]\n",
    "\n",
    "x = df_copy2.loc[337, :]\n",
    "x[7] = \"no\"\n",
    "df_copy2.loc[337, :] = x"
   ]
  },
  {
   "cell_type": "code",
   "execution_count": 33,
   "metadata": {},
   "outputs": [
    {
     "name": "stderr",
     "output_type": "stream",
     "text": [
      "c:\\program files (x86)\\python37-32\\lib\\site-packages\\ipykernel_launcher.py:4: SettingWithCopyWarning: \n",
      "A value is trying to be set on a copy of a slice from a DataFrame\n",
      "\n",
      "See the caveats in the documentation: http://pandas.pydata.org/pandas-docs/stable/user_guide/indexing.html#returning-a-view-versus-a-copy\n",
      "  after removing the cwd from sys.path.\n"
     ]
    },
    {
     "data": {
      "text/plain": [
       "Random          0.243645\n",
       "Id                196483\n",
       "Indication           CVA\n",
       "Diabetes              no\n",
       "IHD                   no\n",
       "Hypertension         yes\n",
       "Arrhythmia           yes\n",
       "History               no\n",
       "IPSI                  95\n",
       "Contra               100\n",
       "label               Risk\n",
       "Name: 784, dtype: object"
      ]
     },
     "execution_count": 33,
     "metadata": {},
     "output_type": "execute_result"
    }
   ],
   "source": [
    "df_copy1.loc[784, :]\n",
    "\n",
    "x = df_copy2.loc[784, :]\n",
    "x[7] = \"no\"\n",
    "df_copy2.loc[784, :] = x\n",
    "\n",
    "df_copy2.loc[784, :]"
   ]
  },
  {
   "cell_type": "markdown",
   "metadata": {},
   "source": [
    "#### Step 2"
   ]
  },
  {
   "cell_type": "markdown",
   "metadata": {},
   "source": [
    "In relation to the previous step, we consider all nominal values surrounding the missing variable to generate a query for the dataframe. In this case, the missing variable is Hypertension. \n",
    "\n",
    "Therefore, for the first missing variable we consider its respective nominal values surrounding to generate a query for the database which are:\n",
    "* no - Hypertension \n",
    "* no - Diabetes\n",
    "* yes - IHD\n",
    "* no - Arrhythmia\n",
    "* CVA - Indication\n",
    "* NoRisk - Label"
   ]
  },
  {
   "cell_type": "code",
   "execution_count": 34,
   "metadata": {},
   "outputs": [
    {
     "name": "stdout",
     "output_type": "stream",
     "text": [
      "        Random      Id Indication Diabetes  IHD Hypertension Arrhythmia  \\\n",
      "28    0.952292  152936        CVA       no  yes           no         no   \n",
      "34    0.429965  192217        CVA       no  yes           no         no   \n",
      "49    0.079880   79276        CVA       no  yes           no         no   \n",
      "80    0.969951  153571        CVA       no  yes           no         no   \n",
      "91    0.135940  246147        CVA       no  yes           no         no   \n",
      "145   0.464748  164667        CVA       no  yes           no         no   \n",
      "173   0.571097  278916        CVA       no  yes           no         no   \n",
      "176   0.661404  232617        CVA       no  yes           no         no   \n",
      "209   0.811883  245682        CVA       no  yes           no         no   \n",
      "301   0.581815  178842        CVA       no  yes           no         no   \n",
      "326   0.032843  295228        CVA       no  yes           no         no   \n",
      "337   0.617072  260770        CVA       no  yes           no         no   \n",
      "342   0.115038   88683        CVA       no  yes           no         no   \n",
      "403   0.243351  221780        CVA       no  yes           no         no   \n",
      "424   0.877730   89080        CVA       no  yes           no         no   \n",
      "435   0.251427  212883        CVA       no  yes           no         no   \n",
      "512   0.311893  159924        CVA       no  yes           no         no   \n",
      "533   0.947131  280575        CVA       no  yes           no         no   \n",
      "540   0.614976   79653        CVA       no  yes           no         no   \n",
      "584   0.372325  233750        CVA       no  yes           no         no   \n",
      "598   0.790389   78484        CVA       no  yes           no         no   \n",
      "647   0.678399  151143        CVA       no  yes           no         no   \n",
      "672   0.391782  185354        CVA       no  yes           no         no   \n",
      "700   0.460542  228766        CVA       no  yes           no         no   \n",
      "717   0.443067  108364        CVA       no  yes           no         no   \n",
      "721   0.864577  107689        CVA       no  yes           no         no   \n",
      "725   0.275659  162964        CVA       no  yes           no         no   \n",
      "767   0.849830  270465        CVA       no  yes           no         no   \n",
      "769   0.954426  219660        CVA       no  yes           no         no   \n",
      "770   0.559183  234597        CVA       no  yes           no         no   \n",
      "797   0.372918  164601        CVA       no  yes           no         no   \n",
      "803   0.280632   82064        CVA       no  yes           no         no   \n",
      "842   0.083757  244797        CVA       no  yes           no         no   \n",
      "868   0.420364  221445        CVA       no  yes           no         no   \n",
      "913   0.535813  264502        CVA       no  yes           no         no   \n",
      "945   0.567070  232609        CVA       no  yes           no         no   \n",
      "947   0.509728  109590        CVA       no  yes           no         no   \n",
      "990   0.867083  201967        CVA       no  yes           no         no   \n",
      "993   0.369702   89712        CVA       no  yes           no         no   \n",
      "1006  0.378236  142954        CVA       no  yes           no         no   \n",
      "1024  0.837270  154783        CVA       no  yes           no         no   \n",
      "1029  0.435637  221364        CVA       no  yes           no         no   \n",
      "1078  0.742886  234736        CVA       no  yes           no         no   \n",
      "1088  0.578080  101494        CVA       no  yes           no         no   \n",
      "1162  0.592345   93936        CVA       no  yes           no         no   \n",
      "1213  0.576184  232706        CVA       no  yes           no         no   \n",
      "1247  0.258369  271514        CVA       no  yes           no         no   \n",
      "1254  0.477771  275834        CVA       no  yes           no         no   \n",
      "1256  0.317364   96332        CVA       no  yes           no         no   \n",
      "1267  0.720377  288808        CVA       no  yes           no         no   \n",
      "1269  0.579368  153891        CVA       no  yes           no         no   \n",
      "1272  0.106051  185643        CVA       no  yes           no         no   \n",
      "1283  0.000616   97984        CVA       no  yes           no         no   \n",
      "1355  0.911137  169028        CVA       no  yes           no         no   \n",
      "1429  0.762305  231598        CVA       no  yes           no         no   \n",
      "1434  0.066195  154850        CVA       no  yes           no         no   \n",
      "1463  0.294377  287599        CVA       no  yes           no         no   \n",
      "1508  0.565690   81288        CVA       no  yes           no         no   \n",
      "\n",
      "     History  IPSI Contra   label  \n",
      "28        no  73.0    30   NoRisk  \n",
      "34        no  73.0    70   NoRisk  \n",
      "49        no  70.0    70   NoRisk  \n",
      "80        no  85.0    50   NoRisk  \n",
      "91        no  70.0    60   NoRisk  \n",
      "145       no  70.0    70   NoRisk  \n",
      "173       no  70.0    70   NoRisk  \n",
      "176       no  73.0    30   NoRisk  \n",
      "209       no  90.0    20   NoRisk  \n",
      "301       no  85.0    40   NoRisk  \n",
      "326       no  80.0    40   NoRisk  \n",
      "337      NaN  85.0     50  NoRisk  \n",
      "342       no  80.0    70   NoRisk  \n",
      "403       no  80.0    40   NoRisk  \n",
      "424       no  73.0    80   NoRisk  \n",
      "435       no  73.0    30   NoRisk  \n",
      "512       no  70.0    60   NoRisk  \n",
      "533       no  80.0    30   NoRisk  \n",
      "540       no  85.0    75   NoRisk  \n",
      "584       no  73.0    80   NoRisk  \n",
      "598       no  85.0    75   NoRisk  \n",
      "647       no  73.0    80   NoRisk  \n",
      "672       no  85.0    50   NoRisk  \n",
      "700       no  73.0    80   NoRisk  \n",
      "717       no  73.0    30   NoRisk  \n",
      "721       no  73.0    30   NoRisk  \n",
      "725       no  85.0    75   NoRisk  \n",
      "767       no  85.0    50   NoRisk  \n",
      "769       no  90.0    20   NoRisk  \n",
      "770      yes  76.0    50   NoRisk  \n",
      "797       no  73.0    70   NoRisk  \n",
      "803       no  85.0    40   NoRisk  \n",
      "842       no  73.0    30   NoRisk  \n",
      "868       no  70.0    70   NoRisk  \n",
      "913       no  50.0    30   NoRisk  \n",
      "945       no  60.0    10   NoRisk  \n",
      "947       no  90.0    25   NoRisk  \n",
      "990       no  80.0    30   NoRisk  \n",
      "993       no  80.0    30   NoRisk  \n",
      "1006     yes  76.0    50   NoRisk  \n",
      "1024      no  85.0    75   NoRisk  \n",
      "1029      no  73.0    30   NoRisk  \n",
      "1078      no  85.0    50   NoRisk  \n",
      "1088      no  73.0    70   NoRisk  \n",
      "1162      no  70.0    60   NoRisk  \n",
      "1213      no  80.0    40   NoRisk  \n",
      "1247      no  90.0    20   NoRisk  \n",
      "1254      no  70.0    60   NoRisk  \n",
      "1256      no  60.0    10   NoRisk  \n",
      "1267      no  70.0    70   NoRisk  \n",
      "1269      no  90.0    20   NoRisk  \n",
      "1272      no  80.0    30   NoRisk  \n",
      "1283      no  85.0    75   NoRisk  \n",
      "1355      no  60.0    10   NoRisk  \n",
      "1429      no  73.0    30   NoRisk  \n",
      "1434      no  73.0    30   NoRisk  \n",
      "1463      no  73.0    30   NoRisk  \n",
      "1508      no  70.0    60   NoRisk  \n"
     ]
    },
    {
     "data": {
      "image/png": "[encoded data removed]",
      "text/plain": [
       "<Figure size 360x360 with 1 Axes>"
      ]
     },
     "metadata": {
      "needs_background": "light"
     },
     "output_type": "display_data"
    }
   ],
   "source": [
    "df_copy1 = df.copy() ##first line included  to 'reset' the dataframe\n",
    "df_copy1.query('label == \"NoRisk\" and Diabetes ==\"no\" and IHD ==\"yes\" and Hypertension == \"no\" and Arrhythmia == \"no\" and Indication ==\"CVA\"', inplace = True) \n",
    "copy1 = df_copy1\n",
    "sns.catplot('History', data = copy1, kind='count' )\n",
    "print(copy1)"
   ]
  },
  {
   "cell_type": "markdown",
   "metadata": {},
   "source": [
    "for the SECOND missing variable we consider its respective nominal values surrounding to generate a query for the database which are:\n",
    "* YES - Hypertension \n",
    "* no - Diabetes\n",
    "* no - IHD\n",
    "* YES - Arrhythmia\n",
    "* CVA - Indication\n",
    "* Risk - Label"
   ]
  },
  {
   "cell_type": "code",
   "execution_count": 35,
   "metadata": {},
   "outputs": [
    {
     "name": "stdout",
     "output_type": "stream",
     "text": [
      "        Random      Id Indication Diabetes IHD Hypertension Arrhythmia  \\\n",
      "58    0.474349  127162        CVA       no  no          yes        yes   \n",
      "125   0.121791   99788        CVA       no  no          yes        yes   \n",
      "186   0.656033  274184        CVA       no  no          yes        yes   \n",
      "231   0.779279  289639        CVA       no  no          yes        yes   \n",
      "296   0.952549  206996        CVA       no  no          yes        yes   \n",
      "304   0.518919  144129        CVA       no  no          yes        yes   \n",
      "306   0.468218  280296        CVA       no  no          yes        yes   \n",
      "319   0.924900  128814        CVA       no  no          yes        yes   \n",
      "335   0.327012  244458        CVA       no  no          yes        yes   \n",
      "339   0.238195  104918        CVA       no  no          yes        yes   \n",
      "452   0.859137   95343        CVA       no  no          yes        yes   \n",
      "454   0.570452  279204        CVA       no  no          yes        yes   \n",
      "571   0.781024  146511        CVA       no  no          yes        yes   \n",
      "630   0.283872  229240        CVA       no  no          yes        yes   \n",
      "650   0.442457  256508        CVA       no  no          yes        yes   \n",
      "679   0.071222  277622        CVA       no  no          yes        yes   \n",
      "759   0.331750  228283        CVA       no  no          yes        yes   \n",
      "784   0.243645  196483        CVA       no  no          yes        yes   \n",
      "794   0.363732  141374        CVA       no  no          yes        yes   \n",
      "875   0.756938  228121        CVA       no  no          yes        yes   \n",
      "1005  0.477111  189014        CVA       no  no          yes        yes   \n",
      "1087  0.526470  151250        CVA       no  no          yes        yes   \n",
      "1218  0.056531  191401        CVA       no  no          yes        yes   \n",
      "1219  0.555868  259929        CVA       no  no          yes        yes   \n",
      "1239  0.783501  257042        CVA       no  no          yes        yes   \n",
      "1243  0.683506  109882        CVA       no  no          yes        yes   \n",
      "1244  0.949139  169399        CVA       no  no          yes        yes   \n",
      "1249  0.593431  103675        CVA       no  no          yes        yes   \n",
      "1270  0.308784  130651        CVA       no  no          yes        yes   \n",
      "1276  0.510357   86112        CVA       no  no          yes        yes   \n",
      "1344  0.991611  203242        CVA       no  no          yes        yes   \n",
      "1352  0.181373  202040        CVA       no  no          yes        yes   \n",
      "1492  0.072481  208141        CVA       no  no          yes        yes   \n",
      "1493  0.126512  102674        CVA       no  no          yes        yes   \n",
      "1498  0.873610  175424        CVA       no  no          yes        yes   \n",
      "\n",
      "     History  IPSI Contra label  \n",
      "58        no  95.0    100  Risk  \n",
      "125       no  95.0    100  Risk  \n",
      "186       no  95.0    100  Risk  \n",
      "231       no  80.0     80  Risk  \n",
      "296       no  80.0     80  Risk  \n",
      "304       no  95.0    100  Risk  \n",
      "306       no  80.0    100  Risk  \n",
      "319       no  95.0    100  Risk  \n",
      "335       no  95.0    100  Risk  \n",
      "339       no  95.0    100  Risk  \n",
      "452       no  95.0    100  Risk  \n",
      "454       no  95.0    100  Risk  \n",
      "571       no  95.0    100  Risk  \n",
      "630       no  95.0    100  Risk  \n",
      "650       no  95.0    100  Risk  \n",
      "679       no  95.0    100  Risk  \n",
      "759       no  95.0    100  Risk  \n",
      "784      NaN  95.0    100  Risk  \n",
      "794       no  80.0    100  Risk  \n",
      "875       no  80.0     80  Risk  \n",
      "1005      no  80.0     80  Risk  \n",
      "1087      no  95.0    100  Risk  \n",
      "1218      no  95.0    100  Risk  \n",
      "1219      no  80.0     80  Risk  \n",
      "1239      no  80.0    100  Risk  \n",
      "1243      no  95.0    100  Risk  \n",
      "1244      no  95.0    100  Risk  \n",
      "1249      no  80.0    100  Risk  \n",
      "1270      no  80.0     80  Risk  \n",
      "1276      no  80.0     80  Risk  \n",
      "1344      no  95.0    100  Risk  \n",
      "1352      no  95.0    100  Risk  \n",
      "1492      no  80.0     80  Risk  \n",
      "1493      no  80.0    100  Risk  \n",
      "1498      no  95.0    100  Risk  \n"
     ]
    },
    {
     "data": {
      "image/png": "[encoded data removed]",
      "text/plain": [
       "<Figure size 360x360 with 1 Axes>"
      ]
     },
     "metadata": {
      "needs_background": "light"
     },
     "output_type": "display_data"
    }
   ],
   "source": [
    "df_copy1 = df.copy() ##first line included  to 'reset' the dataframe\n",
    "df_copy1.query('label == \"Risk\" and Diabetes ==\"no\" and IHD ==\"no\" and Hypertension == \"yes\" and Arrhythmia == \"yes\" and Indication ==\"CVA\"', inplace = True) \n",
    "copy1 = df_copy1\n",
    "sns.catplot('History', data = copy1, kind='count' )\n",
    "print(copy1)"
   ]
  },
  {
   "cell_type": "markdown",
   "metadata": {},
   "source": [
    "### Diabetes values "
   ]
  },
  {
   "cell_type": "markdown",
   "metadata": {},
   "source": [
    "#### Step 1"
   ]
  },
  {
   "cell_type": "markdown",
   "metadata": {},
   "source": [
    "The first step involves locating the index in which the null value(s) are located. This is done by separating out the Diabetes column into a pandas.series and creating a truth table. If the value in the truth table returns \"true\" the index of that value(s) is stored in a list.\n",
    "\n",
    "The indexes are kept track of by a counter variable. Using the indexes stored in the list, the null values are then located using \"df_copy1.loc[var, :]\" where \"var\" is a value in the list "
   ]
  },
  {
   "cell_type": "code",
   "execution_count": 36,
   "metadata": {},
   "outputs": [
    {
     "data": {
      "text/plain": [
       "[447, 514]"
      ]
     },
     "execution_count": 36,
     "metadata": {},
     "output_type": "execute_result"
    }
   ],
   "source": [
    "df_copy1 = df.copy()\n",
    "Diabetes_column = df_copy1['Diabetes']\n",
    "Diabetes_null_index_positions = []\n",
    "\n",
    "x = Diabetes_column.isnull()\n",
    "t = True\n",
    "counter = 0\n",
    "for item in x:\n",
    "    if item == t:\n",
    "        Diabetes_null_index_positions.append(counter)\n",
    "    counter = counter + 1\n",
    "\n",
    "Diabetes_null_index_positions"
   ]
  },
  {
   "cell_type": "code",
   "execution_count": 37,
   "metadata": {},
   "outputs": [
    {
     "name": "stderr",
     "output_type": "stream",
     "text": [
      "c:\\program files (x86)\\python37-32\\lib\\site-packages\\ipykernel_launcher.py:4: SettingWithCopyWarning: \n",
      "A value is trying to be set on a copy of a slice from a DataFrame\n",
      "\n",
      "See the caveats in the documentation: http://pandas.pydata.org/pandas-docs/stable/user_guide/indexing.html#returning-a-view-versus-a-copy\n",
      "  after removing the cwd from sys.path.\n"
     ]
    }
   ],
   "source": [
    "df_copy1.loc[447, :]\n",
    "\n",
    "x = df_copy2.loc[447, :]\n",
    "x[3] = \"no\"\n",
    "df_copy2.loc[447, :] = x"
   ]
  },
  {
   "cell_type": "code",
   "execution_count": 38,
   "metadata": {},
   "outputs": [
    {
     "name": "stderr",
     "output_type": "stream",
     "text": [
      "c:\\program files (x86)\\python37-32\\lib\\site-packages\\ipykernel_launcher.py:4: SettingWithCopyWarning: \n",
      "A value is trying to be set on a copy of a slice from a DataFrame\n",
      "\n",
      "See the caveats in the documentation: http://pandas.pydata.org/pandas-docs/stable/user_guide/indexing.html#returning-a-view-versus-a-copy\n",
      "  after removing the cwd from sys.path.\n"
     ]
    },
    {
     "data": {
      "text/plain": [
       "Random          0.39213\n",
       "Id               210861\n",
       "Indication          A-F\n",
       "Diabetes             no\n",
       "IHD                  no\n",
       "Hypertension        yes\n",
       "Arrhythmia           no\n",
       "History              no\n",
       "IPSI                 80\n",
       "Contra               40\n",
       "label            NoRisk\n",
       "Name: 514, dtype: object"
      ]
     },
     "execution_count": 38,
     "metadata": {},
     "output_type": "execute_result"
    }
   ],
   "source": [
    "df_copy1.loc[514, :]\n",
    "\n",
    "x = df_copy2.loc[ 514, :]\n",
    "x[3] = \"no\"\n",
    "df_copy2.loc[514, :] = x\n",
    "\n",
    "df_copy2.loc[514, :]"
   ]
  },
  {
   "cell_type": "markdown",
   "metadata": {},
   "source": [
    "#### Step 2"
   ]
  },
  {
   "cell_type": "markdown",
   "metadata": {},
   "source": [
    "In relation to the previous step, we consider all nominal values surrounding the missing variable to generate a query for the dataframe. In this case, the missing variable is Hypertension. \n",
    "\n",
    "Therefore, for the first missing variable we consider its respective nominal values surrounding to generate a query for the dataframe which are:\n",
    "* yes - Hypertension \n",
    "* no - History\n",
    "* yes - IHD\n",
    "* yes - Arrhythmia\n",
    "* CVA - Indication\n",
    "* Risk - Label"
   ]
  },
  {
   "cell_type": "code",
   "execution_count": 39,
   "metadata": {},
   "outputs": [
    {
     "name": "stdout",
     "output_type": "stream",
     "text": [
      "        Random      Id Indication Diabetes  IHD Hypertension Arrhythmia  \\\n",
      "10    0.678157  174588        CVA       no  yes          yes        yes   \n",
      "13    0.025356  224025        CVA       no  yes          yes        yes   \n",
      "15    0.025356  219417        CVA       no  yes          yes        yes   \n",
      "55    0.214769  107364        CVA       no  yes          yes        yes   \n",
      "104   0.655518  217261        CVA       no  yes          yes        yes   \n",
      "...        ...     ...        ...      ...  ...          ...        ...   \n",
      "1282  0.265680  135694        CVA       no  yes          yes        yes   \n",
      "1309  0.205951  204022        CVA       no  yes          yes        yes   \n",
      "1350  0.730029  180993        CVA       no  yes          yes        yes   \n",
      "1466  0.777815  214204        CVA       no  yes          yes        yes   \n",
      "1484  0.411551  232686        CVA       no  yes          yes        yes   \n",
      "\n",
      "     History  IPSI Contra label  \n",
      "10        no  75.0     50  Risk  \n",
      "13        no  75.0     50  Risk  \n",
      "15        no  90.0    100  Risk  \n",
      "55        no  90.0     90  Risk  \n",
      "104       no  90.0    100  Risk  \n",
      "...      ...   ...    ...   ...  \n",
      "1282      no  90.0     90  Risk  \n",
      "1309      no  90.0    100  Risk  \n",
      "1350      no  80.0     50  Risk  \n",
      "1466      no  75.0     50  Risk  \n",
      "1484      no  90.0    100  Risk  \n",
      "\n",
      "[70 rows x 11 columns]\n"
     ]
    },
    {
     "data": {
      "image/png": "[encoded data removed]",
      "text/plain": [
       "<Figure size 360x360 with 1 Axes>"
      ]
     },
     "metadata": {
      "needs_background": "light"
     },
     "output_type": "display_data"
    }
   ],
   "source": [
    "df_copy1 = df.copy() ##first line included  to 'reset' the dataframe\n",
    "df_copy1.query('label == \"Risk\" and History ==\"no\" and IHD ==\"yes\" and Hypertension == \"yes\" and Arrhythmia == \"yes\" and Indication ==\"CVA\"', inplace = True) \n",
    "copy1 = df_copy1\n",
    "sns.catplot('Diabetes', data = copy1, kind='count' )\n",
    "print(copy1)"
   ]
  },
  {
   "cell_type": "markdown",
   "metadata": {},
   "source": [
    "for the SECOND missing variable we consider its respective nominal values surrounding to generate a query for the database which are:\n",
    "* YES - Hypertension \n",
    "* no - History\n",
    "* no - IHD\n",
    "* no - Arrhythmia\n",
    "* A-F - Indication\n",
    "* NoRisk - Label"
   ]
  },
  {
   "cell_type": "code",
   "execution_count": 40,
   "metadata": {},
   "outputs": [
    {
     "name": "stdout",
     "output_type": "stream",
     "text": [
      "        Random      Id Indication Diabetes IHD Hypertension Arrhythmia  \\\n",
      "0     0.602437  218242        A-F       no  no          yes         no   \n",
      "20    0.890427  250562        A-F       no  no          yes         no   \n",
      "27    0.147857  295155        A-F       no  no          yes         no   \n",
      "46    0.475562  263601        A-F       no  no          yes         no   \n",
      "47    0.486382  190335        A-F       no  no          yes         no   \n",
      "54    0.927099  247629        A-F       no  no          yes         no   \n",
      "62    0.869874  101697        A-F       no  no          yes         no   \n",
      "64    0.221221   90643        A-F       no  no          yes         no   \n",
      "73    0.030122  162168        A-F       no  no          yes         no   \n",
      "88    0.821317   84553        A-F       no  no          yes         no   \n",
      "99    0.897747  255097        A-F       no  no          yes         no   \n",
      "137   0.800132  291452        A-F       no  no          yes         no   \n",
      "195   0.999448  252619        A-F       no  no          yes         no   \n",
      "251   0.488465  160234        A-F       no  no          yes         no   \n",
      "258   0.412119  290877        A-F       no  no          yes         no   \n",
      "265   0.826871  293485        A-F       no  no          yes         no   \n",
      "289   0.353361  256225        A-F       no  no          yes         no   \n",
      "359   0.670643  269478        A-F       no  no          yes         no   \n",
      "377   0.693893  157090        A-F       no  no          yes         no   \n",
      "393   0.908471  174139        A-F       no  no          yes         no   \n",
      "409   0.289104  286731        A-F       no  no          yes         no   \n",
      "471   0.585596  193531        A-F       no  no          yes         no   \n",
      "476   0.717046  293228        A-F       no  no          yes         no   \n",
      "514   0.392130  210861        A-F      NaN  no          yes         no   \n",
      "535   0.749269  151797        A-F       no  no          yes         no   \n",
      "578   0.325580  206570        A-F       no  no          yes         no   \n",
      "616   0.515700  179887        A-F       no  no          yes         no   \n",
      "624   0.373723  277476        A-F       no  no          yes         no   \n",
      "651   0.607569  207888        A-F       no  no          yes         no   \n",
      "674   0.126141  115776        A-F       no  no          yes         no   \n",
      "775   0.648345  289651        A-F       no  no          yes         no   \n",
      "886   0.199780  186030        A-F       no  no          yes         no   \n",
      "918   0.430474  247226        A-F       no  no          yes         no   \n",
      "937   0.601496  290767        A-F       no  no          yes         no   \n",
      "949   0.391715   79960        A-F       no  no          yes         no   \n",
      "1008  0.712196  161709        A-F       no  no          yes         no   \n",
      "1041  0.890516   83931        A-F       no  no          yes         no   \n",
      "1053  0.227965  260857        A-F       no  no          yes         no   \n",
      "1069  0.869164  288792        A-F       no  no          yes         no   \n",
      "1152  0.899742  284721        A-F       no  no          yes         no   \n",
      "1229  0.116021  271634        A-F       no  no          yes         no   \n",
      "1286  0.070401  280444        A-F       no  no          yes         no   \n",
      "1293  0.611028  204370        A-F       no  no          yes         no   \n",
      "1307  0.406420  171213        A-F       no  no          yes         no   \n",
      "1326  0.469175  170948        A-F       no  no          yes         no   \n",
      "1375  0.374456  164340        A-F       no  no          yes         no   \n",
      "1400  0.856078  109615        A-F       no  no          yes         no   \n",
      "1424  0.973518  293534        A-F       no  no          yes         no   \n",
      "1456  0.561838  186066        A-F       no  no          yes         no   \n",
      "1464  0.380711  150464        A-F       no  no          yes         no   \n",
      "1471  0.336300   94033        A-F       no  no          yes         no   \n",
      "\n",
      "     History  IPSI Contra   label  \n",
      "0         no  78.0    20   NoRisk  \n",
      "20        no  75.0    25   NoRisk  \n",
      "27        no  75.0    15   NoRisk  \n",
      "46        no  71.0    30   NoRisk  \n",
      "47        no  70.0    20   NoRisk  \n",
      "54        no  76.0    50   NoRisk  \n",
      "62        no  75.0    25   NoRisk  \n",
      "64        no  76.0    30   NoRisk  \n",
      "73        no  76.0    50   NoRisk  \n",
      "88        no  75.0    15   NoRisk  \n",
      "99        no  50.0    30   NoRisk  \n",
      "137       no  90.0    20   NoRisk  \n",
      "195       no  75.0    15   NoRisk  \n",
      "251       no  70.0    50   NoRisk  \n",
      "258       no  75.0    15   NoRisk  \n",
      "265       no  90.0    20   NoRisk  \n",
      "289       no  70.0    20   NoRisk  \n",
      "359       no  76.0    50   NoRisk  \n",
      "377       no  75.0    40   NoRisk  \n",
      "393       no  70.0    20   NoRisk  \n",
      "409       no  70.0    20   NoRisk  \n",
      "471       no  80.0    40   NoRisk  \n",
      "476       no  75.0    25   NoRisk  \n",
      "514       no  80.0     40  NoRisk  \n",
      "535       no  78.0    20   NoRisk  \n",
      "578       no  78.0    20   NoRisk  \n",
      "616       no  75.0    15   NoRisk  \n",
      "624       no  78.0    20   NoRisk  \n",
      "651       no  78.0    20   NoRisk  \n",
      "674       no  76.0    50   NoRisk  \n",
      "775       no  75.0    25   NoRisk  \n",
      "886       no  80.0    40   NoRisk  \n",
      "918       no  80.0    40   NoRisk  \n",
      "937       no  75.0    75   NoRisk  \n",
      "949       no  50.0    30   NoRisk  \n",
      "1008      no  75.0    15   NoRisk  \n",
      "1041      no  75.0    75   NoRisk  \n",
      "1053      no  50.0    30   NoRisk  \n",
      "1069      no  80.0    40   NoRisk  \n",
      "1152      no  80.0    40   NoRisk  \n",
      "1229      no  78.0    20   NoRisk  \n",
      "1286      no  50.0    30   NoRisk  \n",
      "1293      no  71.0    30   NoRisk  \n",
      "1307      no  76.0    50   NoRisk  \n",
      "1326      no  78.0    20   NoRisk  \n",
      "1375      no  75.0    25   NoRisk  \n",
      "1400      no  76.0    50   NoRisk  \n",
      "1424      no  75.0    15   NoRisk  \n",
      "1456      no  78.0    20   NoRisk  \n",
      "1464      no  71.0    30   NoRisk  \n",
      "1471      no  50.0    30   NoRisk  \n"
     ]
    },
    {
     "data": {
      "image/png": "[encoded data removed]",
      "text/plain": [
       "<Figure size 360x360 with 1 Axes>"
      ]
     },
     "metadata": {
      "needs_background": "light"
     },
     "output_type": "display_data"
    }
   ],
   "source": [
    "df_copy1 = df.copy() ##first line included  to 'reset' the dataframe\n",
    "df_copy1.query('label == \"NoRisk\" and History ==\"no\" and IHD ==\"no\" and Hypertension == \"yes\" and Arrhythmia == \"no\" and Indication ==\"A-F\"', inplace = True) \n",
    "copy1 = df_copy1\n",
    "sns.catplot('Diabetes', data = copy1, kind='count' )\n",
    "print(copy1)"
   ]
  },
  {
   "cell_type": "markdown",
   "metadata": {},
   "source": [
    "### Float/ Integer values\n",
    "### Contra and IPSI\n",
    "### Step 1 (IPSI)"
   ]
  },
  {
   "cell_type": "markdown",
   "metadata": {},
   "source": [
    "The first step involves locating the index in which the null value(s) are located. This is done by separating out the IPSI column into a pandas.series and creating a truth table. If the value in the truth table returns \"true\" the index of that value(s) is stored in a list.\n",
    "\n",
    "The indexes are kept track of by a counter variable. Using the indexes stored in the list, the null values are then located using \"df_copy1.loc[var, :]\" where \"var\" is a value in the list "
   ]
  },
  {
   "cell_type": "code",
   "execution_count": 41,
   "metadata": {},
   "outputs": [],
   "source": [
    "df_copy1 = df.copy()\n",
    "IPSI_column = df_copy1['IPSI']\n",
    "IPSI_null_index_positions = []\n",
    "\n",
    "x = IPSI_column.isnull()\n",
    "t = True\n",
    "counter = 0\n",
    "for item in x:\n",
    "    if item == t:\n",
    "        IPSI_null_index_positions.append(counter)\n",
    "    counter = counter + 1\n",
    "\n",
    "IPSI_null_index_positions\n",
    "df_copy1 = df.copy()"
   ]
  },
  {
   "cell_type": "markdown",
   "metadata": {},
   "source": []
  },
  {
   "cell_type": "markdown",
   "metadata": {},
   "source": [
    "#### Step 2(IPSI)\n",
    "In relation to the previous step, we consider all nominal values surrounding the missing variable to generate a query for the dataframe. In this case, the missing variable is Hypertension. \n",
    "\n",
    "Therefore, for the first missing variable we consider its respective nominal values surrounding to generate a query for the dataframe which are:\n",
    "* NO - Hypertension \n",
    "* no - History\n",
    "* NO - IHD\n",
    "* NO - Arrhythmia\n",
    "* CVA - A-F\n",
    "* Risk - Label"
   ]
  },
  {
   "cell_type": "code",
   "execution_count": 42,
   "metadata": {},
   "outputs": [
    {
     "name": "stderr",
     "output_type": "stream",
     "text": [
      "c:\\program files (x86)\\python37-32\\lib\\site-packages\\ipykernel_launcher.py:4: SettingWithCopyWarning: \n",
      "A value is trying to be set on a copy of a slice from a DataFrame\n",
      "\n",
      "See the caveats in the documentation: http://pandas.pydata.org/pandas-docs/stable/user_guide/indexing.html#returning-a-view-versus-a-copy\n",
      "  after removing the cwd from sys.path.\n"
     ]
    },
    {
     "data": {
      "text/plain": [
       "Random          0.283872\n",
       "Id                227779\n",
       "Indication           A-F\n",
       "Diabetes              no\n",
       "IHD                   no\n",
       "Hypertension          no\n",
       "Arrhythmia            no\n",
       "History               no\n",
       "IPSI                  80\n",
       "Contra               100\n",
       "label               Risk\n",
       "Name: 620, dtype: object"
      ]
     },
     "execution_count": 42,
     "metadata": {},
     "output_type": "execute_result"
    }
   ],
   "source": [
    "df_copy1.loc[620, :]\n",
    "\n",
    "x = df_copy2.loc[ 620, :]\n",
    "x[8] = 80.0\n",
    "df_copy2.loc[620, :] = x\n",
    "\n",
    "df_copy2.loc[620, :]"
   ]
  },
  {
   "cell_type": "code",
   "execution_count": 43,
   "metadata": {},
   "outputs": [
    {
     "data": {
      "image/png": "[encoded data removed]",
      "text/plain": [
       "<Figure size 360x360 with 1 Axes>"
      ]
     },
     "metadata": {
      "needs_background": "light"
     },
     "output_type": "display_data"
    }
   ],
   "source": [
    "df_copy1 = df.copy() ##first line included  to 'reset' the dataframe\n",
    "df_copy1.query('label == \"Risk\" and History ==\"no\" and IHD ==\"no\" and Diabetes == \"no\" and Hypertension == \"no\" and Contra ==\"100\" and Arrhythmia == \"no\" and Indication ==\"A-F\"', inplace = True) \n",
    "copy1 = df_copy1\n",
    "sns.catplot('IPSI', data = copy1, kind='count' )\n",
    "df_copy1 = df.copy()"
   ]
  },
  {
   "cell_type": "markdown",
   "metadata": {},
   "source": [
    "Second missing variable we consider its respective nominal values surrounding to generate a query for the dataframe which are:\n",
    "* yes - Hypertension \n",
    "* no - History\n",
    "* yes - IHD\n",
    "* yes - Arrhythmia\n",
    "* CVA - Indication\n",
    "* no - Diabetes\n",
    "* Risk - Label"
   ]
  },
  {
   "cell_type": "code",
   "execution_count": 44,
   "metadata": {},
   "outputs": [
    {
     "name": "stderr",
     "output_type": "stream",
     "text": [
      "c:\\program files (x86)\\python37-32\\lib\\site-packages\\ipykernel_launcher.py:4: SettingWithCopyWarning: \n",
      "A value is trying to be set on a copy of a slice from a DataFrame\n",
      "\n",
      "See the caveats in the documentation: http://pandas.pydata.org/pandas-docs/stable/user_guide/indexing.html#returning-a-view-versus-a-copy\n",
      "  after removing the cwd from sys.path.\n"
     ]
    },
    {
     "data": {
      "text/plain": [
       "Random          0.243518\n",
       "Id                146415\n",
       "Indication           CVA\n",
       "Diabetes              no\n",
       "IHD                  yes\n",
       "Hypertension         yes\n",
       "Arrhythmia           yes\n",
       "History               no\n",
       "IPSI                  90\n",
       "Contra               100\n",
       "label               Risk\n",
       "Name: 752, dtype: object"
      ]
     },
     "execution_count": 44,
     "metadata": {},
     "output_type": "execute_result"
    }
   ],
   "source": [
    "df_copy1.loc[752, :]\n",
    "\n",
    "x = df_copy2.loc[ 752, :]\n",
    "x[8] = 90.0\n",
    "df_copy2.loc[752, :] = x\n",
    "\n",
    "df_copy2.loc[752, :]"
   ]
  },
  {
   "cell_type": "code",
   "execution_count": 45,
   "metadata": {},
   "outputs": [
    {
     "name": "stdout",
     "output_type": "stream",
     "text": [
      "        Random      Id Indication Diabetes  IHD Hypertension Arrhythmia  \\\n",
      "15    0.025356  219417        CVA       no  yes          yes        yes   \n",
      "104   0.655518  217261        CVA       no  yes          yes        yes   \n",
      "161   0.797144  196834        CVA       no  yes          yes        yes   \n",
      "182   0.965866   97917        CVA       no  yes          yes        yes   \n",
      "230   0.251238  141091        CVA       no  yes          yes        yes   \n",
      "241   0.551513  210166        CVA       no  yes          yes        yes   \n",
      "257   0.321852  271690        CVA       no  yes          yes        yes   \n",
      "268   0.457256  270141        CVA       no  yes          yes        yes   \n",
      "271   0.986814  186277        CVA       no  yes          yes        yes   \n",
      "314   0.875273  123618        CVA       no  yes          yes        yes   \n",
      "461   0.346396  184196        CVA       no  yes          yes        yes   \n",
      "505   0.438228  181950        CVA       no  yes          yes        yes   \n",
      "517   0.160044  234588        CVA       no  yes          yes        yes   \n",
      "547   0.978215  118678        CVA       no  yes          yes        yes   \n",
      "567   0.876403  274387        CVA       no  yes          yes        yes   \n",
      "582   0.039477  212431        CVA       no  yes          yes        yes   \n",
      "608   0.026466  222474        CVA       no  yes          yes        yes   \n",
      "731   0.066310  233914        CVA       no  yes          yes        yes   \n",
      "752   0.243518  146415        CVA       no  yes          yes        yes   \n",
      "754   0.515347  204456        CVA       no  yes          yes        yes   \n",
      "773   0.322002  272826        CVA       no  yes          yes        yes   \n",
      "789   0.551002  252667        CVA       no  yes          yes        yes   \n",
      "832   0.428976   97988        CVA       no  yes          yes        yes   \n",
      "870   0.888907  208140        CVA       no  yes          yes        yes   \n",
      "892   0.538918  111532        CVA       no  yes          yes        yes   \n",
      "1072  0.055136  193096        CVA       no  yes          yes        yes   \n",
      "1089  0.441053  239144        CVA       no  yes          yes        yes   \n",
      "1149  0.962331  136932        CVA       no  yes          yes        yes   \n",
      "1158  0.577496  119426        CVA       no  yes          yes        yes   \n",
      "1227  0.420637  153528        CVA       no  yes          yes        yes   \n",
      "1309  0.205951  204022        CVA       no  yes          yes        yes   \n",
      "1484  0.411551  232686        CVA       no  yes          yes        yes   \n",
      "\n",
      "     History  IPSI Contra label  \n",
      "15        no  90.0    100  Risk  \n",
      "104       no  90.0    100  Risk  \n",
      "161       no  90.0    100  Risk  \n",
      "182       no  90.0    100  Risk  \n",
      "230       no  90.0    100  Risk  \n",
      "241       no  85.0    100  Risk  \n",
      "257       no  90.0    100  Risk  \n",
      "268       no  90.0    100  Risk  \n",
      "271       no  90.0    100  Risk  \n",
      "314       no  70.0    100  Risk  \n",
      "461       no  70.0    100  Risk  \n",
      "505       no  90.0    100  Risk  \n",
      "517       no  90.0    100  Risk  \n",
      "547       no  90.0    100  Risk  \n",
      "567       no  90.0    100  Risk  \n",
      "582       no  70.0    100  Risk  \n",
      "608       no  70.0    100  Risk  \n",
      "731       no  90.0    100  Risk  \n",
      "752       no   NaN    100  Risk  \n",
      "754       no  85.0    100  Risk  \n",
      "773       no  90.0    100  Risk  \n",
      "789       no  90.0    100  Risk  \n",
      "832       no  90.0    100  Risk  \n",
      "870       no  70.0    100  Risk  \n",
      "892       no  90.0    100  Risk  \n",
      "1072      no  70.0    100  Risk  \n",
      "1089      no  85.0    100  Risk  \n",
      "1149      no  85.0    100  Risk  \n",
      "1158      no  90.0    100  Risk  \n",
      "1227      no  90.0    100  Risk  \n",
      "1309      no  90.0    100  Risk  \n",
      "1484      no  90.0    100  Risk  \n"
     ]
    },
    {
     "data": {
      "image/png": "[encoded data removed]",
      "text/plain": [
       "<Figure size 360x360 with 1 Axes>"
      ]
     },
     "metadata": {
      "needs_background": "light"
     },
     "output_type": "display_data"
    }
   ],
   "source": [
    "df_copy1 = df.copy() ##first line included  to 'reset' the dataframe\n",
    "df_copy1.query('label == \"Risk\" and History ==\"no\" and IHD ==\"yes\" and Diabetes == \"no\" and Contra ==\"100\" and Hypertension == \"yes\" and Arrhythmia == \"yes\" and Indication ==\"CVA\"', inplace = True) \n",
    "copy1 = df_copy1\n",
    "sns.catplot('IPSI', data = copy1, kind='count' )\n",
    "df_copy1 = df.copy()\n",
    "print(copy1)"
   ]
  },
  {
   "cell_type": "code",
   "execution_count": 46,
   "metadata": {},
   "outputs": [
    {
     "name": "stderr",
     "output_type": "stream",
     "text": [
      "c:\\program files (x86)\\python37-32\\lib\\site-packages\\ipykernel_launcher.py:4: SettingWithCopyWarning: \n",
      "A value is trying to be set on a copy of a slice from a DataFrame\n",
      "\n",
      "See the caveats in the documentation: http://pandas.pydata.org/pandas-docs/stable/user_guide/indexing.html#returning-a-view-versus-a-copy\n",
      "  after removing the cwd from sys.path.\n"
     ]
    },
    {
     "data": {
      "text/plain": [
       "Random          0.920096\n",
       "Id                104176\n",
       "Indication           CVA\n",
       "Diabetes              no\n",
       "IHD                   no\n",
       "Hypertension          no\n",
       "Arrhythmia            no\n",
       "History               no\n",
       "IPSI                  70\n",
       "Contra                20\n",
       "label             NoRisk\n",
       "Name: 845, dtype: object"
      ]
     },
     "execution_count": 46,
     "metadata": {},
     "output_type": "execute_result"
    }
   ],
   "source": [
    "df_copy1.loc[845, :]\n",
    "\n",
    "x = df_copy2.loc[ 845, :]\n",
    "x[8] = 70.0\n",
    "df_copy2.loc[845, :] = x\n",
    "\n",
    "df_copy2.loc[845, :]"
   ]
  },
  {
   "cell_type": "code",
   "execution_count": 47,
   "metadata": {},
   "outputs": [
    {
     "name": "stdout",
     "output_type": "stream",
     "text": [
      "        Random      Id Indication Diabetes IHD Hypertension Arrhythmia  \\\n",
      "4     0.676862  245829        CVA       no  no           no         no   \n",
      "7     0.538333  261057        CVA       no  no           no         no   \n",
      "23    0.885271  195912        CVA       no  no           no         no   \n",
      "30    0.952292  104010        CVA       no  no           no         no   \n",
      "48    0.647756   86596        CVA       no  no           no         no   \n",
      "...        ...     ...        ...      ...  ..          ...        ...   \n",
      "1489  0.151706  154089        CVA       no  no           no         no   \n",
      "1491  0.881038  207613        CVA       no  no           no         no   \n",
      "1501  0.977551  195147        CVA       no  no           no         no   \n",
      "1503  0.278695  141435        CVA       no  no           no         no   \n",
      "1519  0.634922  254941        CVA       no  no           no         no   \n",
      "\n",
      "     History  IPSI Contra   label  \n",
      "4         no  70.0    20   NoRisk  \n",
      "7         no  75.0    60   NoRisk  \n",
      "23        no  68.0    60   NoRisk  \n",
      "30        no  99.0    60   NoRisk  \n",
      "48        no  75.0   100   NoRisk  \n",
      "...      ...   ...    ...     ...  \n",
      "1489      no  70.0    70   NoRisk  \n",
      "1491      no  68.0   100   NoRisk  \n",
      "1501      no  70.0    90   NoRisk  \n",
      "1503      no  95.0    30   NoRisk  \n",
      "1519      no  60.0    20   NoRisk  \n",
      "\n",
      "[116 rows x 11 columns]\n"
     ]
    },
    {
     "data": {
      "image/png": "[encoded data removed]",
      "text/plain": [
       "<Figure size 360x360 with 1 Axes>"
      ]
     },
     "metadata": {
      "needs_background": "light"
     },
     "output_type": "display_data"
    }
   ],
   "source": [
    "df_copy1 = df.copy() ##first line included  to 'reset' the dataframe\n",
    "df_copy1.query('label == \"NoRisk\" and History ==\"no\" and IHD ==\"no\" and Diabetes == \"no\" and Hypertension == \"no\" and Arrhythmia == \"no\" and Indication ==\"CVA\"', inplace = True) \n",
    "copy1 = df_copy1\n",
    "sns.catplot('IPSI', data = copy1, kind='count' )\n",
    "df_copy1 = df.copy()\n",
    "print(copy1)"
   ]
  },
  {
   "cell_type": "code",
   "execution_count": 48,
   "metadata": {},
   "outputs": [
    {
     "name": "stderr",
     "output_type": "stream",
     "text": [
      "c:\\program files (x86)\\python37-32\\lib\\site-packages\\ipykernel_launcher.py:4: SettingWithCopyWarning: \n",
      "A value is trying to be set on a copy of a slice from a DataFrame\n",
      "\n",
      "See the caveats in the documentation: http://pandas.pydata.org/pandas-docs/stable/user_guide/indexing.html#returning-a-view-versus-a-copy\n",
      "  after removing the cwd from sys.path.\n"
     ]
    },
    {
     "data": {
      "text/plain": [
       "Random          0.00450114\n",
       "Id                  281679\n",
       "Indication             A-F\n",
       "Diabetes                no\n",
       "IHD                     no\n",
       "Hypertension            no\n",
       "Arrhythmia              no\n",
       "History                 no\n",
       "IPSI                    80\n",
       "Contra                  50\n",
       "label               NoRisk\n",
       "Name: 916, dtype: object"
      ]
     },
     "execution_count": 48,
     "metadata": {},
     "output_type": "execute_result"
    }
   ],
   "source": [
    "df_copy1.loc[916, :]\n",
    "\n",
    "x = df_copy2.loc[ 916, :]\n",
    "x[8] = 80.0\n",
    "df_copy2.loc[916, :] = x\n",
    "\n",
    "df_copy2.loc[916, :]"
   ]
  },
  {
   "cell_type": "code",
   "execution_count": 49,
   "metadata": {},
   "outputs": [
    {
     "name": "stdout",
     "output_type": "stream",
     "text": [
      "        Random      Id Indication Diabetes IHD Hypertension Arrhythmia  \\\n",
      "29    0.806727  104062        A-F       no  no           no         no   \n",
      "40    0.728137   91068        A-F       no  no           no         no   \n",
      "63    0.533630  210968        A-F       no  no           no         no   \n",
      "66    0.221221  154412        A-F       no  no           no         no   \n",
      "77    0.570818  277279        A-F       no  no           no         no   \n",
      "...        ...     ...        ...      ...  ..          ...        ...   \n",
      "1449  0.517545  172519        A-F       no  no           no         no   \n",
      "1461  0.768681  167350        A-F       no  no           no         no   \n",
      "1483  0.972796   83632        A-F       no  no           no         no   \n",
      "1486  0.313941   95434        A-F       no  no           no         no   \n",
      "1502  0.636996  176877        A-F       no  no           no         no   \n",
      "\n",
      "     History  IPSI Contra   label  \n",
      "29        no  78.0    30   NoRisk  \n",
      "40        no  70.0    20   NoRisk  \n",
      "63        no  75.0    30   NoRisk  \n",
      "66        no  70.0    20   NoRisk  \n",
      "77        no  74.0    50   NoRisk  \n",
      "...      ...   ...    ...     ...  \n",
      "1449      no  82.0    30   NoRisk  \n",
      "1461      no  95.0    20   NoRisk  \n",
      "1483      no  75.0    55   NoRisk  \n",
      "1486      no  90.0    50   NoRisk  \n",
      "1502      no  74.0    50   NoRisk  \n",
      "\n",
      "[117 rows x 11 columns]\n"
     ]
    },
    {
     "data": {
      "image/png": "[encoded data removed]",
      "text/plain": [
       "<Figure size 360x360 with 1 Axes>"
      ]
     },
     "metadata": {
      "needs_background": "light"
     },
     "output_type": "display_data"
    }
   ],
   "source": [
    "df_copy1 = df.copy() ##first line included  to 'reset' the dataframe\n",
    "df_copy1.query('label == \"NoRisk\" and History ==\"no\" and IHD ==\"no\" and Diabetes == \"no\" and Hypertension == \"no\" and Arrhythmia == \"no\" and Indication ==\"A-F\"', inplace = True) \n",
    "copy1 = df_copy1\n",
    "sns.catplot('IPSI', data = copy1, kind='count' )\n",
    "df_copy1 = df.copy()\n",
    "print(copy1)"
   ]
  },
  {
   "cell_type": "code",
   "execution_count": 50,
   "metadata": {},
   "outputs": [
    {
     "data": {
      "text/plain": [
       "[453]"
      ]
     },
     "execution_count": 50,
     "metadata": {},
     "output_type": "execute_result"
    }
   ],
   "source": [
    "df_copy1 = df.copy()\n",
    "Contra_column = df_copy1['Contra']\n",
    "Contra_null_index_positions = []\n",
    "c = 0\n",
    "for item in Contra_column:\n",
    "    if item == \" \":\n",
    "        Contra_null_index_positions.append(c)\n",
    "    c = c + 1\n",
    "    \n",
    "Contra_null_index_positions"
   ]
  },
  {
   "cell_type": "code",
   "execution_count": 51,
   "metadata": {},
   "outputs": [
    {
     "name": "stderr",
     "output_type": "stream",
     "text": [
      "c:\\program files (x86)\\python37-32\\lib\\site-packages\\ipykernel_launcher.py:4: SettingWithCopyWarning: \n",
      "A value is trying to be set on a copy of a slice from a DataFrame\n",
      "\n",
      "See the caveats in the documentation: http://pandas.pydata.org/pandas-docs/stable/user_guide/indexing.html#returning-a-view-versus-a-copy\n",
      "  after removing the cwd from sys.path.\n"
     ]
    },
    {
     "data": {
      "text/plain": [
       "Random          0.518558\n",
       "Id                254469\n",
       "Indication           ASx\n",
       "Diabetes              no\n",
       "IHD                   no\n",
       "Hypertension         yes\n",
       "Arrhythmia            no\n",
       "History               no\n",
       "IPSI                  70\n",
       "Contra                60\n",
       "label             NoRisk\n",
       "Name: 453, dtype: object"
      ]
     },
     "execution_count": 51,
     "metadata": {},
     "output_type": "execute_result"
    }
   ],
   "source": [
    "df_copy1.loc[453, :]\n",
    "\n",
    "x = df_copy2.loc[ 453, :]\n",
    "x[9] = 60.0\n",
    "df_copy2.loc[453, :] = x\n",
    "\n",
    "df_copy2.loc[453, :]"
   ]
  },
  {
   "cell_type": "code",
   "execution_count": 52,
   "metadata": {},
   "outputs": [
    {
     "name": "stdout",
     "output_type": "stream",
     "text": [
      "        Random      Id Indication Diabetes IHD Hypertension Arrhythmia  \\\n",
      "60    0.869874  232028        ASx       no  no          yes         no   \n",
      "453   0.518558  254469        ASx       no  no          yes         no   \n",
      "580   0.580921  294555        ASx       no  no          yes         no   \n",
      "605   0.196472  173263        ASx       no  no          yes         no   \n",
      "1372  0.906489  101064        ASx       no  no          yes         no   \n",
      "1423  0.614189  177127        ASx       no  no          yes         no   \n",
      "\n",
      "     History  IPSI Contra   label  \n",
      "60        no  70.0    60   NoRisk  \n",
      "453       no  70.0         NoRisk  \n",
      "580       no  70.0    60   NoRisk  \n",
      "605       no  70.0    60   NoRisk  \n",
      "1372      no  70.0    60   NoRisk  \n",
      "1423      no  70.0    60   NoRisk  \n"
     ]
    },
    {
     "data": {
      "image/png": "[encoded data removed]",
      "text/plain": [
       "<Figure size 360x360 with 1 Axes>"
      ]
     },
     "metadata": {
      "needs_background": "light"
     },
     "output_type": "display_data"
    }
   ],
   "source": [
    "df_copy1 = df.copy() ##first line included  to 'reset' the dataframe\n",
    "df_copy1.query('label == \"NoRisk\" and History ==\"no\" and IHD ==\"no\" and Diabetes == \"no\" and IPSI == 70 and Hypertension == \"yes\" and Arrhythmia == \"no\" and Indication ==\"ASx\"', inplace = True) \n",
    "copy1 = df_copy1\n",
    "sns.catplot('Contra', data = copy1, kind='count' )\n",
    "df_copy1 = df.copy()\n",
    "print(copy1)"
   ]
  },
  {
   "cell_type": "markdown",
   "metadata": {},
   "source": [
    "### Repairing Indication (Extra nominal value)"
   ]
  },
  {
   "cell_type": "code",
   "execution_count": 53,
   "metadata": {},
   "outputs": [
    {
     "data": {
      "text/plain": [
       "<seaborn.axisgrid.FacetGrid at 0x123eb810>"
      ]
     },
     "execution_count": 53,
     "metadata": {},
     "output_type": "execute_result"
    },
    {
     "data": {
      "image/png": "[encoded data removed]",
      "text/plain": [
       "<Figure size 360x360 with 1 Axes>"
      ]
     },
     "metadata": {
      "needs_background": "light"
     },
     "output_type": "display_data"
    }
   ],
   "source": [
    "sns.catplot('Indication', data = df_copy2, kind='count' )"
   ]
  },
  {
   "cell_type": "code",
   "execution_count": 54,
   "metadata": {},
   "outputs": [
    {
     "data": {
      "text/plain": [
       "<seaborn.axisgrid.FacetGrid at 0x145332d0>"
      ]
     },
     "execution_count": 54,
     "metadata": {},
     "output_type": "execute_result"
    },
    {
     "data": {
      "image/png": "[encoded data removed]",
      "text/plain": [
       "<Figure size 360x360 with 1 Axes>"
      ]
     },
     "metadata": {
      "needs_background": "light"
     },
     "output_type": "display_data"
    }
   ],
   "source": [
    "df_copy2['Indication'] = df_copy2['Indication'].replace(['Asx'], 'ASx')\n",
    "sns.catplot('Indication', data = df_copy2, kind='count' )"
   ]
  },
  {
   "cell_type": "code",
   "execution_count": 55,
   "metadata": {},
   "outputs": [
    {
     "data": {
      "text/plain": [
       "count     1520\n",
       "unique       4\n",
       "top        A-F\n",
       "freq       494\n",
       "Name: Indication, dtype: object"
      ]
     },
     "execution_count": 55,
     "metadata": {},
     "output_type": "execute_result"
    }
   ],
   "source": [
    "df_copy2['Indication'].describe()"
   ]
  },
  {
   "cell_type": "code",
   "execution_count": 56,
   "metadata": {},
   "outputs": [
    {
     "data": {
      "text/plain": [
       "count     1520\n",
       "unique       2\n",
       "top         no\n",
       "freq      1443\n",
       "Name: Diabetes, dtype: object"
      ]
     },
     "execution_count": 56,
     "metadata": {},
     "output_type": "execute_result"
    }
   ],
   "source": [
    "df_copy2['Diabetes'].describe()"
   ]
  },
  {
   "cell_type": "code",
   "execution_count": 57,
   "metadata": {},
   "outputs": [
    {
     "data": {
      "text/plain": [
       "count     1520\n",
       "unique       2\n",
       "top         no\n",
       "freq       786\n",
       "Name: Hypertension, dtype: object"
      ]
     },
     "execution_count": 57,
     "metadata": {},
     "output_type": "execute_result"
    }
   ],
   "source": [
    "df_copy2['Hypertension'].describe()"
   ]
  },
  {
   "cell_type": "code",
   "execution_count": 58,
   "metadata": {},
   "outputs": [
    {
     "data": {
      "text/plain": [
       "count     1520\n",
       "unique       2\n",
       "top         no\n",
       "freq      1496\n",
       "Name: History, dtype: object"
      ]
     },
     "execution_count": 58,
     "metadata": {},
     "output_type": "execute_result"
    }
   ],
   "source": [
    "df_copy2['History'].describe()"
   ]
  },
  {
   "cell_type": "code",
   "execution_count": 59,
   "metadata": {},
   "outputs": [
    {
     "data": {
      "text/plain": [
       "count     1520\n",
       "unique       2\n",
       "top         no\n",
       "freq      1190\n",
       "Name: Arrhythmia, dtype: object"
      ]
     },
     "execution_count": 59,
     "metadata": {},
     "output_type": "execute_result"
    }
   ],
   "source": [
    "df_copy2['Arrhythmia'].describe()"
   ]
  },
  {
   "cell_type": "code",
   "execution_count": 60,
   "metadata": {},
   "outputs": [
    {
     "data": {
      "text/plain": [
       "count    1520.000000\n",
       "mean       78.875000\n",
       "std        10.155611\n",
       "min        35.000000\n",
       "25%        73.000000\n",
       "50%        77.000000\n",
       "75%        85.000000\n",
       "max        99.000000\n",
       "Name: IPSI, dtype: float64"
      ]
     },
     "execution_count": 60,
     "metadata": {},
     "output_type": "execute_result"
    }
   ],
   "source": [
    "df_copy2['IPSI'].describe()"
   ]
  },
  {
   "cell_type": "code",
   "execution_count": 61,
   "metadata": {},
   "outputs": [
    {
     "name": "stderr",
     "output_type": "stream",
     "text": [
      "c:\\program files (x86)\\python37-32\\lib\\site-packages\\ipykernel_launcher.py:4: SettingWithCopyWarning: \n",
      "A value is trying to be set on a copy of a slice from a DataFrame\n",
      "\n",
      "See the caveats in the documentation: http://pandas.pydata.org/pandas-docs/stable/user_guide/indexing.html#returning-a-view-versus-a-copy\n",
      "  after removing the cwd from sys.path.\n"
     ]
    }
   ],
   "source": [
    "contra = df_copy2['Contra']\n",
    "c = 0\n",
    "for item in contra:\n",
    "    contra[c] = float(item)\n",
    "    c = c + 1\n",
    "contra.describe()\n",
    "\n",
    "df_copy2['Contra'] = contra"
   ]
  },
  {
   "cell_type": "code",
   "execution_count": 62,
   "metadata": {},
   "outputs": [
    {
     "data": {
      "text/plain": [
       "[812, 974, 1418]"
      ]
     },
     "execution_count": 62,
     "metadata": {},
     "output_type": "execute_result"
    }
   ],
   "source": [
    "\n",
    "label = df_copy2['label'].isnull()\n",
    "c = 0\n",
    "t = True\n",
    "Llist = []\n",
    "for item in label:\n",
    "    if item == t:\n",
    "        Llist.append(c)\n",
    "    c = c + 1\n",
    "Llist"
   ]
  },
  {
   "cell_type": "code",
   "execution_count": 63,
   "metadata": {},
   "outputs": [
    {
     "data": {
      "text/html": [
       "<div>\n",
       "<style scoped>\n",
       "    .dataframe tbody tr th:only-of-type {\n",
       "        vertical-align: middle;\n",
       "    }\n",
       "\n",
       "    .dataframe tbody tr th {\n",
       "        vertical-align: top;\n",
       "    }\n",
       "\n",
       "    .dataframe thead th {\n",
       "        text-align: right;\n",
       "    }\n",
       "</style>\n",
       "<table border=\"1\" class=\"dataframe\">\n",
       "  <thead>\n",
       "    <tr style=\"text-align: right;\">\n",
       "      <th></th>\n",
       "      <th>Random</th>\n",
       "      <th>Id</th>\n",
       "      <th>Indication</th>\n",
       "      <th>Diabetes</th>\n",
       "      <th>IHD</th>\n",
       "      <th>Hypertension</th>\n",
       "      <th>Arrhythmia</th>\n",
       "      <th>History</th>\n",
       "      <th>IPSI</th>\n",
       "      <th>Contra</th>\n",
       "      <th>label</th>\n",
       "    </tr>\n",
       "  </thead>\n",
       "  <tbody>\n",
       "    <tr>\n",
       "      <th>0</th>\n",
       "      <td>0.602437</td>\n",
       "      <td>218242</td>\n",
       "      <td>A-F</td>\n",
       "      <td>no</td>\n",
       "      <td>no</td>\n",
       "      <td>yes</td>\n",
       "      <td>no</td>\n",
       "      <td>no</td>\n",
       "      <td>78.0</td>\n",
       "      <td>20</td>\n",
       "      <td>NoRisk</td>\n",
       "    </tr>\n",
       "    <tr>\n",
       "      <th>1</th>\n",
       "      <td>0.602437</td>\n",
       "      <td>159284</td>\n",
       "      <td>TIA</td>\n",
       "      <td>no</td>\n",
       "      <td>no</td>\n",
       "      <td>no</td>\n",
       "      <td>no</td>\n",
       "      <td>no</td>\n",
       "      <td>70.0</td>\n",
       "      <td>60</td>\n",
       "      <td>NoRisk</td>\n",
       "    </tr>\n",
       "    <tr>\n",
       "      <th>2</th>\n",
       "      <td>0.602437</td>\n",
       "      <td>106066</td>\n",
       "      <td>A-F</td>\n",
       "      <td>no</td>\n",
       "      <td>yes</td>\n",
       "      <td>yes</td>\n",
       "      <td>no</td>\n",
       "      <td>no</td>\n",
       "      <td>95.0</td>\n",
       "      <td>40</td>\n",
       "      <td>Risk</td>\n",
       "    </tr>\n",
       "    <tr>\n",
       "      <th>3</th>\n",
       "      <td>0.128157</td>\n",
       "      <td>229592</td>\n",
       "      <td>TIA</td>\n",
       "      <td>no</td>\n",
       "      <td>no</td>\n",
       "      <td>yes</td>\n",
       "      <td>no</td>\n",
       "      <td>no</td>\n",
       "      <td>90.0</td>\n",
       "      <td>85</td>\n",
       "      <td>Risk</td>\n",
       "    </tr>\n",
       "    <tr>\n",
       "      <th>4</th>\n",
       "      <td>0.676862</td>\n",
       "      <td>245829</td>\n",
       "      <td>CVA</td>\n",
       "      <td>no</td>\n",
       "      <td>no</td>\n",
       "      <td>no</td>\n",
       "      <td>no</td>\n",
       "      <td>no</td>\n",
       "      <td>70.0</td>\n",
       "      <td>20</td>\n",
       "      <td>NoRisk</td>\n",
       "    </tr>\n",
       "    <tr>\n",
       "      <th>...</th>\n",
       "      <td>...</td>\n",
       "      <td>...</td>\n",
       "      <td>...</td>\n",
       "      <td>...</td>\n",
       "      <td>...</td>\n",
       "      <td>...</td>\n",
       "      <td>...</td>\n",
       "      <td>...</td>\n",
       "      <td>...</td>\n",
       "      <td>...</td>\n",
       "      <td>...</td>\n",
       "    </tr>\n",
       "    <tr>\n",
       "      <th>1515</th>\n",
       "      <td>0.391440</td>\n",
       "      <td>93406</td>\n",
       "      <td>A-F</td>\n",
       "      <td>no</td>\n",
       "      <td>yes</td>\n",
       "      <td>no</td>\n",
       "      <td>no</td>\n",
       "      <td>no</td>\n",
       "      <td>76.0</td>\n",
       "      <td>60</td>\n",
       "      <td>NoRisk</td>\n",
       "    </tr>\n",
       "    <tr>\n",
       "      <th>1516</th>\n",
       "      <td>0.253504</td>\n",
       "      <td>121814</td>\n",
       "      <td>A-F</td>\n",
       "      <td>no</td>\n",
       "      <td>no</td>\n",
       "      <td>yes</td>\n",
       "      <td>yes</td>\n",
       "      <td>no</td>\n",
       "      <td>90.0</td>\n",
       "      <td>75</td>\n",
       "      <td>Risk</td>\n",
       "    </tr>\n",
       "    <tr>\n",
       "      <th>1517</th>\n",
       "      <td>0.620373</td>\n",
       "      <td>101754</td>\n",
       "      <td>TIA</td>\n",
       "      <td>no</td>\n",
       "      <td>no</td>\n",
       "      <td>yes</td>\n",
       "      <td>no</td>\n",
       "      <td>no</td>\n",
       "      <td>75.0</td>\n",
       "      <td>20</td>\n",
       "      <td>NoRisk</td>\n",
       "    </tr>\n",
       "    <tr>\n",
       "      <th>1518</th>\n",
       "      <td>0.639342</td>\n",
       "      <td>263836</td>\n",
       "      <td>A-F</td>\n",
       "      <td>no</td>\n",
       "      <td>yes</td>\n",
       "      <td>no</td>\n",
       "      <td>no</td>\n",
       "      <td>no</td>\n",
       "      <td>70.0</td>\n",
       "      <td>45</td>\n",
       "      <td>NoRisk</td>\n",
       "    </tr>\n",
       "    <tr>\n",
       "      <th>1519</th>\n",
       "      <td>0.634922</td>\n",
       "      <td>254941</td>\n",
       "      <td>CVA</td>\n",
       "      <td>no</td>\n",
       "      <td>no</td>\n",
       "      <td>no</td>\n",
       "      <td>no</td>\n",
       "      <td>no</td>\n",
       "      <td>60.0</td>\n",
       "      <td>20</td>\n",
       "      <td>NoRisk</td>\n",
       "    </tr>\n",
       "  </tbody>\n",
       "</table>\n",
       "<p>1520 rows × 11 columns</p>\n",
       "</div>"
      ],
      "text/plain": [
       "        Random      Id Indication Diabetes  IHD Hypertension Arrhythmia  \\\n",
       "0     0.602437  218242        A-F       no   no          yes         no   \n",
       "1     0.602437  159284        TIA       no   no           no         no   \n",
       "2     0.602437  106066        A-F       no  yes          yes         no   \n",
       "3     0.128157  229592        TIA       no   no          yes         no   \n",
       "4     0.676862  245829        CVA       no   no           no         no   \n",
       "...        ...     ...        ...      ...  ...          ...        ...   \n",
       "1515  0.391440   93406        A-F       no  yes           no         no   \n",
       "1516  0.253504  121814        A-F       no   no          yes        yes   \n",
       "1517  0.620373  101754        TIA       no   no          yes         no   \n",
       "1518  0.639342  263836        A-F       no  yes           no         no   \n",
       "1519  0.634922  254941        CVA       no   no           no         no   \n",
       "\n",
       "     History  IPSI Contra   label  \n",
       "0         no  78.0     20  NoRisk  \n",
       "1         no  70.0     60  NoRisk  \n",
       "2         no  95.0     40    Risk  \n",
       "3         no  90.0     85    Risk  \n",
       "4         no  70.0     20  NoRisk  \n",
       "...      ...   ...    ...     ...  \n",
       "1515      no  76.0     60  NoRisk  \n",
       "1516      no  90.0     75    Risk  \n",
       "1517      no  75.0     20  NoRisk  \n",
       "1518      no  70.0     45  NoRisk  \n",
       "1519      no  60.0     20  NoRisk  \n",
       "\n",
       "[1520 rows x 11 columns]"
      ]
     },
     "execution_count": 63,
     "metadata": {},
     "output_type": "execute_result"
    }
   ],
   "source": [
    "df_copy2\n"
   ]
  },
  {
   "cell_type": "markdown",
   "metadata": {},
   "source": [
    "## Label cleaning"
   ]
  },
  {
   "cell_type": "code",
   "execution_count": 64,
   "metadata": {},
   "outputs": [
    {
     "name": "stdout",
     "output_type": "stream",
     "text": [
      "count       1517\n",
      "unique         3\n",
      "top       NoRisk\n",
      "freq        1008\n",
      "Name: label, dtype: object\n"
     ]
    },
    {
     "data": {
      "text/plain": [
       "[812, 974, 1418]"
      ]
     },
     "execution_count": 64,
     "metadata": {},
     "output_type": "execute_result"
    }
   ],
   "source": [
    "## Label imputation\n",
    "## Null value imputation for label attribute\n",
    "print(df_copy2['label'].describe()) ##prints out attribute description\n",
    "_label = df_copy2['label'].isnull()\n",
    "c = 0\n",
    "t = True\n",
    "Llist = []\n",
    "for item in label:\n",
    "    if item == t:\n",
    "        Llist.append(c)\n",
    "    c = c + 1\n",
    "Llist ##prints out location of null values\n",
    "\n",
    "##3 unique values (Expected 2)"
   ]
  },
  {
   "cell_type": "code",
   "execution_count": 65,
   "metadata": {},
   "outputs": [
    {
     "data": {
      "text/plain": [
       "<seaborn.axisgrid.FacetGrid at 0x145c45f0>"
      ]
     },
     "execution_count": 65,
     "metadata": {},
     "output_type": "execute_result"
    },
    {
     "data": {
      "image/png": "[encoded data removed]",
      "text/plain": [
       "<Figure size 360x360 with 1 Axes>"
      ]
     },
     "metadata": {
      "needs_background": "light"
     },
     "output_type": "display_data"
    }
   ],
   "source": [
    "sns.catplot('label', data = df_copy2, kind='count' ) ##using catplot to find identity of 3rd value"
   ]
  },
  {
   "cell_type": "code",
   "execution_count": 66,
   "metadata": {},
   "outputs": [
    {
     "name": "stdout",
     "output_type": "stream",
     "text": [
      "[475, 523]\n",
      "[475, 523] [812, 974, 1418]\n"
     ]
    }
   ],
   "source": [
    "##find sections containin value 'unknown'\n",
    "_label2 = df_copy2['label']\n",
    "Llist2 = []\n",
    "c = 0\n",
    "for item in _label2:\n",
    "    if item == 'Unknown':\n",
    "        Llist2.append(c)\n",
    "    c = c + 1\n",
    "print(Llist2)\n",
    "print(Llist2,Llist) ##total values to clean(5)"
   ]
  },
  {
   "cell_type": "code",
   "execution_count": 67,
   "metadata": {},
   "outputs": [
    {
     "name": "stdout",
     "output_type": "stream",
     "text": [
      "Random          0.298074\n",
      "Id                173791\n",
      "Indication           ASx\n",
      "Diabetes              no\n",
      "IHD                  yes\n",
      "Hypertension         yes\n",
      "Arrhythmia            no\n",
      "History               no\n",
      "IPSI                  70\n",
      "Contra                55\n",
      "label            Unknown\n",
      "Name: 475, dtype: object\n"
     ]
    },
    {
     "data": {
      "image/png": "[encoded data removed]",
      "text/plain": [
       "<Figure size 360x360 with 1 Axes>"
      ]
     },
     "metadata": {
      "needs_background": "light"
     },
     "output_type": "display_data"
    }
   ],
   "source": [
    "##will start from lowest value to highest\n",
    "print(df_copy2.loc[475,:])\n",
    "df_copy1 = df.copy() ##first line included  to 'reset' the dataframe\n",
    "df_copy1.query('Indication ==\"ASx\" and Diabetes ==\"no\" and IHD == \"yes\" and Hypertension == \"yes\" and Arrhythmia == \"no\" and History == \"no\" and IPSI ==70', inplace = True)\n",
    "copy1 = df_copy1\n",
    "sns.catplot('label', data = df_copy1, kind='count')\n",
    "df_copy1 = df.copy()"
   ]
  },
  {
   "cell_type": "code",
   "execution_count": 68,
   "metadata": {},
   "outputs": [
    {
     "name": "stdout",
     "output_type": "stream",
     "text": [
      "Random          0.46017\n",
      "Id               283846\n",
      "Indication          CVA\n",
      "Diabetes             no\n",
      "IHD                  no\n",
      "Hypertension        yes\n",
      "Arrhythmia          yes\n",
      "History              no\n",
      "IPSI                 95\n",
      "Contra              100\n",
      "label           Unknown\n",
      "Name: 523, dtype: object\n"
     ]
    },
    {
     "data": {
      "image/png": "[encoded data removed]",
      "text/plain": [
       "<Figure size 360x360 with 1 Axes>"
      ]
     },
     "metadata": {
      "needs_background": "light"
     },
     "output_type": "display_data"
    }
   ],
   "source": [
    "print(df_copy2.loc[523,:])\n",
    "df_copy1 = df.copy() ##first line included  to 'reset' the dataframe\n",
    "df_copy1.query('Indication ==\"CVA\" and Diabetes ==\"no\" and IHD == \"no\" and Hypertension == \"yes\" and Arrhythmia == \"yes\" and History == \"no\" and IPSI ==95', inplace = True)\n",
    "copy1 = df_copy1\n",
    "sns.catplot('label', data = df_copy1, kind='count' )\n",
    "df_copy1 = df.copy()\n",
    "#risk is frequent"
   ]
  },
  {
   "cell_type": "code",
   "execution_count": 69,
   "metadata": {},
   "outputs": [
    {
     "name": "stdout",
     "output_type": "stream",
     "text": [
      "Random          0.756938\n",
      "Id                190671\n",
      "Indication           CVA\n",
      "Diabetes              no\n",
      "IHD                  yes\n",
      "Hypertension         yes\n",
      "Arrhythmia            no\n",
      "History               no\n",
      "IPSI                  76\n",
      "Contra                50\n",
      "label                NaN\n",
      "Name: 812, dtype: object\n"
     ]
    },
    {
     "data": {
      "image/png": "[encoded data removed]",
      "text/plain": [
       "<Figure size 360x360 with 1 Axes>"
      ]
     },
     "metadata": {
      "needs_background": "light"
     },
     "output_type": "display_data"
    }
   ],
   "source": [
    "print(df_copy2.loc[812,:])\n",
    "df_copy1 = df.copy() ##first line included  to 'reset' the dataframe\n",
    "df_copy1.query('Indication ==\"CVA\" and Diabetes ==\"no\" and IHD == \"yes\" and Hypertension == \"yes\" and Arrhythmia == \"no\" and History == \"no\" and IPSI ==76', inplace = True)\n",
    "copy1 = df_copy1\n",
    "sns.catplot('label', data = df_copy1, kind='count' )\n",
    "df_copy1 = df.copy()\n",
    "##No risk is frequent"
   ]
  },
  {
   "cell_type": "code",
   "execution_count": 70,
   "metadata": {},
   "outputs": [
    {
     "name": "stdout",
     "output_type": "stream",
     "text": [
      "Random          0.923418\n",
      "Id                165432\n",
      "Indication           CVA\n",
      "Diabetes              no\n",
      "IHD                  yes\n",
      "Hypertension         yes\n",
      "Arrhythmia           yes\n",
      "History               no\n",
      "IPSI                  80\n",
      "Contra                70\n",
      "label                NaN\n",
      "Name: 974, dtype: object\n"
     ]
    },
    {
     "data": {
      "image/png": "[encoded data removed]",
      "text/plain": [
       "<Figure size 360x360 with 1 Axes>"
      ]
     },
     "metadata": {
      "needs_background": "light"
     },
     "output_type": "display_data"
    }
   ],
   "source": [
    "print(df_copy2.loc[974,:])\n",
    "df_copy1 = df.copy() ##first line included  to 'reset' the dataframe\n",
    "df_copy1.query('Indication ==\"CVA\" and Diabetes ==\"no\" and IHD == \"yes\" and Hypertension == \"yes\" and Arrhythmia == \"yes\" and History == \"no\" and IPSI ==80', inplace = True)\n",
    "copy1 = df_copy1\n",
    "sns.catplot('label', data = df_copy1, kind='count' )\n",
    "df_copy1 = df.copy()\n",
    "#Risk is frequent"
   ]
  },
  {
   "cell_type": "code",
   "execution_count": 71,
   "metadata": {},
   "outputs": [
    {
     "name": "stdout",
     "output_type": "stream",
     "text": [
      "Random          0.813102\n",
      "Id                169726\n",
      "Indication           TIA\n",
      "Diabetes             yes\n",
      "IHD                   no\n",
      "Hypertension          no\n",
      "Arrhythmia            no\n",
      "History              yes\n",
      "IPSI                  90\n",
      "Contra                50\n",
      "label                NaN\n",
      "Name: 1418, dtype: object\n"
     ]
    },
    {
     "data": {
      "image/png": "[encoded data removed]",
      "text/plain": [
       "<Figure size 360x360 with 1 Axes>"
      ]
     },
     "metadata": {
      "needs_background": "light"
     },
     "output_type": "display_data"
    }
   ],
   "source": [
    "print(df_copy2.loc[1418,:])\n",
    "df_copy1 = df.copy() ##first line included  to 'reset' the dataframe\n",
    "df_copy1.query('Indication ==\"TIA\" and Diabetes ==\"yes\" and IHD == \"no\" and Hypertension == \"no\" and Arrhythmia == \"no\" and History == \"yes\" and IPSI ==90', inplace = True)\n",
    "#copy1 = df_copy1\n",
    "sns.catplot('label', data = df_copy1, kind='count' )\n",
    "df_copy1 = df.copy()\n",
    "#Risk"
   ]
  },
  {
   "cell_type": "code",
   "execution_count": 72,
   "metadata": {},
   "outputs": [
    {
     "name": "stderr",
     "output_type": "stream",
     "text": [
      "c:\\program files (x86)\\python37-32\\lib\\site-packages\\ipykernel_launcher.py:5: SettingWithCopyWarning: \n",
      "A value is trying to be set on a copy of a slice from a DataFrame\n",
      "\n",
      "See the caveats in the documentation: http://pandas.pydata.org/pandas-docs/stable/user_guide/indexing.html#returning-a-view-versus-a-copy\n",
      "  \"\"\"\n",
      "c:\\program files (x86)\\python37-32\\lib\\site-packages\\ipykernel_launcher.py:9: SettingWithCopyWarning: \n",
      "A value is trying to be set on a copy of a slice from a DataFrame\n",
      "\n",
      "See the caveats in the documentation: http://pandas.pydata.org/pandas-docs/stable/user_guide/indexing.html#returning-a-view-versus-a-copy\n",
      "  if __name__ == '__main__':\n",
      "c:\\program files (x86)\\python37-32\\lib\\site-packages\\ipykernel_launcher.py:13: SettingWithCopyWarning: \n",
      "A value is trying to be set on a copy of a slice from a DataFrame\n",
      "\n",
      "See the caveats in the documentation: http://pandas.pydata.org/pandas-docs/stable/user_guide/indexing.html#returning-a-view-versus-a-copy\n",
      "  del sys.path[0]\n",
      "c:\\program files (x86)\\python37-32\\lib\\site-packages\\ipykernel_launcher.py:17: SettingWithCopyWarning: \n",
      "A value is trying to be set on a copy of a slice from a DataFrame\n",
      "\n",
      "See the caveats in the documentation: http://pandas.pydata.org/pandas-docs/stable/user_guide/indexing.html#returning-a-view-versus-a-copy\n",
      "c:\\program files (x86)\\python37-32\\lib\\site-packages\\ipykernel_launcher.py:21: SettingWithCopyWarning: \n",
      "A value is trying to be set on a copy of a slice from a DataFrame\n",
      "\n",
      "See the caveats in the documentation: http://pandas.pydata.org/pandas-docs/stable/user_guide/indexing.html#returning-a-view-versus-a-copy\n"
     ]
    }
   ],
   "source": [
    "#imputing values to data frame\n",
    "#[475, 523] [812, 974, 1418]\n",
    "##since first value returned 'Unknown' we will impute the mode for that attribute and the mode is \"no risk\"\n",
    "a = df_copy2.loc[475,:]  #norisk\n",
    "a[10]=\"NoRisk\"\n",
    "df_copy2.loc[475,:] = a\n",
    "\n",
    "b = df_copy2.loc[523,:] #risk\n",
    "b[10]=\"Risk\"\n",
    "df_copy2.loc[523,:] = b\n",
    "\n",
    "c = df_copy2.loc[812,:] #norisk  \n",
    "c[10]=\"NoRisk\"\n",
    "df_copy2.loc[812,:] = c\n",
    "\n",
    "d = df_copy2.loc[974,:] #risk\n",
    "d[10]=\"Risk\"\n",
    "df_copy2.loc[974,:] = d\n",
    "\n",
    "e = df_copy2.loc[1418,:]#risk\n",
    "e[10]=\"Risk\"\n",
    "df_copy2.loc[1418,:] = e"
   ]
  },
  {
   "cell_type": "code",
   "execution_count": null,
   "metadata": {},
   "outputs": [],
   "source": []
  },
  {
   "cell_type": "code",
   "execution_count": null,
   "metadata": {},
   "outputs": [],
   "source": []
  },
  {
   "cell_type": "markdown",
   "metadata": {},
   "source": [
    "# Modelling 1\n",
    "## Data preparation"
   ]
  },
  {
   "cell_type": "code",
   "execution_count": 73,
   "metadata": {},
   "outputs": [],
   "source": [
    "df_copy3 = df_copy2.copy()\n",
    "##class dictionaries\n",
    "Indication_class_dict = {\"A-F\": 1, \"CVA\": 2, \"ASx\": 3, \"TIA\": 4}\n",
    "Dual_class_dict = {\"yes\": 1, \"no\": 2}\n",
    "label_class_dict = {\"Risk\": 1, \"NoRisk\": 2, \"NaN\": 3}\n",
    "\n",
    "##mapping\n",
    "df_copy3['Diabetes'] = df_copy3['Diabetes'].map(Dual_class_dict)\n",
    "df_copy3['Hypertension'] = df_copy3['Hypertension'].map(Dual_class_dict)\n",
    "df_copy3['History'] = df_copy3['History'].map(Dual_class_dict)\n",
    "df_copy3['Indication'] = df_copy3['Indication'].map(Indication_class_dict)\n",
    "df_copy3['Arrhythmia'] = df_copy3['Arrhythmia'].map(Dual_class_dict)\n",
    "df_copy3['IHD'] = df_copy3['IHD'].map(Dual_class_dict)\n",
    "df_copy3['label'] = df_copy3['label'].map(label_class_dict)"
   ]
  },
  {
   "cell_type": "code",
   "execution_count": 74,
   "metadata": {},
   "outputs": [
    {
     "data": {
      "text/plain": [
       "[]"
      ]
     },
     "execution_count": 74,
     "metadata": {},
     "output_type": "execute_result"
    }
   ],
   "source": [
    "df_copy3['label'].isnull().sum()\n",
    "\n",
    "label = df_copy3['label'].isnull()\n",
    "c = 0\n",
    "t = True\n",
    "Llist = []\n",
    "for item in label:\n",
    "    if item == t:\n",
    "        Llist.append(c)\n",
    "    c = c + 1\n",
    "Llist"
   ]
  },
  {
   "cell_type": "code",
   "execution_count": null,
   "metadata": {},
   "outputs": [],
   "source": []
  },
  {
   "cell_type": "code",
   "execution_count": 75,
   "metadata": {},
   "outputs": [
    {
     "data": {
      "text/plain": [
       "Random          0\n",
       "Id              0\n",
       "Indication      0\n",
       "Diabetes        0\n",
       "IHD             0\n",
       "Hypertension    0\n",
       "Arrhythmia      0\n",
       "History         0\n",
       "IPSI            0\n",
       "Contra          0\n",
       "label           0\n",
       "dtype: int64"
      ]
     },
     "execution_count": 75,
     "metadata": {},
     "output_type": "execute_result"
    }
   ],
   "source": [
    "df_copy3.isnull().sum()"
   ]
  },
  {
   "cell_type": "code",
   "execution_count": null,
   "metadata": {},
   "outputs": [],
   "source": [
    "\n",
    "\n"
   ]
  },
  {
   "cell_type": "code",
   "execution_count": 76,
   "metadata": {},
   "outputs": [],
   "source": [
    "import sklearn\n",
    "from sklearn.linear_model import LogisticRegression\n",
    "from sklearn import svm\n",
    "\n"
   ]
  },
  {
   "cell_type": "markdown",
   "metadata": {},
   "source": [
    "# Model 1.0"
   ]
  },
  {
   "cell_type": "code",
   "execution_count": null,
   "metadata": {},
   "outputs": [],
   "source": []
  },
  {
   "cell_type": "code",
   "execution_count": 77,
   "metadata": {},
   "outputs": [],
   "source": [
    "df_copy3.drop(df_copy3.columns[[0, 1]], axis = 1, inplace = True) ##only needs to be done once"
   ]
  },
  {
   "cell_type": "markdown",
   "metadata": {},
   "source": [
    "### Train/test split"
   ]
  },
  {
   "cell_type": "code",
   "execution_count": 78,
   "metadata": {},
   "outputs": [
    {
     "data": {
      "text/plain": [
       "array([[  1.,   2.,   2., ...,   2.,  95.,  80.],\n",
       "       [  1.,   2.,   1., ...,   2.,  99., 100.],\n",
       "       [  1.,   2.,   2., ...,   2.,  67.,  50.],\n",
       "       ...,\n",
       "       [  4.,   2.,   1., ...,   2.,  81.,  30.],\n",
       "       [  2.,   2.,   2., ...,   2.,  95.,  85.],\n",
       "       [  3.,   2.,   2., ...,   2.,  70.,  20.]])"
      ]
     },
     "execution_count": 78,
     "metadata": {},
     "output_type": "execute_result"
    }
   ],
   "source": [
    "df_copy3 = sklearn.utils.shuffle(df_copy3) #always shuffle your data to avoid any biases \n",
    "X = df_copy3.drop(\"label\", axis=1).values\n",
    "y = df_copy3[\"label\"].values\n",
    "\n",
    "##training\n",
    "test_size = 50\n",
    "\n",
    "X_train = X[:-test_size] ##upto the last 50\n",
    "y_train = y[:-test_size] ##upto the last 50\n",
    "\n",
    "X_test = X[-test_size:]\n",
    "y_test = y[-test_size:]\n",
    "X"
   ]
  },
  {
   "cell_type": "markdown",
   "metadata": {},
   "source": [
    "### Decision tree model(Model 1.0)"
   ]
  },
  {
   "cell_type": "code",
   "execution_count": 79,
   "metadata": {},
   "outputs": [
    {
     "name": "stdout",
     "output_type": "stream",
     "text": [
      "1.0\n"
     ]
    }
   ],
   "source": [
    "from sklearn import tree\n",
    "model_score1 = 0\n",
    "model1 = tree.DecisionTreeClassifier(criterion = 'gini', random_state = 100)\n",
    "model1.fit(X_train, y_train)\n",
    "\n",
    "print(model1.score(X_test, y_test))\n",
    "model_score1 = (model1.score(X_test, y_test))"
   ]
  },
  {
   "cell_type": "code",
   "execution_count": 80,
   "metadata": {},
   "outputs": [
    {
     "name": "stdout",
     "output_type": "stream",
     "text": [
      "              precision    recall  f1-score   support\n",
      "\n",
      "           1       1.00      1.00      1.00        18\n",
      "           2       1.00      1.00      1.00        32\n",
      "\n",
      "    accuracy                           1.00        50\n",
      "   macro avg       1.00      1.00      1.00        50\n",
      "weighted avg       1.00      1.00      1.00        50\n",
      "\n"
     ]
    }
   ],
   "source": [
    "y_pred = model1.predict(X_test)\n",
    "model1_metrics = metrics.classification_report(y_test,y_pred)\n",
    "print(metrics.classification_report(y_test,y_pred))"
   ]
  },
  {
   "cell_type": "markdown",
   "metadata": {},
   "source": [
    "### TP, FP, TN, FN analysis"
   ]
  },
  {
   "cell_type": "code",
   "execution_count": 81,
   "metadata": {},
   "outputs": [
    {
     "name": "stdout",
     "output_type": "stream",
     "text": [
      "Total Test Cases: 50\n",
      "\n",
      "\n",
      "false positive: 0.0 %\n",
      "false negative: 0.0 %\n",
      "true negative: 64.0 %\n",
      "true positive: 36.0 %\n",
      "True positive sensitivity: 100.0%\n",
      "True negative sensitivity: 100.0%\n",
      "False positive sensitivity: 0.0%\n",
      "False negative sensitivity: 0.0%\n"
     ]
    }
   ],
   "source": [
    "#truth_table_percentages(clf)\n",
    "true_positives1 = 0\n",
    "false_positives1 = 0\n",
    "true_negatives1 = 0\n",
    "false_negatives1 = 0\n",
    "\n",
    "tp_sensitivity1 = 0\n",
    "tn_sensitivity1 = 0\n",
    "fp_sensitivity1 = 0\n",
    "fn_sensitivity1 = 0\n",
    "\n",
    "for X, y in zip (X_test, y_test):\n",
    "    if (model1.predict([X])[0]) == 2 and y == 2:\n",
    "            true_negatives1+=1\n",
    "    elif (model1.predict([X])[0]) == 1 and y == 2:\n",
    "            false_negatives1+=1\n",
    "    elif (model1.predict([X])[0]) == 1 and y == 1:\n",
    "            true_positives1+=1\n",
    "    elif (model1.predict([X])[0]) == 2 and y == 1:\n",
    "            false_positives1+=1\n",
    "\n",
    "total = true_positives1 + false_positives1 + true_negatives1 + false_negatives1\n",
    "print(f\"Total Test Cases: {total}\\n\\n\")\n",
    "\n",
    "false_positives1 = false_positives1/total*100\n",
    "false_negatives1 = false_negatives1/total*100\n",
    "true_negatives1 = true_negatives1/total*100\n",
    "true_positives1 = true_positives1/total*100  \n",
    "\n",
    "tp_sensitivity1 = (true_positives1/(true_positives1+false_negatives1)) * 100\n",
    "tn_sensitivity1 = (true_negatives1/(true_negatives1+false_positives1)) * 100\n",
    "fp_sensitivity1 = (false_positives1/(false_positives1 + true_negatives1)) * 100\n",
    "fn_sensitivity1 = (false_negatives1/(false_negatives1+true_positives1)) * 100\n",
    "\n",
    "\n",
    "print(f\"false positive: {false_positives1} %\")\n",
    "print(f\"false negative: {false_negatives1} %\")\n",
    "print(f\"true negative: {true_negatives1} %\")\n",
    "print(f\"true positive: {true_positives1} %\")\n",
    "print(f\"True positive sensitivity: {tp_sensitivity1}%\")    \n",
    "print(f\"True negative sensitivity: {tn_sensitivity1}%\")  \n",
    "print(f\"False positive sensitivity: {fp_sensitivity1}%\")  \n",
    "print(f\"False negative sensitivity: {fn_sensitivity1}%\")  "
   ]
  },
  {
   "cell_type": "code",
   "execution_count": 82,
   "metadata": {},
   "outputs": [],
   "source": [
    "# model_predictions1_0  = []\n",
    "# actual_predictions1_0 = []\n",
    "# for X, y in zip(X_test, y_test):\n",
    "#     print(f\"Model: {model.predict([X])[0]}, Actual: {y}\")\n",
    "#     model_predictions1_0.append(model.predict([X])[0])\n",
    "#     actual_predictions1_0.append(y)"
   ]
  },
  {
   "cell_type": "markdown",
   "metadata": {},
   "source": [
    "### logistic regression(Model 1.1)"
   ]
  },
  {
   "cell_type": "code",
   "execution_count": 83,
   "metadata": {},
   "outputs": [
    {
     "name": "stdout",
     "output_type": "stream",
     "text": [
      "0.9\n"
     ]
    }
   ],
   "source": [
    "model2 = LogisticRegression(max_iter=10000)\n",
    "model2.fit(X_train, y_train)\n",
    "print(model2.score(X_test, y_test))\n",
    "model_score2 = model2.score(X_test, y_test)"
   ]
  },
  {
   "cell_type": "code",
   "execution_count": 84,
   "metadata": {},
   "outputs": [
    {
     "name": "stdout",
     "output_type": "stream",
     "text": [
      "              precision    recall  f1-score   support\n",
      "\n",
      "           1       0.84      0.89      0.86        18\n",
      "           2       0.94      0.91      0.92        32\n",
      "\n",
      "    accuracy                           0.90        50\n",
      "   macro avg       0.89      0.90      0.89        50\n",
      "weighted avg       0.90      0.90      0.90        50\n",
      "\n"
     ]
    }
   ],
   "source": [
    "y_pred = model2.predict(X_test)\n",
    "model2_metrics = metrics.classification_report(y_test,y_pred)\n",
    "print(metrics.classification_report(y_test,y_pred))"
   ]
  },
  {
   "cell_type": "markdown",
   "metadata": {},
   "source": [
    "### TP, FP, TN, FN analysis"
   ]
  },
  {
   "cell_type": "code",
   "execution_count": 85,
   "metadata": {},
   "outputs": [
    {
     "name": "stdout",
     "output_type": "stream",
     "text": [
      "Total Test Cases: 50\n",
      "\n",
      "\n",
      "false positive: 4.0 %\n",
      "false negative: 6.0 %\n",
      "true negative: 57.99999999999999 %\n",
      "true positive: 32.0 %\n",
      "True positive sensitivity: 84.21052631578947%\n",
      "True negative sensitivity: 93.54838709677419%\n",
      "False positive sensitivity: 6.451612903225808%\n",
      "False negative sensitivity: 15.789473684210526%\n"
     ]
    }
   ],
   "source": [
    "true_positives2 =  0\n",
    "false_positives2 = 0\n",
    "true_negatives2 =  0\n",
    "false_negatives2 = 0\n",
    "\n",
    "tp_sensitivity2 = 0\n",
    "tn_sensitivity2 = 0\n",
    "fp_sensitivity2 = 0\n",
    "fn_sensitivity2 = 0\n",
    "\n",
    "for X, y in zip (X_test, y_test):\n",
    "    if (model2.predict([X])[0]) == 2 and y == 2:\n",
    "            true_negatives2+=1\n",
    "    elif (model2.predict([X])[0]) == 1 and y == 2:\n",
    "            false_negatives2+=1\n",
    "    elif (model2.predict([X])[0]) == 1 and y == 1:\n",
    "            true_positives2+=1\n",
    "    elif (model2.predict([X])[0]) == 2 and y == 1:\n",
    "            false_positives2+=1\n",
    "\n",
    "total = true_positives2 + false_positives2 + true_negatives2 + false_negatives2\n",
    "print(f\"Total Test Cases: {total}\\n\\n\")\n",
    "\n",
    "false_positives2 = false_positives2/total*100\n",
    "false_negatives2 = false_negatives2/total*100\n",
    "true_negatives2 = true_negatives2/total*100\n",
    "true_positives2 = true_positives2/total*100\n",
    "\n",
    "tp_sensitivity2 = (true_positives2/(true_positives2+false_negatives2)) * 100\n",
    "tn_sensitivity2 = (true_negatives2/(true_negatives2+false_positives2)) * 100\n",
    "fp_sensitivity2 = (false_positives2/(false_positives2 + true_negatives2)) * 100\n",
    "fn_sensitivity2 = (false_negatives2/(false_negatives2+true_positives2)) * 100\n",
    "\n",
    "print(f\"false positive: {false_positives2} %\")\n",
    "print(f\"false negative: {false_negatives2} %\")\n",
    "print(f\"true negative: {true_negatives2} %\")\n",
    "print(f\"true positive: {true_positives2} %\")\n",
    "\n",
    "print(f\"True positive sensitivity: {tp_sensitivity2}%\")    \n",
    "print(f\"True negative sensitivity: {tn_sensitivity2}%\")  \n",
    "print(f\"False positive sensitivity: {fp_sensitivity2}%\")  \n",
    "print(f\"False negative sensitivity: {fn_sensitivity2}%\")  "
   ]
  },
  {
   "cell_type": "code",
   "execution_count": 86,
   "metadata": {},
   "outputs": [],
   "source": [
    "# model_predictions1_1  = []\n",
    "# actual_predictions1_1 = []\n",
    "# for X, y in zip(X_test, y_test):\n",
    "#     print(f\"Model: {model.predict([X])[0]}, Actual: {y}\")\n",
    "#     model_predictions1_1.append(model.predict([X])[0])\n",
    "#     actual_predictions1_1.append(y)"
   ]
  },
  {
   "cell_type": "markdown",
   "metadata": {},
   "source": [
    "### Multi layer perceptron(Model 1.2)"
   ]
  },
  {
   "cell_type": "code",
   "execution_count": 87,
   "metadata": {},
   "outputs": [
    {
     "name": "stdout",
     "output_type": "stream",
     "text": [
      "0.8\n"
     ]
    }
   ],
   "source": [
    "from sklearn.neural_network import MLPClassifier\n",
    "model3 = MLPClassifier(solver='sgd', max_iter=500000, hidden_layer_sizes=(10,20,30,35,45,30,40,50,20,10), random_state=42,epsilon=0.80)\n",
    "trained_model = model3.fit(X_train,y_train)\n",
    "print(trained_model.score(X_test, y_test))\n",
    "model_score3 = trained_model.score(X_test, y_test)"
   ]
  },
  {
   "cell_type": "code",
   "execution_count": 88,
   "metadata": {},
   "outputs": [
    {
     "name": "stdout",
     "output_type": "stream",
     "text": [
      "              precision    recall  f1-score   support\n",
      "\n",
      "           1       0.70      0.78      0.74        18\n",
      "           2       0.87      0.81      0.84        32\n",
      "\n",
      "    accuracy                           0.80        50\n",
      "   macro avg       0.78      0.80      0.79        50\n",
      "weighted avg       0.81      0.80      0.80        50\n",
      "\n"
     ]
    }
   ],
   "source": [
    "y_pred = model3.predict(X_test)\n",
    "model3_metrics = metrics.classification_report(y_test,y_pred)\n",
    "print(metrics.classification_report(y_test,y_pred))"
   ]
  },
  {
   "cell_type": "markdown",
   "metadata": {},
   "source": [
    "### TP, FP, TN, FN analysis"
   ]
  },
  {
   "cell_type": "code",
   "execution_count": 89,
   "metadata": {},
   "outputs": [
    {
     "name": "stdout",
     "output_type": "stream",
     "text": [
      "Total Test Cases: 50\n",
      "\n",
      "\n",
      "false positive: 8.0 %\n",
      "false negative: 12.0 %\n",
      "true negative: 52.0 %\n",
      "true positive: 28.000000000000004 %\n",
      "True positive sensitivity: 70.0%\n",
      "True negative sensitivity: 86.66666666666667%\n",
      "False positive sensitivity: 13.333333333333334%\n",
      "False negative sensitivity: 30.0%\n"
     ]
    }
   ],
   "source": [
    "true_positives3 =  0\n",
    "false_positives3 = 0\n",
    "true_negatives3 =  0\n",
    "false_negatives3 = 0\n",
    "\n",
    "tp_sensitivity3 = 0\n",
    "tn_sensitivity3 = 0\n",
    "fp_sensitivity3 = 0\n",
    "fn_sensitivity3 = 0\n",
    "\n",
    "\n",
    "for X, y in zip (X_test, y_test):\n",
    "    if (model3.predict([X])[0]) == 2 and y == 2:\n",
    "            true_negatives3+=1\n",
    "    elif (model3.predict([X])[0]) == 1 and y == 2:\n",
    "            false_negatives3+=1\n",
    "    elif (model3.predict([X])[0]) == 1 and y == 1:\n",
    "            true_positives3+=1\n",
    "    elif (model3.predict([X])[0]) == 2 and y == 1:\n",
    "            false_positives3+=1\n",
    "\n",
    "total = true_positives3 + false_positives3 + true_negatives3 + false_negatives3\n",
    "print(f\"Total Test Cases: {total}\\n\\n\")\n",
    "\n",
    "false_positives3 = false_positives3/total*100\n",
    "false_negatives3 = false_negatives3/total*100\n",
    "true_negatives3 = true_negatives3/total*100\n",
    "true_positives3 = true_positives3/total*100\n",
    "\n",
    "tp_sensitivity3 = (true_positives3/(true_positives3+false_negatives3)) * 100\n",
    "tn_sensitivity3 = (true_negatives3/(true_negatives3+false_positives3)) * 100\n",
    "fp_sensitivity3 = (false_positives3/(false_positives3 + true_negatives3)) * 100\n",
    "fn_sensitivity3 = (false_negatives3/(false_negatives3+true_positives3)) * 100\n",
    "\n",
    "print(f\"false positive: {false_positives3} %\")\n",
    "print(f\"false negative: {false_negatives3} %\")\n",
    "print(f\"true negative: {true_negatives3} %\")\n",
    "print(f\"true positive: {true_positives3} %\")\n",
    "\n",
    "print(f\"True positive sensitivity: {tp_sensitivity3}%\")    \n",
    "print(f\"True negative sensitivity: {tn_sensitivity3}%\")  \n",
    "print(f\"False positive sensitivity: {fp_sensitivity3}%\")  \n",
    "print(f\"False negative sensitivity: {fn_sensitivity3}%\")  "
   ]
  },
  {
   "cell_type": "code",
   "execution_count": null,
   "metadata": {},
   "outputs": [],
   "source": []
  },
  {
   "cell_type": "markdown",
   "metadata": {},
   "source": [
    "# Cleaning 2.0(KNN algorithm)\n",
    "\n",
    "Dataframe is then processed so that it can be digestible by the KNN model. This is done by mapping through converting nominal values into integer values. This will be done through mapping. Random and ID attributes are removed as they will not be considered for this model.\n",
    "However, Contra attribute needs to be first converted to a float/integers"
   ]
  },
  {
   "cell_type": "code",
   "execution_count": 90,
   "metadata": {},
   "outputs": [],
   "source": [
    "df_copy5_1 = df.copy()\n",
    "df_copy5 = df_copy5_1.dropna() ##drops all null values\n",
    "df_copy5 = df_copy5.reset_index() ##resets index"
   ]
  },
  {
   "cell_type": "code",
   "execution_count": 91,
   "metadata": {},
   "outputs": [
    {
     "name": "stderr",
     "output_type": "stream",
     "text": [
      "c:\\program files (x86)\\python37-32\\lib\\site-packages\\ipykernel_launcher.py:6: SettingWithCopyWarning: \n",
      "A value is trying to be set on a copy of a slice from a DataFrame\n",
      "\n",
      "See the caveats in the documentation: http://pandas.pydata.org/pandas-docs/stable/user_guide/indexing.html#returning-a-view-versus-a-copy\n",
      "  \n",
      "c:\\program files (x86)\\python37-32\\lib\\site-packages\\ipykernel_launcher.py:5: SettingWithCopyWarning: \n",
      "A value is trying to be set on a copy of a slice from a DataFrame\n",
      "\n",
      "See the caveats in the documentation: http://pandas.pydata.org/pandas-docs/stable/user_guide/indexing.html#returning-a-view-versus-a-copy\n",
      "  \"\"\"\n"
     ]
    }
   ],
   "source": [
    "contra = df_copy5['Contra']\n",
    "c = 0  ##counter variable\n",
    "for item in contra:\n",
    "    if item == \" \":\n",
    "        contra[c] = float(60)\n",
    "    contra[c] = float(contra[c])\n",
    "    c =c + 1\n",
    "\n",
    "df_copy5['Contra'] = contra ## assign floats back to contra\n",
    "\n",
    "df_copy5.drop(df_copy5.columns[[0, 1, 2]], axis = 1, inplace = True) ##Random, index and ID columns dropped\n",
    "\n",
    "##class dictionaries\n",
    "Indication_class_dict = {\"A-F\": 1, \"CVA\": 2, \"ASx\": 3, \"Asx\": 3, \"TIA\": 4}\n",
    "Dual_class_dict = {\"yes\": 1, \"no\": 2}\n",
    "label_class_dict = {\"Risk\": 1, \"NoRisk\": 2}\n",
    "\n",
    "##mapping\n",
    "df_copy5['Diabetes'] = df_copy5['Diabetes'].map(Dual_class_dict)\n",
    "df_copy5['Hypertension'] = df_copy5['Hypertension'].map(Dual_class_dict)\n",
    "df_copy5['History'] = df_copy5['History'].map(Dual_class_dict)\n",
    "df_copy5['Indication'] = df_copy5['Indication'].map(Indication_class_dict)\n",
    "df_copy5['Arrhythmia'] = df_copy5['Arrhythmia'].map(Dual_class_dict)\n",
    "df_copy5['IHD'] = df_copy5['IHD'].map(Dual_class_dict)\n",
    "df_copy5['label'] = df_copy5['label'].map(label_class_dict)\n",
    "\n",
    "df_copy5 = df_copy5.dropna() ## drops all null values"
   ]
  },
  {
   "cell_type": "markdown",
   "metadata": {},
   "source": [
    "## First use case, filling up label values \n",
    "Processed data is then fitted into a model and a score is given. For pur first use case, we will train the KNN to predict the label values. Therefore, our label value will be our label(s) and the rest of the data will be our features. \n",
    "The score of the model is then given as shown."
   ]
  },
  {
   "cell_type": "code",
   "execution_count": 92,
   "metadata": {},
   "outputs": [],
   "source": [
    "df_copy5 = sklearn.utils.shuffle(df_copy5) # always shuffle your data to avoid any biases \n",
    "##reference python doc\n",
    "X = df_copy5.drop(\"label\", axis=1).values ##features\n",
    "y = df_copy5[\"label\"].values ##labels"
   ]
  },
  {
   "cell_type": "code",
   "execution_count": 93,
   "metadata": {},
   "outputs": [
    {
     "name": "stdout",
     "output_type": "stream",
     "text": [
      "Model accuracy:  92.66666666666666\n"
     ]
    }
   ],
   "source": [
    "##training\n",
    "test_size = 300\n",
    "\n",
    "X_train = X[:-test_size] ##upto the last 50\n",
    "y_train = y[:-test_size] ##upto the last 50\n",
    "\n",
    "X_test = X[-test_size:]\n",
    "y_test = y[-test_size:]\n",
    "clf = neighbors.KNeighborsClassifier(n_neighbors=14, p = 2)\n",
    "clf.fit(X_train, y_train)\n",
    "print(f\"Model accuracy:  {(clf.score(X_test, y_test))*100}\")"
   ]
  },
  {
   "cell_type": "code",
   "execution_count": 94,
   "metadata": {},
   "outputs": [
    {
     "name": "stdout",
     "output_type": "stream",
     "text": [
      "KNeighborsClassifier(algorithm='auto', leaf_size=30, metric='minkowski',\n",
      "                     metric_params=None, n_jobs=None, n_neighbors=14, p=2,\n",
      "                     weights='uniform')\n"
     ]
    }
   ],
   "source": [
    "print(clf)"
   ]
  },
  {
   "cell_type": "code",
   "execution_count": 95,
   "metadata": {},
   "outputs": [],
   "source": [
    "\n",
    "# y_pred = clf.predict(X_test)\n",
    "# print(metrics.classification_report(y_test,y_pred))"
   ]
  },
  {
   "cell_type": "markdown",
   "metadata": {},
   "source": [
    "### Label error checking"
   ]
  },
  {
   "cell_type": "markdown",
   "metadata": {},
   "source": [
    "Contains null values, extra nominal value"
   ]
  },
  {
   "cell_type": "code",
   "execution_count": 96,
   "metadata": {},
   "outputs": [
    {
     "data": {
      "text/plain": [
       "count       1517\n",
       "unique         3\n",
       "top       NoRisk\n",
       "freq        1008\n",
       "Name: label, dtype: object"
      ]
     },
     "execution_count": 96,
     "metadata": {},
     "output_type": "execute_result"
    }
   ],
   "source": [
    "df_copy5_1['label'].describe()  ##data description for label(Extra 3 instead of 2)"
   ]
  },
  {
   "cell_type": "code",
   "execution_count": 97,
   "metadata": {},
   "outputs": [
    {
     "data": {
      "text/plain": [
       "[812, 974, 1418]"
      ]
     },
     "execution_count": 97,
     "metadata": {},
     "output_type": "execute_result"
    }
   ],
   "source": [
    "null_label = []\n",
    "n_l = df_copy5_1['label'].isnull()\n",
    "c = 0\n",
    "for item in n_l:\n",
    "    if item == True:\n",
    "        null_label.append(c)\n",
    "    c = c + 1\n",
    "null_label"
   ]
  },
  {
   "cell_type": "code",
   "execution_count": 98,
   "metadata": {},
   "outputs": [
    {
     "data": {
      "text/plain": [
       "<seaborn.axisgrid.FacetGrid at 0x122d62d0>"
      ]
     },
     "execution_count": 98,
     "metadata": {},
     "output_type": "execute_result"
    },
    {
     "data": {
      "image/png": "[encoded data removed]",
      "text/plain": [
       "<Figure size 360x360 with 1 Axes>"
      ]
     },
     "metadata": {
      "needs_background": "light"
     },
     "output_type": "display_data"
    }
   ],
   "source": [
    "sns.catplot('label', data = df_copy5_1, kind='count' )\n",
    "##unknown extra value is \"unknown\""
   ]
  },
  {
   "cell_type": "code",
   "execution_count": 99,
   "metadata": {},
   "outputs": [
    {
     "data": {
      "text/plain": [
       "[475, 523]"
      ]
     },
     "execution_count": 99,
     "metadata": {},
     "output_type": "execute_result"
    }
   ],
   "source": [
    "##find locations of \"unknown\"\n",
    "unknown_label = []\n",
    "n_l = df_copy5_1['label']        ##all  label values stored here\n",
    "c = 0                            ##counter variable\n",
    "for item in n_l:\n",
    "    if item == \"Unknown\":        ##if any item in list is \"Unknown\" \n",
    "        unknown_label.append(c)  ##append location\n",
    "    c = c + 1\n",
    "unknown_label"
   ]
  },
  {
   "cell_type": "markdown",
   "metadata": {},
   "source": [
    "### Label fix up\n",
    "With respect to mapping done previously, we simple create a 2d array which appropriately matches the same way we mapped data for the model and pass it over to our model to give a prediction as shown below(class dictionaries):\n",
    "\n",
    "* Indication_class_dict = {\"A-F\": 1, \"CVA\": 2, \"ASx\": 3, \"Asx\": 3, \"TIA\": 4}\n",
    "* Dual_class_dict = {\"yes\": 1, \"no\": 2}\n",
    "* label_class_dict = {\"Risk\": 1, \"NoRisk\": 2}\n",
    "\n",
    "Note, during data preparation,  Random and ID column were excluded therefore we will do the same in this case"
   ]
  },
  {
   "cell_type": "code",
   "execution_count": 100,
   "metadata": {},
   "outputs": [
    {
     "data": {
      "text/plain": [
       "Random          0.756938\n",
       "Id                190671\n",
       "Indication           CVA\n",
       "Diabetes              no\n",
       "IHD                  yes\n",
       "Hypertension         yes\n",
       "Arrhythmia            no\n",
       "History               no\n",
       "IPSI                  76\n",
       "Contra                50\n",
       "label                NaN\n",
       "Name: 812, dtype: object"
      ]
     },
     "execution_count": 100,
     "metadata": {},
     "output_type": "execute_result"
    }
   ],
   "source": [
    "df_copy5_1.loc[812,:]  ##original data"
   ]
  },
  {
   "cell_type": "code",
   "execution_count": 101,
   "metadata": {},
   "outputs": [
    {
     "name": "stdout",
     "output_type": "stream",
     "text": [
      "[1.]\n"
     ]
    },
    {
     "name": "stderr",
     "output_type": "stream",
     "text": [
      "c:\\program files (x86)\\python37-32\\lib\\site-packages\\ipykernel_launcher.py:4: SettingWithCopyWarning: \n",
      "A value is trying to be set on a copy of a slice from a DataFrame\n",
      "\n",
      "See the caveats in the documentation: http://pandas.pydata.org/pandas-docs/stable/user_guide/indexing.html#returning-a-view-versus-a-copy\n",
      "  after removing the cwd from sys.path.\n"
     ]
    }
   ],
   "source": [
    "w = [[2,2,1,1,2,2,75,50]] ##variable to put array values\n",
    "print(clf.predict(w)) ##classifier predicted norisk\n",
    "x = df_copy5_1.loc[812,:]\n",
    "x[10]= \"NoRisk\"\n",
    "df_copy5_1.loc[812,:] = x ##value changed to no risk and replaced"
   ]
  },
  {
   "cell_type": "code",
   "execution_count": 102,
   "metadata": {},
   "outputs": [
    {
     "data": {
      "text/plain": [
       "Random          0.923418\n",
       "Id                165432\n",
       "Indication           CVA\n",
       "Diabetes              no\n",
       "IHD                  yes\n",
       "Hypertension         yes\n",
       "Arrhythmia           yes\n",
       "History               no\n",
       "IPSI                  80\n",
       "Contra                70\n",
       "label                NaN\n",
       "Name: 974, dtype: object"
      ]
     },
     "execution_count": 102,
     "metadata": {},
     "output_type": "execute_result"
    }
   ],
   "source": [
    "df_copy5_1.loc[974,:]"
   ]
  },
  {
   "cell_type": "code",
   "execution_count": 103,
   "metadata": {},
   "outputs": [
    {
     "name": "stdout",
     "output_type": "stream",
     "text": [
      "[2.]\n"
     ]
    },
    {
     "name": "stderr",
     "output_type": "stream",
     "text": [
      "c:\\program files (x86)\\python37-32\\lib\\site-packages\\ipykernel_launcher.py:4: SettingWithCopyWarning: \n",
      "A value is trying to be set on a copy of a slice from a DataFrame\n",
      "\n",
      "See the caveats in the documentation: http://pandas.pydata.org/pandas-docs/stable/user_guide/indexing.html#returning-a-view-versus-a-copy\n",
      "  after removing the cwd from sys.path.\n"
     ]
    }
   ],
   "source": [
    "w = [[2,2,1,1,1,2,80,70]]\n",
    "print(clf.predict(w)) ##no risk\n",
    "x = df_copy5_1.loc[974,:]\n",
    "x[10]= \"NoRisk\"\n",
    "df_copy5_1.loc[812,:] = x ##value changed to no risk and replaced"
   ]
  },
  {
   "cell_type": "code",
   "execution_count": 104,
   "metadata": {},
   "outputs": [
    {
     "data": {
      "text/plain": [
       "Random          0.813102\n",
       "Id                169726\n",
       "Indication           TIA\n",
       "Diabetes             yes\n",
       "IHD                   no\n",
       "Hypertension          no\n",
       "Arrhythmia            no\n",
       "History              yes\n",
       "IPSI                  90\n",
       "Contra                50\n",
       "label                NaN\n",
       "Name: 1418, dtype: object"
      ]
     },
     "execution_count": 104,
     "metadata": {},
     "output_type": "execute_result"
    }
   ],
   "source": [
    "df_copy5_1.loc[1418,:]"
   ]
  },
  {
   "cell_type": "code",
   "execution_count": 105,
   "metadata": {},
   "outputs": [
    {
     "name": "stdout",
     "output_type": "stream",
     "text": [
      "[1.]\n"
     ]
    },
    {
     "name": "stderr",
     "output_type": "stream",
     "text": [
      "c:\\program files (x86)\\python37-32\\lib\\site-packages\\ipykernel_launcher.py:4: SettingWithCopyWarning: \n",
      "A value is trying to be set on a copy of a slice from a DataFrame\n",
      "\n",
      "See the caveats in the documentation: http://pandas.pydata.org/pandas-docs/stable/user_guide/indexing.html#returning-a-view-versus-a-copy\n",
      "  after removing the cwd from sys.path.\n"
     ]
    }
   ],
   "source": [
    "w = [[4,1,2,2,2,1,95,50]] ##variable to put array values\n",
    "print(clf.predict(w))     ##classifier predicted norisk\n",
    "x = df_copy5_1.loc[1418,:]\n",
    "x[10] = \"Risk\"\n",
    "df_copy5_1.loc[1418,:] = x ##value is replaced\n"
   ]
  },
  {
   "cell_type": "code",
   "execution_count": 106,
   "metadata": {},
   "outputs": [
    {
     "data": {
      "text/plain": [
       "Random          0.298074\n",
       "Id                173791\n",
       "Indication           ASx\n",
       "Diabetes              no\n",
       "IHD                  yes\n",
       "Hypertension         yes\n",
       "Arrhythmia            no\n",
       "History               no\n",
       "IPSI                  70\n",
       "Contra                55\n",
       "label            Unknown\n",
       "Name: 475, dtype: object"
      ]
     },
     "execution_count": 106,
     "metadata": {},
     "output_type": "execute_result"
    }
   ],
   "source": [
    "df_copy5_1.loc[475,:]"
   ]
  },
  {
   "cell_type": "code",
   "execution_count": 107,
   "metadata": {},
   "outputs": [
    {
     "name": "stdout",
     "output_type": "stream",
     "text": [
      "[1.]\n"
     ]
    },
    {
     "name": "stderr",
     "output_type": "stream",
     "text": [
      "c:\\program files (x86)\\python37-32\\lib\\site-packages\\ipykernel_launcher.py:4: SettingWithCopyWarning: \n",
      "A value is trying to be set on a copy of a slice from a DataFrame\n",
      "\n",
      "See the caveats in the documentation: http://pandas.pydata.org/pandas-docs/stable/user_guide/indexing.html#returning-a-view-versus-a-copy\n",
      "  after removing the cwd from sys.path.\n"
     ]
    }
   ],
   "source": [
    "w = [[3,2,1,1,2,2,70,55]] ##variable to put array values\n",
    "print(clf.predict(w))     ##classifier predicted risk\n",
    "x = df_copy5_1.loc[475,:]\n",
    "x[10] = \"NoRisk\"\n",
    "df_copy5_1.loc[475,:] = x ##value is replaced"
   ]
  },
  {
   "cell_type": "code",
   "execution_count": 108,
   "metadata": {},
   "outputs": [
    {
     "data": {
      "text/plain": [
       "Random          0.46017\n",
       "Id               283846\n",
       "Indication          CVA\n",
       "Diabetes             no\n",
       "IHD                  no\n",
       "Hypertension        yes\n",
       "Arrhythmia          yes\n",
       "History              no\n",
       "IPSI                 95\n",
       "Contra              100\n",
       "label           Unknown\n",
       "Name: 523, dtype: object"
      ]
     },
     "execution_count": 108,
     "metadata": {},
     "output_type": "execute_result"
    }
   ],
   "source": [
    "df_copy5_1.loc[523,:]"
   ]
  },
  {
   "cell_type": "code",
   "execution_count": 109,
   "metadata": {},
   "outputs": [
    {
     "name": "stdout",
     "output_type": "stream",
     "text": [
      "[1.]\n"
     ]
    },
    {
     "name": "stderr",
     "output_type": "stream",
     "text": [
      "c:\\program files (x86)\\python37-32\\lib\\site-packages\\ipykernel_launcher.py:4: SettingWithCopyWarning: \n",
      "A value is trying to be set on a copy of a slice from a DataFrame\n",
      "\n",
      "See the caveats in the documentation: http://pandas.pydata.org/pandas-docs/stable/user_guide/indexing.html#returning-a-view-versus-a-copy\n",
      "  after removing the cwd from sys.path.\n"
     ]
    }
   ],
   "source": [
    "w = [[2,2,2,1,1,2,95,100]] ##variable to put array values\n",
    "print(clf.predict(w))     ##classifier predicted risk\n",
    "x = df_copy5_1.loc[523,:]\n",
    "x[10] = \"Risk\"\n",
    "df_copy5_1.loc[523,:] = x ##value is replaced"
   ]
  },
  {
   "cell_type": "markdown",
   "metadata": {},
   "source": [
    "## Second use case, filling up Hypertension values \n",
    "\n",
    "Requires the same method as used in label however, all we need to change are the features. The mapping stays the same. "
   ]
  },
  {
   "cell_type": "code",
   "execution_count": 110,
   "metadata": {},
   "outputs": [
    {
     "name": "stdout",
     "output_type": "stream",
     "text": [
      "Model accuracy:  75.0\n"
     ]
    }
   ],
   "source": [
    "#df_copy5 = sklearn.utils.shuffle(df_copy5) # always shuffle your data to avoid any biases \n",
    "X = df_copy5.drop(\"Hypertension\", axis=1).values ##features(tewaked for hypertension)\n",
    "y = df_copy5[\"Hypertension\"].values ##labels(teaked for hypertension)\n",
    "\n",
    "##training\n",
    "test_size = 100\n",
    "X_train = X[:-test_size] ##upto the last 50\n",
    "y_train = y[:-test_size] ##upto the last 50\n",
    "\n",
    "X_test = X[-test_size:]\n",
    "y_test = y[-test_size:]\n",
    "clf = neighbors.KNeighborsClassifier(n_neighbors=14, p = 2)\n",
    "clf.fit(X_train, y_train)\n",
    "print(f\"Model accuracy:  {(clf.score(X_test, y_test))*100}\")"
   ]
  },
  {
   "cell_type": "markdown",
   "metadata": {},
   "source": [
    "Hypertension error checking"
   ]
  },
  {
   "cell_type": "code",
   "execution_count": 111,
   "metadata": {},
   "outputs": [
    {
     "data": {
      "text/plain": [
       "count     1517\n",
       "unique       2\n",
       "top         no\n",
       "freq       784\n",
       "Name: Hypertension, dtype: object"
      ]
     },
     "execution_count": 111,
     "metadata": {},
     "output_type": "execute_result"
    }
   ],
   "source": [
    "df_copy5_1['Hypertension'].describe()\n",
    "##2 values as per data description in 'unique'"
   ]
  },
  {
   "cell_type": "code",
   "execution_count": 112,
   "metadata": {},
   "outputs": [
    {
     "data": {
      "text/plain": [
       "[201, 590, 983]"
      ]
     },
     "execution_count": 112,
     "metadata": {},
     "output_type": "execute_result"
    }
   ],
   "source": [
    "null_label = []\n",
    "n_l = df_copy5_1['Hypertension'].isnull()\n",
    "c = 0\n",
    "for item in n_l:\n",
    "    if item == True:\n",
    "        null_label.append(c)\n",
    "    c = c + 1\n",
    "null_label"
   ]
  },
  {
   "cell_type": "markdown",
   "metadata": {},
   "source": [
    "## Hypertension Fixup\n",
    "\n",
    "With respect to mapping done previously, we simple create a 2d array which appropriately matches the same way we mapped data for the model and pass it over to our model to give a prediction as shown below(class dictionaries):\n",
    "\n",
    "* Indication_class_dict = {\"A-F\": 1, \"CVA\": 2, \"ASx\": 3, \"Asx\": 3, \"TIA\": 4}\n",
    "* Dual_class_dict = {\"yes\": 1, \"no\": 2}\n",
    "* label_class_dict = {\"Risk\": 1, \"NoRisk\": 2}\n",
    "\n",
    "Note, during data preparation,  Random and ID column were excluded therefore we will do the same in this case"
   ]
  },
  {
   "cell_type": "code",
   "execution_count": 113,
   "metadata": {},
   "outputs": [
    {
     "data": {
      "text/plain": [
       "Random          0.38879\n",
       "Id               240232\n",
       "Indication          CVA\n",
       "Diabetes            yes\n",
       "IHD                  no\n",
       "Hypertension        NaN\n",
       "Arrhythmia          yes\n",
       "History              no\n",
       "IPSI                 95\n",
       "Contra               90\n",
       "label              Risk\n",
       "Name: 201, dtype: object"
      ]
     },
     "execution_count": 113,
     "metadata": {},
     "output_type": "execute_result"
    }
   ],
   "source": [
    "df_copy5_1.loc[201,:]"
   ]
  },
  {
   "cell_type": "code",
   "execution_count": 114,
   "metadata": {},
   "outputs": [
    {
     "name": "stdout",
     "output_type": "stream",
     "text": [
      "[1]\n"
     ]
    },
    {
     "name": "stderr",
     "output_type": "stream",
     "text": [
      "c:\\program files (x86)\\python37-32\\lib\\site-packages\\ipykernel_launcher.py:4: SettingWithCopyWarning: \n",
      "A value is trying to be set on a copy of a slice from a DataFrame\n",
      "\n",
      "See the caveats in the documentation: http://pandas.pydata.org/pandas-docs/stable/user_guide/indexing.html#returning-a-view-versus-a-copy\n",
      "  after removing the cwd from sys.path.\n"
     ]
    }
   ],
   "source": [
    "w = [[2,1,2,1,2,95,90,1]] ##variable to put array values\n",
    "print(clf.predict(w)) ##has no hypertension\n",
    "x = df_copy5_1.loc[201,:]\n",
    "x[5] = \"no\"\n",
    "df_copy5_1.loc[201,:] = x"
   ]
  },
  {
   "cell_type": "code",
   "execution_count": 115,
   "metadata": {},
   "outputs": [
    {
     "data": {
      "text/plain": [
       "Random          0.70795\n",
       "Id               289096\n",
       "Indication          A-F\n",
       "Diabetes             no\n",
       "IHD                  no\n",
       "Hypertension        NaN\n",
       "Arrhythmia           no\n",
       "History              no\n",
       "IPSI                 78\n",
       "Contra               30\n",
       "label            NoRisk\n",
       "Name: 590, dtype: object"
      ]
     },
     "execution_count": 115,
     "metadata": {},
     "output_type": "execute_result"
    }
   ],
   "source": [
    "df_copy5_1.loc[590,:]"
   ]
  },
  {
   "cell_type": "code",
   "execution_count": 116,
   "metadata": {},
   "outputs": [
    {
     "name": "stdout",
     "output_type": "stream",
     "text": [
      "[2]\n"
     ]
    },
    {
     "name": "stderr",
     "output_type": "stream",
     "text": [
      "c:\\program files (x86)\\python37-32\\lib\\site-packages\\ipykernel_launcher.py:4: SettingWithCopyWarning: \n",
      "A value is trying to be set on a copy of a slice from a DataFrame\n",
      "\n",
      "See the caveats in the documentation: http://pandas.pydata.org/pandas-docs/stable/user_guide/indexing.html#returning-a-view-versus-a-copy\n",
      "  after removing the cwd from sys.path.\n"
     ]
    }
   ],
   "source": [
    "w = [[1,2,2,2,2,78,30,2]] ##variable to put array values\n",
    "print(clf.predict(w)) ##has no hypertension\n",
    "x = df_copy5_1.loc[590,:]\n",
    "x[5] = \"no\"\n",
    "df_copy5_1.loc[590,:] = x"
   ]
  },
  {
   "cell_type": "code",
   "execution_count": 117,
   "metadata": {},
   "outputs": [
    {
     "data": {
      "text/plain": [
       "Random          0.319215\n",
       "Id                158024\n",
       "Indication           TIA\n",
       "Diabetes              no\n",
       "IHD                   no\n",
       "Hypertension         NaN\n",
       "Arrhythmia            no\n",
       "History               no\n",
       "IPSI                  75\n",
       "Contra                75\n",
       "label             NoRisk\n",
       "Name: 983, dtype: object"
      ]
     },
     "execution_count": 117,
     "metadata": {},
     "output_type": "execute_result"
    }
   ],
   "source": [
    "df_copy5_1.loc[983,:]"
   ]
  },
  {
   "cell_type": "code",
   "execution_count": 118,
   "metadata": {},
   "outputs": [
    {
     "name": "stdout",
     "output_type": "stream",
     "text": [
      "[2]\n"
     ]
    },
    {
     "name": "stderr",
     "output_type": "stream",
     "text": [
      "c:\\program files (x86)\\python37-32\\lib\\site-packages\\ipykernel_launcher.py:4: SettingWithCopyWarning: \n",
      "A value is trying to be set on a copy of a slice from a DataFrame\n",
      "\n",
      "See the caveats in the documentation: http://pandas.pydata.org/pandas-docs/stable/user_guide/indexing.html#returning-a-view-versus-a-copy\n",
      "  after removing the cwd from sys.path.\n"
     ]
    }
   ],
   "source": [
    "w = [[1,2,2,2,2,78,30,2]] ##variable to put array values\n",
    "print(clf.predict(w)) ##has no hypertension\n",
    "x = df_copy5_1.loc[983,:]\n",
    "x[5] = \"no\"\n",
    "df_copy5_1.loc[983,:] = x"
   ]
  },
  {
   "cell_type": "markdown",
   "metadata": {},
   "source": [
    "## Third use case, filling up Indication values \n",
    "\n",
    "Requires the same method as used in label however, all we need to change are the features. The mapping stays the same. "
   ]
  },
  {
   "cell_type": "code",
   "execution_count": 119,
   "metadata": {},
   "outputs": [
    {
     "name": "stdout",
     "output_type": "stream",
     "text": [
      "Model accuracy:  62.0\n"
     ]
    }
   ],
   "source": [
    "#df_copy5 = sklearn.utils.shuffle(df_copy5) # always shuffle your data to avoid any biases \n",
    "X = df_copy5.drop(\"Indication\", axis=1).values ##features(tewaked for Indication)\n",
    "y = df_copy5[\"Indication\"].values ##labels(teaked for Indication)\n",
    "\n",
    "##training\n",
    "test_size = 100\n",
    "\n",
    "X_train = X[:-test_size] ##upto the last 50\n",
    "y_train = y[:-test_size] ##upto the last 50\n",
    "\n",
    "X_test = X[-test_size:]\n",
    "y_test = y[-test_size:]\n",
    "clf = neighbors.KNeighborsClassifier(n_neighbors=14, p = 2)\n",
    "clf.fit(X_train, y_train)##hyperparametres. explain in doc\n",
    "print(f\"Model accuracy:  {(clf.score(X_test, y_test))*100}\")"
   ]
  },
  {
   "cell_type": "code",
   "execution_count": 120,
   "metadata": {},
   "outputs": [
    {
     "data": {
      "text/plain": [
       "[442, 822, 1007]"
      ]
     },
     "execution_count": 120,
     "metadata": {},
     "output_type": "execute_result"
    }
   ],
   "source": [
    "null_label = []\n",
    "n_l = df_copy5_1['Indication'].isnull()\n",
    "c = 0\n",
    "for item in n_l:\n",
    "    if item == True:\n",
    "        null_label.append(c)\n",
    "    c = c + 1\n",
    "null_label"
   ]
  },
  {
   "cell_type": "markdown",
   "metadata": {},
   "source": [
    "## Indication fixup\n",
    "\n",
    "With respect to mapping done previously, we simple create a 2d array which appropriately matches the same way we mapped data for the model and pass it over to our model to give a prediction as shown below(class dictionaries):\n",
    "\n",
    "* Indication_class_dict = {\"A-F\": 1, \"CVA\": 2, \"ASx\": 3, \"Asx\": 3, \"TIA\": 4}\n",
    "* Dual_class_dict = {\"yes\": 1, \"no\": 2}\n",
    "* label_class_dict = {\"Risk\": 1, \"NoRisk\": 2}\n",
    "\n",
    "Note, during data preparation,  Random and ID column were excluded therefore we will do the same in this case\n",
    "Also, since we excluded Indication in our features, we \"skip\" Indication during value input into array"
   ]
  },
  {
   "cell_type": "code",
   "execution_count": 121,
   "metadata": {},
   "outputs": [
    {
     "data": {
      "text/plain": [
       "Random          0.648122\n",
       "Id                261060\n",
       "Indication           NaN\n",
       "Diabetes              no\n",
       "IHD                  yes\n",
       "Hypertension         yes\n",
       "Arrhythmia            no\n",
       "History               no\n",
       "IPSI                  70\n",
       "Contra                40\n",
       "label             NoRisk\n",
       "Name: 442, dtype: object"
      ]
     },
     "execution_count": 121,
     "metadata": {},
     "output_type": "execute_result"
    }
   ],
   "source": [
    "df_copy5_1.loc[442,:]"
   ]
  },
  {
   "cell_type": "code",
   "execution_count": 122,
   "metadata": {},
   "outputs": [
    {
     "name": "stdout",
     "output_type": "stream",
     "text": [
      "[1]\n"
     ]
    },
    {
     "name": "stderr",
     "output_type": "stream",
     "text": [
      "c:\\program files (x86)\\python37-32\\lib\\site-packages\\ipykernel_launcher.py:4: SettingWithCopyWarning: \n",
      "A value is trying to be set on a copy of a slice from a DataFrame\n",
      "\n",
      "See the caveats in the documentation: http://pandas.pydata.org/pandas-docs/stable/user_guide/indexing.html#returning-a-view-versus-a-copy\n",
      "  after removing the cwd from sys.path.\n"
     ]
    }
   ],
   "source": [
    "w = [[2,1,1,2,2,70,40,2]]       ##variable to put array values\n",
    "print(clf.predict(w))           ## A-F\n",
    "x = df_copy5_1.loc[442,:]\n",
    "x[2] = \"A-F\"\n",
    "df_copy5_1.loc[442,:] = x       ##replace value"
   ]
  },
  {
   "cell_type": "code",
   "execution_count": 123,
   "metadata": {},
   "outputs": [
    {
     "data": {
      "text/plain": [
       "Random          0.21176\n",
       "Id               205845\n",
       "Indication          NaN\n",
       "Diabetes             no\n",
       "IHD                 yes\n",
       "Hypertension         no\n",
       "Arrhythmia           no\n",
       "History              no\n",
       "IPSI                 80\n",
       "Contra              100\n",
       "label              Risk\n",
       "Name: 822, dtype: object"
      ]
     },
     "execution_count": 123,
     "metadata": {},
     "output_type": "execute_result"
    }
   ],
   "source": [
    "df_copy5_1.loc[822,:]"
   ]
  },
  {
   "cell_type": "code",
   "execution_count": 124,
   "metadata": {},
   "outputs": [
    {
     "name": "stdout",
     "output_type": "stream",
     "text": [
      "[1]\n"
     ]
    },
    {
     "name": "stderr",
     "output_type": "stream",
     "text": [
      "c:\\program files (x86)\\python37-32\\lib\\site-packages\\ipykernel_launcher.py:4: SettingWithCopyWarning: \n",
      "A value is trying to be set on a copy of a slice from a DataFrame\n",
      "\n",
      "See the caveats in the documentation: http://pandas.pydata.org/pandas-docs/stable/user_guide/indexing.html#returning-a-view-versus-a-copy\n",
      "  after removing the cwd from sys.path.\n"
     ]
    }
   ],
   "source": [
    "w = [[2,1,2,2,2,80,100,1]]     ##variable to put array values\n",
    "print(clf.predict(w))           ## A-F\n",
    "x = df_copy5_1.loc[822,:]\n",
    "x[2] = \"A-F\"  ##sometimes 4? 1\n",
    "df_copy5_1.loc[822,:] = x       ##replace value"
   ]
  },
  {
   "cell_type": "code",
   "execution_count": null,
   "metadata": {},
   "outputs": [],
   "source": []
  },
  {
   "cell_type": "code",
   "execution_count": 125,
   "metadata": {},
   "outputs": [
    {
     "data": {
      "text/plain": [
       "Random          0.761219\n",
       "Id                256076\n",
       "Indication           NaN\n",
       "Diabetes              no\n",
       "IHD                   no\n",
       "Hypertension          no\n",
       "Arrhythmia           yes\n",
       "History              yes\n",
       "IPSI                  99\n",
       "Contra               100\n",
       "label               Risk\n",
       "Name: 1007, dtype: object"
      ]
     },
     "execution_count": 125,
     "metadata": {},
     "output_type": "execute_result"
    }
   ],
   "source": [
    "df_copy5_1.loc[1007,:]"
   ]
  },
  {
   "cell_type": "code",
   "execution_count": 126,
   "metadata": {},
   "outputs": [
    {
     "name": "stdout",
     "output_type": "stream",
     "text": [
      "[1]\n"
     ]
    },
    {
     "name": "stderr",
     "output_type": "stream",
     "text": [
      "c:\\program files (x86)\\python37-32\\lib\\site-packages\\ipykernel_launcher.py:4: SettingWithCopyWarning: \n",
      "A value is trying to be set on a copy of a slice from a DataFrame\n",
      "\n",
      "See the caveats in the documentation: http://pandas.pydata.org/pandas-docs/stable/user_guide/indexing.html#returning-a-view-versus-a-copy\n",
      "  after removing the cwd from sys.path.\n"
     ]
    }
   ],
   "source": [
    "w = [[2,2,2,1,1,99,100,1]]      ##variable to put array values\n",
    "print(clf.predict(w))           ## A-F\n",
    "x = df_copy5_1.loc[1007,:]\n",
    "x[2] = \"A-F\"\n",
    "df_copy5_1.loc[1007,:] = x       ##replace value"
   ]
  },
  {
   "cell_type": "markdown",
   "metadata": {},
   "source": [
    "## Fourth use case, filling up IPSI values \n",
    "\n",
    "Requires the same method as used in label however, all we need to change are the features. The mapping stays the same. "
   ]
  },
  {
   "cell_type": "code",
   "execution_count": 127,
   "metadata": {},
   "outputs": [
    {
     "name": "stdout",
     "output_type": "stream",
     "text": [
      "Model accuracy:  39.0\n"
     ]
    }
   ],
   "source": [
    "#df_copy5 = sklearn.utils.shuffle(df_copy5) # always shuffle your data to avoid any biases \n",
    "X = df_copy5.drop(\"IPSI\", axis=1).values ##features(tewaked for Indication)\n",
    "y = df_copy5[\"IPSI\"].values ##labels(teaked for Indication)\n",
    "\n",
    "##training\n",
    "test_size = 100\n",
    "\n",
    "X_train = X[:-test_size] ##upto the last 50\n",
    "y_train = y[:-test_size] ##upto the last 50\n",
    "\n",
    "X_test = X[-test_size:]\n",
    "y_test = y[-test_size:]\n",
    "clf = neighbors.KNeighborsClassifier(n_neighbors=14, p = 2)\n",
    "clf.fit(X_train, y_train)\n",
    "print(f\"Model accuracy:  {(clf.score(X_test, y_test))*100}\")"
   ]
  },
  {
   "cell_type": "code",
   "execution_count": null,
   "metadata": {},
   "outputs": [],
   "source": []
  },
  {
   "cell_type": "code",
   "execution_count": 128,
   "metadata": {},
   "outputs": [
    {
     "data": {
      "text/plain": [
       "[620, 752, 845, 916]"
      ]
     },
     "execution_count": 128,
     "metadata": {},
     "output_type": "execute_result"
    }
   ],
   "source": [
    "null_label = []\n",
    "n_l = df_copy5_1['IPSI'].isnull()\n",
    "c = 0\n",
    "for item in n_l:\n",
    "    if item == True:\n",
    "        null_label.append(c)\n",
    "    c = c + 1\n",
    "null_label"
   ]
  },
  {
   "cell_type": "markdown",
   "metadata": {},
   "source": [
    "## IPSI fixup\n",
    "\n",
    "With respect to mapping done previously, we simple create a 2d array which appropriately matches the same way we mapped data for the model and pass it over to our model to give a prediction as shown below(class dictionaries):\n",
    "\n",
    "* Indication_class_dict = {\"A-F\": 1, \"CVA\": 2, \"ASx\": 3, \"Asx\": 3, \"TIA\": 4}\n",
    "* Dual_class_dict = {\"yes\": 1, \"no\": 2}\n",
    "* label_class_dict = {\"Risk\": 1, \"NoRisk\": 2}\n",
    "\n",
    "Note, during data preparation,  Random and ID column were excluded therefore we will do the same in this case\n",
    "Also, since we excluded Indication in our features, we \"skip\" IPSI during value input into array"
   ]
  },
  {
   "cell_type": "code",
   "execution_count": 129,
   "metadata": {},
   "outputs": [
    {
     "data": {
      "text/plain": [
       "Random          0.283872\n",
       "Id                227779\n",
       "Indication           A-F\n",
       "Diabetes              no\n",
       "IHD                   no\n",
       "Hypertension          no\n",
       "Arrhythmia            no\n",
       "History               no\n",
       "IPSI                 NaN\n",
       "Contra               100\n",
       "label               Risk\n",
       "Name: 620, dtype: object"
      ]
     },
     "execution_count": 129,
     "metadata": {},
     "output_type": "execute_result"
    }
   ],
   "source": [
    "df_copy5_1.loc[620,:]"
   ]
  },
  {
   "cell_type": "code",
   "execution_count": 130,
   "metadata": {},
   "outputs": [
    {
     "name": "stdout",
     "output_type": "stream",
     "text": [
      "[80.]\n"
     ]
    },
    {
     "name": "stderr",
     "output_type": "stream",
     "text": [
      "c:\\program files (x86)\\python37-32\\lib\\site-packages\\ipykernel_launcher.py:4: SettingWithCopyWarning: \n",
      "A value is trying to be set on a copy of a slice from a DataFrame\n",
      "\n",
      "See the caveats in the documentation: http://pandas.pydata.org/pandas-docs/stable/user_guide/indexing.html#returning-a-view-versus-a-copy\n",
      "  after removing the cwd from sys.path.\n"
     ]
    }
   ],
   "source": [
    "w = [[1,2,2,2,2,2,100,1]] ##variable to put array values\n",
    "print(clf.predict(w))           ## A-F\n",
    "x = df_copy5_1.loc[620,:]\n",
    "x[8] = 80\n",
    "df_copy5_1.loc[620,:] = x       ##replace value"
   ]
  },
  {
   "cell_type": "code",
   "execution_count": 131,
   "metadata": {},
   "outputs": [
    {
     "data": {
      "text/plain": [
       "Random          0.243518\n",
       "Id                146415\n",
       "Indication           CVA\n",
       "Diabetes              no\n",
       "IHD                  yes\n",
       "Hypertension         yes\n",
       "Arrhythmia           yes\n",
       "History               no\n",
       "IPSI                 NaN\n",
       "Contra               100\n",
       "label               Risk\n",
       "Name: 752, dtype: object"
      ]
     },
     "execution_count": 131,
     "metadata": {},
     "output_type": "execute_result"
    }
   ],
   "source": [
    "df_copy5_1.loc[752,:]"
   ]
  },
  {
   "cell_type": "code",
   "execution_count": 132,
   "metadata": {},
   "outputs": [
    {
     "name": "stdout",
     "output_type": "stream",
     "text": [
      "[90.]\n"
     ]
    },
    {
     "name": "stderr",
     "output_type": "stream",
     "text": [
      "c:\\program files (x86)\\python37-32\\lib\\site-packages\\ipykernel_launcher.py:4: SettingWithCopyWarning: \n",
      "A value is trying to be set on a copy of a slice from a DataFrame\n",
      "\n",
      "See the caveats in the documentation: http://pandas.pydata.org/pandas-docs/stable/user_guide/indexing.html#returning-a-view-versus-a-copy\n",
      "  after removing the cwd from sys.path.\n"
     ]
    }
   ],
   "source": [
    "w = [[2,2,1,1,1,2,100,1]]       ##variable to put array values\n",
    "print(clf.predict(w))           ## A-F\n",
    "x = df_copy5_1.loc[752,:]\n",
    "x[8] = 90\n",
    "df_copy5_1.loc[752,:] = x       ##replace value"
   ]
  },
  {
   "cell_type": "code",
   "execution_count": 133,
   "metadata": {},
   "outputs": [
    {
     "data": {
      "text/plain": [
       "Random          0.920096\n",
       "Id                104176\n",
       "Indication           CVA\n",
       "Diabetes              no\n",
       "IHD                   no\n",
       "Hypertension          no\n",
       "Arrhythmia            no\n",
       "History               no\n",
       "IPSI                 NaN\n",
       "Contra                20\n",
       "label             NoRisk\n",
       "Name: 845, dtype: object"
      ]
     },
     "execution_count": 133,
     "metadata": {},
     "output_type": "execute_result"
    }
   ],
   "source": [
    "df_copy5_1.loc[845,:]"
   ]
  },
  {
   "cell_type": "code",
   "execution_count": 134,
   "metadata": {},
   "outputs": [
    {
     "name": "stdout",
     "output_type": "stream",
     "text": [
      "[60.]\n"
     ]
    },
    {
     "name": "stderr",
     "output_type": "stream",
     "text": [
      "c:\\program files (x86)\\python37-32\\lib\\site-packages\\ipykernel_launcher.py:4: SettingWithCopyWarning: \n",
      "A value is trying to be set on a copy of a slice from a DataFrame\n",
      "\n",
      "See the caveats in the documentation: http://pandas.pydata.org/pandas-docs/stable/user_guide/indexing.html#returning-a-view-versus-a-copy\n",
      "  after removing the cwd from sys.path.\n"
     ]
    }
   ],
   "source": [
    "w = [[2,2,2,2,2,2,20,2]]        ##variable to put array values\n",
    "print(clf.predict(w))           ## A-F\n",
    "x = df_copy5_1.loc[845,:]\n",
    "x[8] = 60\n",
    "df_copy5_1.loc[845,:] = x       ##replace value"
   ]
  },
  {
   "cell_type": "code",
   "execution_count": 135,
   "metadata": {},
   "outputs": [
    {
     "data": {
      "text/plain": [
       "Random          0.00450114\n",
       "Id                  281679\n",
       "Indication             A-F\n",
       "Diabetes                no\n",
       "IHD                     no\n",
       "Hypertension            no\n",
       "Arrhythmia              no\n",
       "History                 no\n",
       "IPSI                   NaN\n",
       "Contra                  50\n",
       "label               NoRisk\n",
       "Name: 916, dtype: object"
      ]
     },
     "execution_count": 135,
     "metadata": {},
     "output_type": "execute_result"
    }
   ],
   "source": [
    "df_copy5_1.loc[916,:]"
   ]
  },
  {
   "cell_type": "code",
   "execution_count": 136,
   "metadata": {},
   "outputs": [
    {
     "name": "stdout",
     "output_type": "stream",
     "text": [
      "[90.]\n"
     ]
    },
    {
     "name": "stderr",
     "output_type": "stream",
     "text": [
      "c:\\program files (x86)\\python37-32\\lib\\site-packages\\ipykernel_launcher.py:4: SettingWithCopyWarning: \n",
      "A value is trying to be set on a copy of a slice from a DataFrame\n",
      "\n",
      "See the caveats in the documentation: http://pandas.pydata.org/pandas-docs/stable/user_guide/indexing.html#returning-a-view-versus-a-copy\n",
      "  after removing the cwd from sys.path.\n"
     ]
    }
   ],
   "source": [
    "w = [[1,2,2,2,2,2,50,2]]        ##variable to put array values\n",
    "print(clf.predict(w))           ## A-F\n",
    "x = df_copy5_1.loc[916,:]\n",
    "x[8] = 90\n",
    "df_copy5_1.loc[916,:] = x       ##replace value"
   ]
  },
  {
   "cell_type": "markdown",
   "metadata": {},
   "source": [
    "## Fifth use case, filling up Contra values\n",
    "\n",
    "Requires the same method as used in label however, all we need to change are the features. The mapping stays the same. \n"
   ]
  },
  {
   "cell_type": "code",
   "execution_count": 137,
   "metadata": {},
   "outputs": [
    {
     "name": "stdout",
     "output_type": "stream",
     "text": [
      "Model accuracy:  38.0\n"
     ]
    }
   ],
   "source": [
    "#df_copy5 = sklearn.utils.shuffle(df_copy5) # always shuffle your data to avoid any biases \n",
    "X = df_copy5 .drop(\"Contra\", axis=1).values ##features(tewaked for IPSI)\n",
    "y = df_copy5 [\"Contra\"].values ##labels(teaked for IPSI)\n",
    "\n",
    "##training\n",
    "test_size = 100\n",
    "\n",
    "X_train = X[:-test_size] ##upto the last 50\n",
    "y_train = y[:-test_size] ##upto the last 50\n",
    "\n",
    "X_train=X_train.astype('int') ##makes sure values are transformed into int type\n",
    "y_train = y_train.astype('int')##makes sure values are transformed into int type\n",
    "\n",
    "X_test = X[-test_size:]\n",
    "y_test = y[-test_size:]\n",
    "\n",
    "X_test=X_test.astype('int')##makes sure values are transformed into int type\n",
    "y_test = y_test.astype('int')##makes sure values are transformed into int type\n",
    "\n",
    "clf = neighbors.KNeighborsClassifier(n_neighbors=14, p = 2)\n",
    "clf.fit(X_train, y_train)\n",
    "print(f\"Model accuracy:  {(clf.score(X_test, y_test))*100}\")"
   ]
  },
  {
   "cell_type": "markdown",
   "metadata": {},
   "source": [
    "ith respect to mapping done previously, we simple create a 2d array which appropriately matches the same way we mapped data for the model and pass it over to our model to give a prediction as shown below(class dictionaries):\n",
    "\n",
    "* Indication_class_dict = {\"A-F\": 1, \"CVA\": 2, \"ASx\": 3, \"Asx\": 3, \"TIA\": 4}\n",
    "* Dual_class_dict = {\"yes\": 1, \"no\": 2}\n",
    "* label_class_dict = {\"Risk\": 1, \"NoRisk\": 2}\n",
    "\n",
    "Note, during data preparation,  Random and ID column were excluded therefore we will do the same in this case\n",
    "Also, since we excluded Indication in our features, we \"skip\" Contra during value input into array"
   ]
  },
  {
   "cell_type": "code",
   "execution_count": 138,
   "metadata": {},
   "outputs": [
    {
     "data": {
      "text/plain": [
       "[453]"
      ]
     },
     "execution_count": 138,
     "metadata": {},
     "output_type": "execute_result"
    }
   ],
   "source": [
    "Contra_column = df_copy5_1['Contra']\n",
    "Contra_null_index_positions = []\n",
    "c = 0\n",
    "for item in Contra_column:\n",
    "    if item == \" \":\n",
    "        Contra_null_index_positions.append(c)\n",
    "    c = c + 1\n",
    "    \n",
    "Contra_null_index_positions"
   ]
  },
  {
   "cell_type": "code",
   "execution_count": 139,
   "metadata": {},
   "outputs": [
    {
     "data": {
      "text/plain": [
       "Random          0.518558\n",
       "Id                254469\n",
       "Indication           ASx\n",
       "Diabetes              no\n",
       "IHD                   no\n",
       "Hypertension         yes\n",
       "Arrhythmia            no\n",
       "History               no\n",
       "IPSI                  70\n",
       "Contra                  \n",
       "label             NoRisk\n",
       "Name: 453, dtype: object"
      ]
     },
     "execution_count": 139,
     "metadata": {},
     "output_type": "execute_result"
    }
   ],
   "source": [
    "df_copy5_1.loc[453,:]"
   ]
  },
  {
   "cell_type": "code",
   "execution_count": 140,
   "metadata": {},
   "outputs": [
    {
     "name": "stdout",
     "output_type": "stream",
     "text": [
      "[60]\n"
     ]
    },
    {
     "name": "stderr",
     "output_type": "stream",
     "text": [
      "c:\\program files (x86)\\python37-32\\lib\\site-packages\\ipykernel_launcher.py:4: SettingWithCopyWarning: \n",
      "A value is trying to be set on a copy of a slice from a DataFrame\n",
      "\n",
      "See the caveats in the documentation: http://pandas.pydata.org/pandas-docs/stable/user_guide/indexing.html#returning-a-view-versus-a-copy\n",
      "  after removing the cwd from sys.path.\n"
     ]
    }
   ],
   "source": [
    "w = [[3,2,2,1,2,2,70,2]] ##variable to put array values\n",
    "print(clf.predict(w)) ## 60\n",
    "x = df_copy5_1.loc[453,:]\n",
    "x[9] = 20\n",
    "df_copy5_1.loc[453,:]= x"
   ]
  },
  {
   "cell_type": "markdown",
   "metadata": {},
   "source": [
    "## Sixth use case, filling up Diabetes values \n",
    "\n",
    "Requires the same method as used in label however, all we need to change are the features. The mapping stays the same. \n"
   ]
  },
  {
   "cell_type": "code",
   "execution_count": 141,
   "metadata": {},
   "outputs": [
    {
     "name": "stdout",
     "output_type": "stream",
     "text": [
      "Model accuracy:  96.0\n"
     ]
    }
   ],
   "source": [
    "#df_copy5 = sklearn.utils.shuffle(df_copy5) # always shuffle your data to avoid any biases \n",
    "X = df_copy5.drop(\"Diabetes\", axis=1).values ##features(tewaked for diabetes)\n",
    "y = df_copy5 [\"Diabetes\"].values ##labels(teaked for diabetes)\n",
    "\n",
    "##training\n",
    "test_size = 100\n",
    "\n",
    "X_train = X[:-test_size] ##upto the last 50\n",
    "y_train = y[:-test_size] ##upto the last 50\n",
    "\n",
    "X_train=X_train.astype('int') ##makes sure values are transformed into int type\n",
    "y_train = y_train.astype('int')##makes sure values are transformed into int type\n",
    "\n",
    "X_test = X[-test_size:]\n",
    "y_test = y[-test_size:]\n",
    "\n",
    "X_test=X_test.astype('int')##makes sure values are transformed into int type\n",
    "y_test = y_test.astype('int')##makes sure values are transformed into int type\n",
    "\n",
    "clf = neighbors.KNeighborsClassifier(n_neighbors=14, p = 2)\n",
    "clf.fit(X_train, y_train)\n",
    "print(f\"Model accuracy:  {(clf.score(X_test, y_test))*100}\")\n"
   ]
  },
  {
   "cell_type": "code",
   "execution_count": 142,
   "metadata": {},
   "outputs": [
    {
     "data": {
      "text/plain": [
       "[447, 514]"
      ]
     },
     "execution_count": 142,
     "metadata": {},
     "output_type": "execute_result"
    }
   ],
   "source": [
    "null_label = []\n",
    "n_l = df_copy5_1['Diabetes'].isnull()\n",
    "c = 0\n",
    "for item in n_l:\n",
    "    if item == True:\n",
    "        null_label.append(c)\n",
    "    c = c + 1\n",
    "null_label\n"
   ]
  },
  {
   "cell_type": "markdown",
   "metadata": {},
   "source": [
    "With respect to mapping done previously, we simple create a 2d array which appropriately matches the same way we mapped data for the model and pass it over to our model to give a prediction as shown below(class dictionaries):\n",
    "\n",
    "* Indication_class_dict = {\"A-F\": 1, \"CVA\": 2, \"ASx\": 3, \"Asx\": 3, \"TIA\": 4}\n",
    "* Dual_class_dict = {\"yes\": 1, \"no\": 2}\n",
    "* label_class_dict = {\"Risk\": 1, \"NoRisk\": 2}\n",
    "\n",
    "Note, during data preparation,  Random and ID column were excluded therefore we will do the same in this case\n",
    "Also, since we excluded Indication in our features, we \"skip\" Diabetes during value input into array\n"
   ]
  },
  {
   "cell_type": "code",
   "execution_count": 143,
   "metadata": {},
   "outputs": [
    {
     "data": {
      "text/plain": [
       "Random          0.681744\n",
       "Id                224257\n",
       "Indication           CVA\n",
       "Diabetes             NaN\n",
       "IHD                  yes\n",
       "Hypertension         yes\n",
       "Arrhythmia           yes\n",
       "History               no\n",
       "IPSI                  90\n",
       "Contra               100\n",
       "label               Risk\n",
       "Name: 447, dtype: object"
      ]
     },
     "execution_count": 143,
     "metadata": {},
     "output_type": "execute_result"
    }
   ],
   "source": [
    "df_copy5_1.loc[447,:]"
   ]
  },
  {
   "cell_type": "code",
   "execution_count": 144,
   "metadata": {},
   "outputs": [
    {
     "name": "stdout",
     "output_type": "stream",
     "text": [
      "[2]\n"
     ]
    },
    {
     "name": "stderr",
     "output_type": "stream",
     "text": [
      "c:\\program files (x86)\\python37-32\\lib\\site-packages\\ipykernel_launcher.py:4: SettingWithCopyWarning: \n",
      "A value is trying to be set on a copy of a slice from a DataFrame\n",
      "\n",
      "See the caveats in the documentation: http://pandas.pydata.org/pandas-docs/stable/user_guide/indexing.html#returning-a-view-versus-a-copy\n",
      "  after removing the cwd from sys.path.\n"
     ]
    }
   ],
   "source": [
    "w = [[2,1,1,1,2,90,100,1]] ##variable to put array values\n",
    "print(clf.predict(w)) ## 60\n",
    "x = df_copy5_1.loc[447,:]\n",
    "x[3] = \"no\"\n",
    "df_copy5_1.loc[447,:]= x"
   ]
  },
  {
   "cell_type": "code",
   "execution_count": 145,
   "metadata": {},
   "outputs": [
    {
     "data": {
      "text/plain": [
       "Random          0.39213\n",
       "Id               210861\n",
       "Indication          A-F\n",
       "Diabetes            NaN\n",
       "IHD                  no\n",
       "Hypertension        yes\n",
       "Arrhythmia           no\n",
       "History              no\n",
       "IPSI                 80\n",
       "Contra               40\n",
       "label            NoRisk\n",
       "Name: 514, dtype: object"
      ]
     },
     "execution_count": 145,
     "metadata": {},
     "output_type": "execute_result"
    }
   ],
   "source": [
    "df_copy5_1.loc[514,:]"
   ]
  },
  {
   "cell_type": "code",
   "execution_count": 146,
   "metadata": {},
   "outputs": [
    {
     "name": "stdout",
     "output_type": "stream",
     "text": [
      "[2]\n"
     ]
    },
    {
     "name": "stderr",
     "output_type": "stream",
     "text": [
      "c:\\program files (x86)\\python37-32\\lib\\site-packages\\ipykernel_launcher.py:4: SettingWithCopyWarning: \n",
      "A value is trying to be set on a copy of a slice from a DataFrame\n",
      "\n",
      "See the caveats in the documentation: http://pandas.pydata.org/pandas-docs/stable/user_guide/indexing.html#returning-a-view-versus-a-copy\n",
      "  after removing the cwd from sys.path.\n"
     ]
    }
   ],
   "source": [
    "w = [[1,2,1,2,2,80,40,2]] ##variable to put array values\n",
    "print(clf.predict(w)) ## 60\n",
    "x = df_copy5_1.loc[514,:]\n",
    "x[3] = \"no\"\n",
    "df_copy5_1.loc[514,:]= x"
   ]
  },
  {
   "cell_type": "markdown",
   "metadata": {},
   "source": [
    "## Seventh use case, filling up History values \n",
    "\n",
    "Requires the same method as used in label however, all we need to change are the features. The mapping stays the same. \n"
   ]
  },
  {
   "cell_type": "code",
   "execution_count": 147,
   "metadata": {},
   "outputs": [
    {
     "name": "stdout",
     "output_type": "stream",
     "text": [
      "Model accuracy:  100.0\n"
     ]
    }
   ],
   "source": [
    "#df_copy5 = sklearn.utils.shuffle(df_copy5) # always shuffle your data to avoid any biases \n",
    "X = df_copy5 .drop(\"History\", axis=1).values ##features(tewaked for diabetes)\n",
    "y = df_copy5 [\"History\"].values ##labels(teaked for diabetes)\n",
    "\n",
    "##training\n",
    "test_size = 100\n",
    "\n",
    "X_train = X[:-test_size] ##upto the last 50\n",
    "y_train = y[:-test_size] ##upto the last 50\n",
    "\n",
    "X_train=X_train.astype('int') ##makes sure values are transformed into int type\n",
    "y_train = y_train.astype('int')##makes sure values are transformed into int type\n",
    "\n",
    "X_test = X[-test_size:]\n",
    "y_test = y[-test_size:]\n",
    "\n",
    "X_test=X_test.astype('int')##makes sure values are transformed into int type\n",
    "y_test = y_test.astype('int')##makes sure values are transformed into int type\n",
    "\n",
    "neighbors.KNeighborsClassifier(n_neighbors=14, p = 2)\n",
    "clf.fit(X_train, y_train)\n",
    "print(f\"Model accuracy:  {(clf.score(X_test, y_test))*100}\")\n"
   ]
  },
  {
   "cell_type": "code",
   "execution_count": 148,
   "metadata": {},
   "outputs": [
    {
     "data": {
      "text/plain": [
       "[337, 784]"
      ]
     },
     "execution_count": 148,
     "metadata": {},
     "output_type": "execute_result"
    }
   ],
   "source": [
    "null_label = []\n",
    "n_l = df_copy5_1['History'].isnull()\n",
    "c = 0\n",
    "for item in n_l:\n",
    "    if item == True:\n",
    "        null_label.append(c)\n",
    "    c = c + 1\n",
    "null_label"
   ]
  },
  {
   "cell_type": "markdown",
   "metadata": {},
   "source": [
    "With respect to mapping done previously, we simple create a 2d array which appropriately matches the same way we mapped data for the model and pass it over to our model to give a prediction as shown below(class dictionaries):\n",
    "\n",
    "* Indication_class_dict = {\"A-F\": 1, \"CVA\": 2, \"ASx\": 3, \"Asx\": 3, \"TIA\": 4}\n",
    "* Dual_class_dict = {\"yes\": 1, \"no\": 2}\n",
    "* label_class_dict = {\"Risk\": 1, \"NoRisk\": 2}\n",
    "\n",
    "Note, during data preparation,  Random and ID column were excluded therefore we will do the same in this case\n",
    "Also, since we excluded Indication in our features, we \"skip\" History during value input into array"
   ]
  },
  {
   "cell_type": "code",
   "execution_count": 149,
   "metadata": {},
   "outputs": [
    {
     "data": {
      "text/plain": [
       "Random          0.617072\n",
       "Id                260770\n",
       "Indication           CVA\n",
       "Diabetes              no\n",
       "IHD                  yes\n",
       "Hypertension          no\n",
       "Arrhythmia            no\n",
       "History              NaN\n",
       "IPSI                  85\n",
       "Contra                50\n",
       "label             NoRisk\n",
       "Name: 337, dtype: object"
      ]
     },
     "execution_count": 149,
     "metadata": {},
     "output_type": "execute_result"
    }
   ],
   "source": [
    "df_copy5_1.loc[337,:]"
   ]
  },
  {
   "cell_type": "code",
   "execution_count": 150,
   "metadata": {},
   "outputs": [
    {
     "name": "stdout",
     "output_type": "stream",
     "text": [
      "[2]\n"
     ]
    },
    {
     "name": "stderr",
     "output_type": "stream",
     "text": [
      "c:\\program files (x86)\\python37-32\\lib\\site-packages\\ipykernel_launcher.py:4: SettingWithCopyWarning: \n",
      "A value is trying to be set on a copy of a slice from a DataFrame\n",
      "\n",
      "See the caveats in the documentation: http://pandas.pydata.org/pandas-docs/stable/user_guide/indexing.html#returning-a-view-versus-a-copy\n",
      "  after removing the cwd from sys.path.\n"
     ]
    }
   ],
   "source": [
    "w = [[2,2,1,2,2,85,50,2]] ##variable to put array values\n",
    "print(clf.predict(w)) ## 60\n",
    "x = df_copy5_1.loc[337,:]\n",
    "x[7] = \"no\"\n",
    "df_copy5_1.loc[337,:]= x"
   ]
  },
  {
   "cell_type": "code",
   "execution_count": 151,
   "metadata": {},
   "outputs": [
    {
     "data": {
      "text/plain": [
       "Random          0.243645\n",
       "Id                196483\n",
       "Indication           CVA\n",
       "Diabetes              no\n",
       "IHD                   no\n",
       "Hypertension         yes\n",
       "Arrhythmia           yes\n",
       "History              NaN\n",
       "IPSI                  95\n",
       "Contra               100\n",
       "label               Risk\n",
       "Name: 784, dtype: object"
      ]
     },
     "execution_count": 151,
     "metadata": {},
     "output_type": "execute_result"
    }
   ],
   "source": [
    "df_copy5_1.loc[784,:]"
   ]
  },
  {
   "cell_type": "code",
   "execution_count": 152,
   "metadata": {},
   "outputs": [
    {
     "name": "stdout",
     "output_type": "stream",
     "text": [
      "[2]\n"
     ]
    },
    {
     "name": "stderr",
     "output_type": "stream",
     "text": [
      "c:\\program files (x86)\\python37-32\\lib\\site-packages\\ipykernel_launcher.py:6: SettingWithCopyWarning: \n",
      "A value is trying to be set on a copy of a slice from a DataFrame\n",
      "\n",
      "See the caveats in the documentation: http://pandas.pydata.org/pandas-docs/stable/user_guide/indexing.html#returning-a-view-versus-a-copy\n",
      "  \n"
     ]
    },
    {
     "data": {
      "text/plain": [
       "2"
      ]
     },
     "execution_count": 152,
     "metadata": {},
     "output_type": "execute_result"
    }
   ],
   "source": [
    "w = [[2,2,2,1,1,95,100,1]] ##variable to put array values\n",
    "z = clf.predict(w)\n",
    "h = z.item(0)\n",
    "print(clf.predict(w)) ## 60\n",
    "x = df_copy5_1.loc[784,:]\n",
    "x[7] = \"no\"\n",
    "df_copy5_1.loc[784,:]= x\n",
    "#type(h)\n",
    "h"
   ]
  },
  {
   "cell_type": "markdown",
   "metadata": {},
   "source": []
  },
  {
   "cell_type": "markdown",
   "metadata": {},
   "source": [
    "# Modelling 2\n",
    "## Data preparation\n",
    "Data from the cleaned dataframe is transformed into values through mapping.\n"
   ]
  },
  {
   "cell_type": "code",
   "execution_count": 153,
   "metadata": {},
   "outputs": [],
   "source": [
    "#class dictionaries\n",
    "Indication_class_dict = {\"A-F\": 1, \"CVA\": 2, \"ASx\": 3,\"Asx\": 3, \"TIA\": 4}\n",
    "Dual_class_dict = {\"yes\": 1, \"no\": 2}\n",
    "label_class_dict = {\"Risk\": 1, \"NoRisk\": 2, \"NaN\": 3}\n",
    "\n",
    "##mapping\n",
    "df_copy5_1['Diabetes'] = df_copy5_1['Diabetes'].map(Dual_class_dict)\n",
    "df_copy5_1['Hypertension'] = df_copy5_1['Hypertension'].map(Dual_class_dict)\n",
    "df_copy5_1['History'] = df_copy5_1['History'].map(Dual_class_dict)\n",
    "df_copy5_1['Indication'] = df_copy5_1['Indication'].map(Indication_class_dict)\n",
    "df_copy5_1['Arrhythmia'] = df_copy5_1['Arrhythmia'].map(Dual_class_dict)\n",
    "df_copy5_1['IHD'] = df_copy5_1['IHD'].map(Dual_class_dict)\n",
    "df_copy5_1['label'] = df_copy5_1['label'].map(label_class_dict)"
   ]
  },
  {
   "cell_type": "markdown",
   "metadata": {},
   "source": [
    "## Modelling 2"
   ]
  },
  {
   "cell_type": "code",
   "execution_count": 154,
   "metadata": {},
   "outputs": [
    {
     "name": "stderr",
     "output_type": "stream",
     "text": [
      "C:\\Users\\CSuser\\AppData\\Roaming\\Python\\Python37\\site-packages\\pandas\\core\\frame.py:4117: SettingWithCopyWarning: \n",
      "A value is trying to be set on a copy of a slice from a DataFrame\n",
      "\n",
      "See the caveats in the documentation: http://pandas.pydata.org/pandas-docs/stable/user_guide/indexing.html#returning-a-view-versus-a-copy\n",
      "  errors=errors,\n"
     ]
    }
   ],
   "source": [
    "df_copy5_1= sklearn.utils.shuffle(df_copy5_1) #always shuffle your data to avoid any biases \n",
    "df_copy5_1.drop(df_copy5_1.columns[[0, 1]], axis = 1, inplace = True) "
   ]
  },
  {
   "cell_type": "markdown",
   "metadata": {},
   "source": [
    "## test/train split phase"
   ]
  },
  {
   "cell_type": "code",
   "execution_count": 155,
   "metadata": {},
   "outputs": [],
   "source": [
    "X = df_copy5_1.drop(\"label\", axis=1).values\n",
    "y = df_copy5_1[\"label\"].values\n",
    "##training\n",
    "#1500\n",
    "#1500 - 50\n",
    "test_size = 50\n",
    "X_train = X[:-test_size] ##upto the last 50\n",
    "y_train = y[:-test_size] ##upto the last 50\n",
    "\n",
    "X_train=X_train.astype('int')##makes sure values are transformed into int type\n",
    "y_train = y_train.astype('int')##makes sure values are transformed into int type\n",
    "\n",
    "X_test = X[-test_size:]\n",
    "y_test = y[-test_size:]\n",
    "\n",
    "X_test=X_test.astype('int')##makes sure values are transformed into int type\n",
    "y_test = y_test.astype('int')##makes sure values are transformed into int type\n",
    "\n",
    "X_test=X_test.astype('int')##makes sure values are transformed into int type\n",
    "y_test = y_test.astype('int')##makes sure values are transformed into int type"
   ]
  },
  {
   "cell_type": "markdown",
   "metadata": {},
   "source": [
    "## Modelling 2.0(Decision trees)"
   ]
  },
  {
   "cell_type": "code",
   "execution_count": 156,
   "metadata": {},
   "outputs": [
    {
     "name": "stdout",
     "output_type": "stream",
     "text": [
      "0.98\n"
     ]
    }
   ],
   "source": [
    "model4 = tree.DecisionTreeClassifier(criterion = 'gini', random_state = 100)\n",
    "model4.fit(X_train, y_train)\n",
    "print(model4.score(X_test, y_test))\n",
    "model_score4 = model4.score(X_test, y_test)\n",
    "model_predictions  = []\n",
    "actual_predictions = []\n",
    "for X, y in zip(X_test, y_test):\n",
    "    ##print(f\"Model: {model.predict([X])[0]}, Actual: {y}\")\n",
    "    model_predictions.append(model4.predict([X])[0])\n",
    "    actual_predictions.append(y)"
   ]
  },
  {
   "cell_type": "code",
   "execution_count": 157,
   "metadata": {},
   "outputs": [
    {
     "name": "stdout",
     "output_type": "stream",
     "text": [
      "              precision    recall  f1-score   support\n",
      "\n",
      "           1       1.00      0.95      0.97        20\n",
      "           2       0.97      1.00      0.98        30\n",
      "\n",
      "    accuracy                           0.98        50\n",
      "   macro avg       0.98      0.97      0.98        50\n",
      "weighted avg       0.98      0.98      0.98        50\n",
      "\n"
     ]
    }
   ],
   "source": [
    "y_pred = model4.predict(X_test)\n",
    "model4_metrics = metrics.classification_report(y_test,y_pred)\n",
    "print(metrics.classification_report(y_test,y_pred))"
   ]
  },
  {
   "cell_type": "markdown",
   "metadata": {},
   "source": [
    "### TP, FP, TN, FN analysis"
   ]
  },
  {
   "cell_type": "code",
   "execution_count": 158,
   "metadata": {},
   "outputs": [
    {
     "name": "stdout",
     "output_type": "stream",
     "text": [
      "Total Test Cases: 50\n",
      "\n",
      "\n",
      "false positive: 2.0 %\n",
      "false negative: 0.0 %\n",
      "true negative: 60.0 %\n",
      "true positive: 38.0 %\n",
      "True positive sensitivity: 100.0%\n",
      "True negative sensitivity: 96.7741935483871%\n",
      "False positive sensitivity: 3.225806451612903%\n",
      "False negative sensitivity: 0.0%\n"
     ]
    }
   ],
   "source": [
    "true_positives4 =  0\n",
    "false_positives4 = 0\n",
    "true_negatives4 =  0\n",
    "false_negatives4 = 0\n",
    "\n",
    "tp_sensitivity4 = 0\n",
    "tn_sensitivity4 = 0\n",
    "fp_sensitivity4 = 0\n",
    "fn_sensitivity4 = 0\n",
    "\n",
    "for X, y in zip (X_test, y_test):\n",
    "    if (model4.predict([X])[0]) == 2 and y == 2:\n",
    "            true_negatives4+=1\n",
    "    elif (model4.predict([X])[0]) == 1 and y == 2:\n",
    "            false_negatives4+=1\n",
    "    elif (model4.predict([X])[0]) == 1 and y == 1:\n",
    "            true_positives4+=1\n",
    "    elif (model4.predict([X])[0]) == 2 and y == 1:\n",
    "            false_positives4+=1\n",
    "\n",
    "total = true_positives4 + false_positives4 + true_negatives4 + false_negatives4\n",
    "print(f\"Total Test Cases: {total}\\n\\n\")\n",
    "\n",
    "false_positives4 = false_positives4/total*100\n",
    "false_negatives4 = false_negatives4/total*100\n",
    "true_negatives4 = true_negatives4/total*100\n",
    "true_positives4 = true_positives4/total*100\n",
    "\n",
    "\n",
    "tp_sensitivity4 = (true_positives4/(true_positives4+false_negatives4)) * 100\n",
    "tn_sensitivity4 = (true_negatives4/(true_negatives4+false_positives4)) * 100\n",
    "fp_sensitivity4 = (false_positives4/(false_positives4 + true_negatives4)) * 100\n",
    "fn_sensitivity4 = (false_negatives4/(false_negatives4+true_positives4)) * 100\n",
    "\n",
    "\n",
    "print(f\"false positive: {false_positives4} %\")\n",
    "print(f\"false negative: {false_negatives4} %\")\n",
    "print(f\"true negative: {true_negatives4} %\")\n",
    "print(f\"true positive: {true_positives4} %\")\n",
    "\n",
    "print(f\"True positive sensitivity: {tp_sensitivity4}%\")    \n",
    "print(f\"True negative sensitivity: {tn_sensitivity4}%\")  \n",
    "print(f\"False positive sensitivity: {fp_sensitivity4}%\")  \n",
    "print(f\"False negative sensitivity: {fn_sensitivity4}%\")  "
   ]
  },
  {
   "cell_type": "markdown",
   "metadata": {},
   "source": [
    "## (Modelling 2.1)Logistic regression"
   ]
  },
  {
   "cell_type": "code",
   "execution_count": 159,
   "metadata": {},
   "outputs": [
    {
     "name": "stdout",
     "output_type": "stream",
     "text": [
      "0.94\n"
     ]
    }
   ],
   "source": [
    "model5 = LogisticRegression(max_iter=10000)\n",
    "model5.fit(X_train, y_train)\n",
    "print(model5.score(X_test, y_test))\n",
    "model_score5 = model5.score(X_test, y_test)"
   ]
  },
  {
   "cell_type": "code",
   "execution_count": 160,
   "metadata": {},
   "outputs": [
    {
     "name": "stdout",
     "output_type": "stream",
     "text": [
      "              precision    recall  f1-score   support\n",
      "\n",
      "           1       0.95      0.90      0.92        20\n",
      "           2       0.94      0.97      0.95        30\n",
      "\n",
      "    accuracy                           0.94        50\n",
      "   macro avg       0.94      0.93      0.94        50\n",
      "weighted avg       0.94      0.94      0.94        50\n",
      "\n"
     ]
    }
   ],
   "source": [
    "y_pred = model5.predict(X_test)\n",
    "model5_metrics = metrics.classification_report(y_test,y_pred)\n",
    "print(metrics.classification_report(y_test,y_pred))"
   ]
  },
  {
   "cell_type": "markdown",
   "metadata": {},
   "source": [
    "### TP, FP, TN, FN analysis"
   ]
  },
  {
   "cell_type": "code",
   "execution_count": 161,
   "metadata": {},
   "outputs": [
    {
     "name": "stdout",
     "output_type": "stream",
     "text": [
      "Total Test Cases: 50\n",
      "\n",
      "\n",
      "false positive: 4.0 %\n",
      "false negative: 2.0 %\n",
      "true negative: 57.99999999999999 %\n",
      "true positive: 36.0 %\n",
      "True positive sensitivity: 94.73684210526315%\n",
      "True negative sensitivity: 93.54838709677419%\n",
      "False positive sensitivity: 6.451612903225808%\n",
      "False negative sensitivity: 5.263157894736842%\n"
     ]
    }
   ],
   "source": [
    "true_positives5 =  0\n",
    "false_positives5 = 0\n",
    "true_negatives5 =  0\n",
    "false_negatives5 = 0\n",
    "\n",
    "tp_sensitivity5 = 0\n",
    "tn_sensitivity5 = 0\n",
    "fp_sensitivity5 = 0\n",
    "fn_sensitivity5 = 0\n",
    "\n",
    "\n",
    "for X, y in zip (X_test, y_test):\n",
    "    if (model5.predict([X])[0]) == 2 and y == 2:\n",
    "            true_negatives5+=1\n",
    "    elif (model5.predict([X])[0]) == 1 and y == 2:\n",
    "            false_negatives5+=1\n",
    "    elif (model5.predict([X])[0]) == 1 and y == 1:\n",
    "            true_positives5+=1\n",
    "    elif (model5.predict([X])[0]) == 2 and y == 1:\n",
    "            false_positives5+=1\n",
    "\n",
    "total = true_positives5 + false_positives5 + true_negatives5 + false_negatives5\n",
    "print(f\"Total Test Cases: {total}\\n\\n\")\n",
    "\n",
    "false_positives5 = false_positives5/total*100\n",
    "false_negatives5 = false_negatives5/total*100\n",
    "true_negatives5 = true_negatives5/total*100\n",
    "true_positives5 = true_positives5/total*100\n",
    "\n",
    "tp_sensitivity5 = (true_positives5/(true_positives5+false_negatives5)) * 100\n",
    "tn_sensitivity5 = (true_negatives5/(true_negatives5+false_positives5)) * 100\n",
    "fp_sensitivity5 = (false_positives5/(false_positives5 + true_negatives5)) * 100\n",
    "fn_sensitivity5 = (false_negatives5/(false_negatives5+true_positives5)) * 100\n",
    "\n",
    "\n",
    "print(f\"false positive: {false_positives5} %\")\n",
    "print(f\"false negative: {false_negatives5} %\")\n",
    "print(f\"true negative: {true_negatives5} %\")\n",
    "print(f\"true positive: {true_positives5} %\")\n",
    "\n",
    "print(f\"True positive sensitivity: {tp_sensitivity5}%\")    \n",
    "print(f\"True negative sensitivity: {tn_sensitivity5}%\")  \n",
    "print(f\"False positive sensitivity: {fp_sensitivity5}%\")  \n",
    "print(f\"False negative sensitivity: {fn_sensitivity5}%\")  "
   ]
  },
  {
   "cell_type": "markdown",
   "metadata": {},
   "source": [
    "## (Modelling 2.2)MLP"
   ]
  },
  {
   "cell_type": "code",
   "execution_count": 162,
   "metadata": {},
   "outputs": [
    {
     "name": "stdout",
     "output_type": "stream",
     "text": [
      "0.8\n"
     ]
    }
   ],
   "source": [
    "from sklearn.neural_network import MLPClassifier\n",
    "model6 = MLPClassifier(solver='sgd', max_iter=500000, hidden_layer_sizes=(10,20,30,35,45,30,40,50,20,10), random_state=42, epsilon=0.80)\n",
    "trained_model = model6.fit(X_train,y_train)\n",
    "print(trained_model.score(X_test, y_test))\n",
    "model_score6 = trained_model.score(X_test, y_test)"
   ]
  },
  {
   "cell_type": "code",
   "execution_count": 163,
   "metadata": {},
   "outputs": [
    {
     "name": "stdout",
     "output_type": "stream",
     "text": [
      "              precision    recall  f1-score   support\n",
      "\n",
      "           1       0.78      0.70      0.74        20\n",
      "           2       0.81      0.87      0.84        30\n",
      "\n",
      "    accuracy                           0.80        50\n",
      "   macro avg       0.80      0.78      0.79        50\n",
      "weighted avg       0.80      0.80      0.80        50\n",
      "\n"
     ]
    }
   ],
   "source": [
    "y_pred = model6.predict(X_test)\n",
    "model6_metrics = metrics.classification_report(y_test,y_pred)\n",
    "print(metrics.classification_report(y_test,y_pred))"
   ]
  },
  {
   "cell_type": "markdown",
   "metadata": {},
   "source": [
    "### TP, FP, TN, FN analysis"
   ]
  },
  {
   "cell_type": "code",
   "execution_count": 164,
   "metadata": {},
   "outputs": [
    {
     "name": "stdout",
     "output_type": "stream",
     "text": [
      "Total Test Cases: 50\n",
      "\n",
      "\n",
      "false positive: 12.0 %\n",
      "false negative: 8.0 %\n",
      "true negative: 52.0 %\n",
      "true positive: 28.000000000000004 %\n",
      "True positive sensitivity: 77.77777777777779%\n",
      "True negative sensitivity: 81.25%\n",
      "False positive sensitivity: 18.75%\n",
      "False negative sensitivity: 22.22222222222222%\n"
     ]
    }
   ],
   "source": [
    "true_positives6 =  0\n",
    "false_positives6 = 0\n",
    "true_negatives6 =  0\n",
    "false_negatives6 = 0\n",
    "\n",
    "tp_sensitivity6 = 0\n",
    "tn_sensitivity6 = 0\n",
    "fp_sensitivity6 = 0\n",
    "fn_sensitivity6 = 0\n",
    "\n",
    "\n",
    "for X, y in zip (X_test, y_test):\n",
    "    if (model6.predict([X])[0]) == 2 and y == 2:\n",
    "            true_negatives6+=1\n",
    "    elif (model6.predict([X])[0]) == 1 and y == 2:\n",
    "            false_negatives6+=1\n",
    "    elif (model6.predict([X])[0]) == 1 and y == 1:\n",
    "            true_positives6+=1\n",
    "    elif (model6.predict([X])[0]) == 2 and y == 1:\n",
    "            false_positives6+=1\n",
    "\n",
    "total = true_positives6 + false_positives6 + true_negatives6 + false_negatives6\n",
    "print(f\"Total Test Cases: {total}\\n\\n\")\n",
    "\n",
    "false_positives6 = false_positives6/total*100\n",
    "false_negatives6 = false_negatives6/total*100\n",
    "true_negatives6 = true_negatives6/total*100\n",
    "true_positives6 = true_positives6/total*100\n",
    "\n",
    "tp_sensitivity6 = (true_positives6/(true_positives6+false_negatives6)) * 100\n",
    "tn_sensitivity6 = (true_negatives6/(true_negatives6+false_positives6)) * 100\n",
    "fp_sensitivity6 = (false_positives6/(false_positives6 + true_negatives6)) * 100\n",
    "fn_sensitivity6 = (false_negatives6/(false_negatives6+true_positives6)) * 100\n",
    "\n",
    "\n",
    "print(f\"false positive: {false_positives6} %\")\n",
    "print(f\"false negative: {false_negatives6} %\")\n",
    "print(f\"true negative: {true_negatives6} %\")\n",
    "print(f\"true positive: {true_positives6} %\")\n",
    "\n",
    "\n",
    "print(f\"True positive sensitivity: {tp_sensitivity6 }%\")    \n",
    "print(f\"True negative sensitivity: {tn_sensitivity6}%\")  \n",
    "print(f\"False positive sensitivity: {fp_sensitivity6}%\")  \n",
    "print(f\"False negative sensitivity: {fn_sensitivity6}%\")  "
   ]
  },
  {
   "cell_type": "markdown",
   "metadata": {},
   "source": [
    "## Models result tables and metrics\n",
    "### Results table"
   ]
  },
  {
   "cell_type": "code",
   "execution_count": 165,
   "metadata": {},
   "outputs": [],
   "source": [
    "##display model results (tp,fp,tn,fn) and metrics on a table\n",
    "\n",
    "Results = {'Model name': ['Decision Trees(1.0)','Logistic Regression (1.0)','MLP(1.0)','Decision Trees(2.0)','Logistic Regression (2.0)','MLP(2.0)'],\n",
    "        'TP percentage': [true_positives1,true_positives2,true_positives3,true_positives4,true_positives5,true_positives6],\n",
    "           'TN percentage': [true_negatives1,true_negatives2,true_negatives3,true_negatives4,true_negatives5,true_negatives6],\n",
    "           'FP percentage': [false_positives1,false_positives2,false_positives3,false_positives4,false_positives5,false_positives6],\n",
    "           'FN percentage': [false_negatives1,false_negatives2,false_negatives3,false_negatives4,false_negatives5,false_negatives6],\n",
    "           'Model accuracy':[model_score1,model_score2,model_score3,model_score4,model_score5,model_score6]\n",
    "          }\n",
    "#from pandas import DataFrame\n",
    "Results_df = pd.DataFrame(Results, columns= ['Model name', 'TP percentage','TN percentage','FP percentage','FN percentage', 'Model accuracy'])"
   ]
  },
  {
   "cell_type": "code",
   "execution_count": 166,
   "metadata": {},
   "outputs": [
    {
     "data": {
      "text/html": [
       "<div>\n",
       "<style scoped>\n",
       "    .dataframe tbody tr th:only-of-type {\n",
       "        vertical-align: middle;\n",
       "    }\n",
       "\n",
       "    .dataframe tbody tr th {\n",
       "        vertical-align: top;\n",
       "    }\n",
       "\n",
       "    .dataframe thead th {\n",
       "        text-align: right;\n",
       "    }\n",
       "</style>\n",
       "<table border=\"1\" class=\"dataframe\">\n",
       "  <thead>\n",
       "    <tr style=\"text-align: right;\">\n",
       "      <th></th>\n",
       "      <th>Model name</th>\n",
       "      <th>TP percentage</th>\n",
       "      <th>TN percentage</th>\n",
       "      <th>FP percentage</th>\n",
       "      <th>FN percentage</th>\n",
       "      <th>Model accuracy</th>\n",
       "    </tr>\n",
       "  </thead>\n",
       "  <tbody>\n",
       "    <tr>\n",
       "      <th>0</th>\n",
       "      <td>Decision Trees(1.0)</td>\n",
       "      <td>36.0</td>\n",
       "      <td>64.0</td>\n",
       "      <td>0.0</td>\n",
       "      <td>0.0</td>\n",
       "      <td>1.00</td>\n",
       "    </tr>\n",
       "    <tr>\n",
       "      <th>1</th>\n",
       "      <td>Logistic Regression (1.0)</td>\n",
       "      <td>32.0</td>\n",
       "      <td>58.0</td>\n",
       "      <td>4.0</td>\n",
       "      <td>6.0</td>\n",
       "      <td>0.90</td>\n",
       "    </tr>\n",
       "    <tr>\n",
       "      <th>2</th>\n",
       "      <td>MLP(1.0)</td>\n",
       "      <td>28.0</td>\n",
       "      <td>52.0</td>\n",
       "      <td>8.0</td>\n",
       "      <td>12.0</td>\n",
       "      <td>0.80</td>\n",
       "    </tr>\n",
       "    <tr>\n",
       "      <th>3</th>\n",
       "      <td>Decision Trees(2.0)</td>\n",
       "      <td>38.0</td>\n",
       "      <td>60.0</td>\n",
       "      <td>2.0</td>\n",
       "      <td>0.0</td>\n",
       "      <td>0.98</td>\n",
       "    </tr>\n",
       "    <tr>\n",
       "      <th>4</th>\n",
       "      <td>Logistic Regression (2.0)</td>\n",
       "      <td>36.0</td>\n",
       "      <td>58.0</td>\n",
       "      <td>4.0</td>\n",
       "      <td>2.0</td>\n",
       "      <td>0.94</td>\n",
       "    </tr>\n",
       "    <tr>\n",
       "      <th>5</th>\n",
       "      <td>MLP(2.0)</td>\n",
       "      <td>28.0</td>\n",
       "      <td>52.0</td>\n",
       "      <td>12.0</td>\n",
       "      <td>8.0</td>\n",
       "      <td>0.80</td>\n",
       "    </tr>\n",
       "  </tbody>\n",
       "</table>\n",
       "</div>"
      ],
      "text/plain": [
       "                  Model name  TP percentage  TN percentage  FP percentage  \\\n",
       "0        Decision Trees(1.0)           36.0           64.0            0.0   \n",
       "1  Logistic Regression (1.0)           32.0           58.0            4.0   \n",
       "2                   MLP(1.0)           28.0           52.0            8.0   \n",
       "3        Decision Trees(2.0)           38.0           60.0            2.0   \n",
       "4  Logistic Regression (2.0)           36.0           58.0            4.0   \n",
       "5                   MLP(2.0)           28.0           52.0           12.0   \n",
       "\n",
       "   FN percentage  Model accuracy  \n",
       "0            0.0            1.00  \n",
       "1            6.0            0.90  \n",
       "2           12.0            0.80  \n",
       "3            0.0            0.98  \n",
       "4            2.0            0.94  \n",
       "5            8.0            0.80  "
      ]
     },
     "execution_count": 166,
     "metadata": {},
     "output_type": "execute_result"
    }
   ],
   "source": [
    "Results_df"
   ]
  },
  {
   "cell_type": "markdown",
   "metadata": {},
   "source": [
    "### Sensitivity table"
   ]
  },
  {
   "cell_type": "code",
   "execution_count": 167,
   "metadata": {},
   "outputs": [
    {
     "data": {
      "text/html": [
       "<div>\n",
       "<style scoped>\n",
       "    .dataframe tbody tr th:only-of-type {\n",
       "        vertical-align: middle;\n",
       "    }\n",
       "\n",
       "    .dataframe tbody tr th {\n",
       "        vertical-align: top;\n",
       "    }\n",
       "\n",
       "    .dataframe thead th {\n",
       "        text-align: right;\n",
       "    }\n",
       "</style>\n",
       "<table border=\"1\" class=\"dataframe\">\n",
       "  <thead>\n",
       "    <tr style=\"text-align: right;\">\n",
       "      <th></th>\n",
       "      <th>Model name</th>\n",
       "      <th>TP sensitivity</th>\n",
       "      <th>TN sensitivity</th>\n",
       "      <th>FP sensitivity</th>\n",
       "      <th>FN sensitivity</th>\n",
       "      <th>Model accuracy</th>\n",
       "    </tr>\n",
       "  </thead>\n",
       "  <tbody>\n",
       "    <tr>\n",
       "      <th>0</th>\n",
       "      <td>Decision Trees(1.0)</td>\n",
       "      <td>100.000000</td>\n",
       "      <td>100.000000</td>\n",
       "      <td>0.000000</td>\n",
       "      <td>0.000000</td>\n",
       "      <td>1.00</td>\n",
       "    </tr>\n",
       "    <tr>\n",
       "      <th>1</th>\n",
       "      <td>Logistic Regression (1.0)</td>\n",
       "      <td>84.210526</td>\n",
       "      <td>93.548387</td>\n",
       "      <td>6.451613</td>\n",
       "      <td>15.789474</td>\n",
       "      <td>0.90</td>\n",
       "    </tr>\n",
       "    <tr>\n",
       "      <th>2</th>\n",
       "      <td>MLP(1.0)</td>\n",
       "      <td>70.000000</td>\n",
       "      <td>86.666667</td>\n",
       "      <td>13.333333</td>\n",
       "      <td>30.000000</td>\n",
       "      <td>0.80</td>\n",
       "    </tr>\n",
       "    <tr>\n",
       "      <th>3</th>\n",
       "      <td>Decision Trees(2.0)</td>\n",
       "      <td>100.000000</td>\n",
       "      <td>96.774194</td>\n",
       "      <td>3.225806</td>\n",
       "      <td>0.000000</td>\n",
       "      <td>0.98</td>\n",
       "    </tr>\n",
       "    <tr>\n",
       "      <th>4</th>\n",
       "      <td>Logistic Regression (2.0)</td>\n",
       "      <td>94.736842</td>\n",
       "      <td>93.548387</td>\n",
       "      <td>6.451613</td>\n",
       "      <td>5.263158</td>\n",
       "      <td>0.94</td>\n",
       "    </tr>\n",
       "    <tr>\n",
       "      <th>5</th>\n",
       "      <td>MLP(2.0)</td>\n",
       "      <td>77.777778</td>\n",
       "      <td>81.250000</td>\n",
       "      <td>18.750000</td>\n",
       "      <td>22.222222</td>\n",
       "      <td>0.80</td>\n",
       "    </tr>\n",
       "  </tbody>\n",
       "</table>\n",
       "</div>"
      ],
      "text/plain": [
       "                  Model name  TP sensitivity  TN sensitivity  FP sensitivity  \\\n",
       "0        Decision Trees(1.0)      100.000000      100.000000        0.000000   \n",
       "1  Logistic Regression (1.0)       84.210526       93.548387        6.451613   \n",
       "2                   MLP(1.0)       70.000000       86.666667       13.333333   \n",
       "3        Decision Trees(2.0)      100.000000       96.774194        3.225806   \n",
       "4  Logistic Regression (2.0)       94.736842       93.548387        6.451613   \n",
       "5                   MLP(2.0)       77.777778       81.250000       18.750000   \n",
       "\n",
       "   FN sensitivity  Model accuracy  \n",
       "0        0.000000            1.00  \n",
       "1       15.789474            0.90  \n",
       "2       30.000000            0.80  \n",
       "3        0.000000            0.98  \n",
       "4        5.263158            0.94  \n",
       "5       22.222222            0.80  "
      ]
     },
     "execution_count": 167,
     "metadata": {},
     "output_type": "execute_result"
    }
   ],
   "source": [
    "Sensitivity = {'Model name': ['Decision Trees(1.0)','Logistic Regression (1.0)','MLP(1.0)','Decision Trees(2.0)','Logistic Regression (2.0)','MLP(2.0)'],\n",
    "        'TP sensitivity': [tp_sensitivity1,tp_sensitivity2,tp_sensitivity3,tp_sensitivity4,tp_sensitivity5,tp_sensitivity6],\n",
    "           'TN sensitivity': [tn_sensitivity1,tn_sensitivity2,tn_sensitivity3,tn_sensitivity4,tn_sensitivity5,tn_sensitivity6],\n",
    "           'FP sensitivity': [fp_sensitivity1,fp_sensitivity2,fp_sensitivity3,fp_sensitivity4,fp_sensitivity5,fp_sensitivity6],\n",
    "           'FN sensitivity': [fn_sensitivity1,fn_sensitivity2,fn_sensitivity3,fn_sensitivity4,fn_sensitivity5,fn_sensitivity6],\n",
    "           'Model accuracy':[model_score1,model_score2,model_score3,model_score4,model_score5,model_score6]\n",
    "          }\n",
    "\n",
    "Sensitivity_df = pd.DataFrame(Sensitivity, columns= ['Model name', 'TP sensitivity','TN sensitivity','FP sensitivity','FN sensitivity', 'Model accuracy'])\n",
    "Sensitivity_df"
   ]
  },
  {
   "cell_type": "code",
   "execution_count": null,
   "metadata": {},
   "outputs": [],
   "source": []
  },
  {
   "cell_type": "markdown",
   "metadata": {},
   "source": [
    "### Metrics Table (Hyperparameters)"
   ]
  },
  {
   "cell_type": "code",
   "execution_count": 168,
   "metadata": {},
   "outputs": [
    {
     "name": "stdout",
     "output_type": "stream",
     "text": [
      "DecisionTreeClassifier(ccp_alpha=0.0, class_weight=None, criterion='gini',\n",
      "                       max_depth=None, max_features=None, max_leaf_nodes=None,\n",
      "                       min_impurity_decrease=0.0, min_impurity_split=None,\n",
      "                       min_samples_leaf=1, min_samples_split=2,\n",
      "                       min_weight_fraction_leaf=0.0, presort='deprecated',\n",
      "                       random_state=100, splitter='best')\n"
     ]
    }
   ],
   "source": [
    "print(model1)"
   ]
  },
  {
   "cell_type": "code",
   "execution_count": 169,
   "metadata": {},
   "outputs": [
    {
     "name": "stdout",
     "output_type": "stream",
     "text": [
      "LogisticRegression(C=1.0, class_weight=None, dual=False, fit_intercept=True,\n",
      "                   intercept_scaling=1, l1_ratio=None, max_iter=10000,\n",
      "                   multi_class='auto', n_jobs=None, penalty='l2',\n",
      "                   random_state=None, solver='lbfgs', tol=0.0001, verbose=0,\n",
      "                   warm_start=False)\n"
     ]
    }
   ],
   "source": [
    "print(model2)"
   ]
  },
  {
   "cell_type": "code",
   "execution_count": 170,
   "metadata": {},
   "outputs": [
    {
     "name": "stdout",
     "output_type": "stream",
     "text": [
      "MLPClassifier(activation='relu', alpha=0.0001, batch_size='auto', beta_1=0.9,\n",
      "              beta_2=0.999, early_stopping=False, epsilon=0.8,\n",
      "              hidden_layer_sizes=(10, 20, 30, 35, 45, 30, 40, 50, 20, 10),\n",
      "              learning_rate='constant', learning_rate_init=0.001, max_fun=15000,\n",
      "              max_iter=500000, momentum=0.9, n_iter_no_change=10,\n",
      "              nesterovs_momentum=True, power_t=0.5, random_state=42,\n",
      "              shuffle=True, solver='sgd', tol=0.0001, validation_fraction=0.1,\n",
      "              verbose=False, warm_start=False)\n"
     ]
    }
   ],
   "source": [
    "print(model3)"
   ]
  },
  {
   "cell_type": "code",
   "execution_count": 171,
   "metadata": {},
   "outputs": [
    {
     "name": "stdout",
     "output_type": "stream",
     "text": [
      "DecisionTreeClassifier(ccp_alpha=0.0, class_weight=None, criterion='gini',\n",
      "                       max_depth=None, max_features=None, max_leaf_nodes=None,\n",
      "                       min_impurity_decrease=0.0, min_impurity_split=None,\n",
      "                       min_samples_leaf=1, min_samples_split=2,\n",
      "                       min_weight_fraction_leaf=0.0, presort='deprecated',\n",
      "                       random_state=100, splitter='best')\n"
     ]
    }
   ],
   "source": [
    "print(model4)"
   ]
  },
  {
   "cell_type": "code",
   "execution_count": 172,
   "metadata": {},
   "outputs": [
    {
     "name": "stdout",
     "output_type": "stream",
     "text": [
      "LogisticRegression(C=1.0, class_weight=None, dual=False, fit_intercept=True,\n",
      "                   intercept_scaling=1, l1_ratio=None, max_iter=10000,\n",
      "                   multi_class='auto', n_jobs=None, penalty='l2',\n",
      "                   random_state=None, solver='lbfgs', tol=0.0001, verbose=0,\n",
      "                   warm_start=False)\n"
     ]
    }
   ],
   "source": [
    "print(model5)"
   ]
  },
  {
   "cell_type": "code",
   "execution_count": 173,
   "metadata": {},
   "outputs": [
    {
     "name": "stdout",
     "output_type": "stream",
     "text": [
      "MLPClassifier(activation='relu', alpha=0.0001, batch_size='auto', beta_1=0.9,\n",
      "              beta_2=0.999, early_stopping=False, epsilon=0.8,\n",
      "              hidden_layer_sizes=(10, 20, 30, 35, 45, 30, 40, 50, 20, 10),\n",
      "              learning_rate='constant', learning_rate_init=0.001, max_fun=15000,\n",
      "              max_iter=500000, momentum=0.9, n_iter_no_change=10,\n",
      "              nesterovs_momentum=True, power_t=0.5, random_state=42,\n",
      "              shuffle=True, solver='sgd', tol=0.0001, validation_fraction=0.1,\n",
      "              verbose=False, warm_start=False)\n"
     ]
    }
   ],
   "source": [
    "print(model6)"
   ]
  },
  {
   "cell_type": "markdown",
   "metadata": {},
   "source": [
    "### Metrics table(Recall, Precision and support)"
   ]
  },
  {
   "cell_type": "code",
   "execution_count": 174,
   "metadata": {},
   "outputs": [],
   "source": [
    "#print(model1_metrics)"
   ]
  },
  {
   "cell_type": "code",
   "execution_count": 175,
   "metadata": {},
   "outputs": [],
   "source": [
    "#print(model2_metrics)"
   ]
  },
  {
   "cell_type": "code",
   "execution_count": 176,
   "metadata": {},
   "outputs": [],
   "source": [
    "#print(model3_metrics)"
   ]
  },
  {
   "cell_type": "code",
   "execution_count": 177,
   "metadata": {},
   "outputs": [],
   "source": [
    "#print(model4_metrics)"
   ]
  },
  {
   "cell_type": "code",
   "execution_count": 178,
   "metadata": {},
   "outputs": [],
   "source": [
    "#print(model5_metrics)"
   ]
  },
  {
   "cell_type": "code",
   "execution_count": 179,
   "metadata": {},
   "outputs": [],
   "source": [
    "#print(model6_metrics)"
   ]
  },
  {
   "cell_type": "code",
   "execution_count": null,
   "metadata": {},
   "outputs": [],
   "source": []
  }
 ],
 "metadata": {
  "kernelspec": {
   "display_name": "Python 3",
   "language": "python",
   "name": "python3"
  },
  "language_info": {
   "codemirror_mode": {
    "name": "ipython",
    "version": 3
   },
   "file_extension": ".py",
   "mimetype": "text/x-python",
   "name": "python",
   "nbconvert_exporter": "python",
   "pygments_lexer": "ipython3",
   "version": "3.7.3"
  }
 },
 "nbformat": 4,
 "nbformat_minor": 2
}
